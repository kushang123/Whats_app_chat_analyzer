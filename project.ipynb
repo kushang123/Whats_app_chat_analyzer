{
 "cells": [
  {
   "cell_type": "code",
   "execution_count": 30,
   "metadata": {
    "ExecuteTime": {
     "end_time": "2023-07-26T07:59:16.036236200Z",
     "start_time": "2023-07-26T07:59:15.921030200Z"
    }
   },
   "outputs": [],
   "source": [
    "import re\n",
    "import pandas as pd\n",
    "import numpy as np"
   ]
  },
  {
   "cell_type": "code",
   "execution_count": 31,
   "metadata": {
    "ExecuteTime": {
     "end_time": "2023-07-26T07:59:16.178408400Z",
     "start_time": "2023-07-26T07:59:15.929909900Z"
    }
   },
   "outputs": [],
   "source": [
    "f = open('WhatsApp Chat with Jaagrit Tiet.txt','r', encoding='utf-8')"
   ]
  },
  {
   "cell_type": "code",
   "execution_count": 32,
   "metadata": {
    "ExecuteTime": {
     "end_time": "2023-07-26T07:59:16.178408400Z",
     "start_time": "2023-07-26T07:59:15.932112700Z"
    }
   },
   "outputs": [],
   "source": [
    "data = f.read()"
   ]
  },
  {
   "cell_type": "code",
   "execution_count": 33,
   "metadata": {
    "ExecuteTime": {
     "end_time": "2023-07-26T07:59:16.178408400Z",
     "start_time": "2023-07-26T07:59:15.949020800Z"
    }
   },
   "outputs": [
    {
     "name": "stdout",
     "output_type": "stream",
     "text": [
      "03/01/2022, 21:59 - Messages and calls are end-to-end encrypted. No one outside of this chat, not even WhatsApp, can read or listen to them. Tap to learn more.\n",
      "03/01/2022, 21:59 - Kushang Garg: <Media omitted>\n",
      "03/01/2022, 21:59 - Kushang Garg: <Media omitted>\n",
      "03/01/2022, 21:59 - Kushang Garg: Bhai iska 3 nd 4part btaiyo\n",
      "03/01/2022, 22:00 - Jaagrit Tiet: 10 min\n",
      "03/01/2022, 22:00 - Kushang Garg: Ok\n",
      "03/01/2022, 22:12 - Jaagrit Tiet: c ki value toh bta\n",
      "03/01/2022, 22:12 - Kushang Garg: 6\n",
      "03/01/2022, 22:13 - Jaagrit Tiet: ok\n",
      "03/01/2022, 22:15 - Jaagrit Tiet: <Media omitted>\n",
      "03/01/2022, 22:15 - Jaagrit Tiet: 3\n",
      "03/01/2022, 22:16 - Jaagrit Tiet: 4 part toh conditional ka hai\n",
      "03/01/2022, 22:17 - Jaagrit Tiet: bhej deta hoon krke\n",
      "03/01/2022, 22:17 - Kushang Garg: vo bhi aise hi hoga?\n",
      "03/01/2022, 22:17 - Jaagrit Tiet: pr dhayad course me nhi hai\n",
      "03/01/2022, 22:17 - Jaagrit Tiet: thoda sa alag\n",
      "03/01/2022, 22:18 - Jaagrit Tiet: <Media omitted>\n",
      "03/01/2022, 22:19 - Jaagrit Tiet: numerator phele jaise calculate krlio bs\n",
      "03/01/2022, 22:19 - Kushang Garg: okk\n",
      "23/02/2022, 12:27 - Kushang Garg: <Media omitted>\n",
      "23/02/2022, 12:27 - Kushang Garg: <Media omitted>\n",
      "23/02/2022, 12:28 - Kushang Garg: <Media omitted>\n",
      "23/02/2022, 12:28 - Kushang Garg: <Media omitted>\n",
      "23/02/2022, 15:41 - Kushang Garg: Kitne bcche ha??\n",
      "23/02/2022, 13:52 - Jaagrit Tiet: bhai os lab khn lgti hai\n",
      "23/02/2022, 15:50 - Jaagrit Tiet: 10\n",
      "23/02/2022, 15:50 - Kushang Garg: Kitni der mei ovr hogii\n",
      "23/02/2022, 15:51 - Jaagrit Tiet: 30mun\n",
      "01/03/2022, 22:33 - Jaagrit Tiet: clc\n",
      "clear\n",
      "A = [1,2;1,1;1,-2];\n",
      "B = [10 ; 6 ; 1];\n",
      "\n",
      "p = max(B);\n",
      "x1 = 0:1:p;\n",
      "x12 = (B(1) - A(1,1) .*x1) ./A(1,2);\n",
      "x22 = (B(2) - A(2,1) .*x1) ./A(2,2);\n",
      "x32 = (B(3) - A(3,1) .*x1) ./A(3,2);\n",
      "x12 = max(0,x12);\n",
      "x22 = max(0,x22);\n",
      "x32 = max(0,x32);\n",
      "plot(x1,x12,'r',x1,x22,'b',x1,x32,'g')\n",
      "title('x1 vs x2')\n",
      "xlabel('value of x1')\n",
      "ylabel('value of x2')\n",
      "\n",
      "\n",
      "cx1=find(x1==0);\n",
      "c1=find(x12==0);\n",
      "Line1=[x1(:,[c1 cx1]) ; x12(:,[c1 cx1])]';\n",
      "c2=find(x22==0);\n",
      "Line2=[x1(:,[c2 cx1]) ; x12(:,[c2 cx1])]';\n",
      "c3=find(x32==0);\n",
      "Line3=[x1(:,[c3 cx1]) ; x12(:,[c3 cx1])]';\n",
      "corpt=unique([Line1;Line2;Line3],'rows')\n",
      "\n",
      "\n",
      "pt=[0;0];\n",
      "for i=1:size(A,1)\n",
      "    A1=A(i,:);\n",
      "    B1=B(i,:);\n",
      "    for j=i+1 : size(A,1)\n",
      "        A2=A(j,:);\n",
      "        B2=B(j,:);\n",
      "        A4=[A1;A2];\n",
      "        B4=[B1;B2];\n",
      "        X=A4\\B4;\n",
      "        pt=[pt X];\n",
      "    end\n",
      "\n",
      "end\n",
      "ptt = pt';\n",
      "\n",
      "\n",
      "allpt=[ptt;corpt]\n",
      "points=unique(allpt,'rows')\n",
      "\n",
      "PT=constraint(points)\n",
      "P=unique(PT,'rows')\n",
      "01/03/2022, 22:33 - Jaagrit Tiet: function output=constraint(x)\n",
      "format rat\n",
      "x\n",
      "x1=x(:,1)\n",
      "x2=x(:,2)\n",
      "cons1=round((x1+(2.*x2)-10))\n",
      "s1=find(cons1>0)\n",
      "x(s1,:)=[]\n",
      "\n",
      "x1=x(:,1)\n",
      "x2=x(:,2)\n",
      "cons2 =round((x1+x2-6))\n",
      "s2=find(cons2>0)\n",
      "x(s2,:)=[]\n",
      "\n",
      "x1=x(:,1)\n",
      "x2=x(:,2)\n",
      "cons3 =round((x1-(2 .*x2)-1))\n",
      "s3=find(cons3>0)\n",
      "x(s3,:)=[]\n",
      "\n",
      "output=x\n",
      "end\n",
      "01/03/2022, 22:34 - Jaagrit Tiet: ye alag file bnegi constraint.m ke naam se\n",
      "01/03/2022, 22:34 - Jaagrit Tiet: <Media omitted>\n",
      "01/03/2022, 22:34 - Jaagrit Tiet: ye LPP1.m hai\n",
      "08/03/2022, 23:16 - Kushang Garg: Bhaii jaag raha?\n",
      "08/03/2022, 23:16 - Kushang Garg: Kuch puchna tha\n",
      "08/03/2022, 23:16 - Jaagrit Tiet: hn\n",
      "08/03/2022, 23:16 - Kushang Garg: Call kruu\n",
      "08/03/2022, 23:16 - Kushang Garg: ?\n",
      "08/03/2022, 23:16 - Jaagrit Tiet: hn hn\n",
      "16/03/2022, 11:30 - Jaagrit Tiet: https://bhailang.js.org\n",
      "04/04/2022, 15:14 - Jaagrit Tiet: https://www.linkedin.com/posts/raghav-mittal-2a51ba22a_activity-6916672800510423040-CZ7-?utm_source=linkedin_share&utm_medium=android_app\n",
      "20/04/2022, 14:22 - Kushang Garg: Bhai big m ka code bhejde\n",
      "20/04/2022, 14:37 - Jaagrit Tiet: big m nhi hai\n",
      "20/04/2022, 14:37 - Jaagrit Tiet: two phase hai\n",
      "20/04/2022, 14:37 - Jaagrit Tiet: <Media omitted>\n",
      "20/04/2022, 14:37 - Jaagrit Tiet: <Media omitted>\n",
      "04/05/2022, 10:34 - Kushang Garg: Bhai tere grp ko mam bula rhi h\n",
      "04/05/2022, 10:34 - Jaagrit Tiet: grp wale so rhe hai?\n",
      "04/05/2022, 12:11 - Jaagrit Tiet: %max z =-2x1-x2\n",
      "%s/t 3x1+x2=3\n",
      " %  4x1+3x2>=6\n",
      " %  x1+2x2<=3\n",
      " %  x1+2x2<=3\n",
      " %x1,x2>=0\n",
      "\n",
      " clc\n",
      " clear all\n",
      " format short\n",
      " variables={'x1','x2','s1','s2','A1','A2','sol'};\n",
      " M = 1000;\n",
      " cost = [-2 -1 0 0 -M -M 0];\n",
      " A = [3 1 0 0 1 0 3; 4 3 -1 0 0 1 6; 1 2 0 1 0 0 3]\n",
      " s = eye(size(A,1));\n",
      "\n",
      " BV=[];\n",
      " for j=1:size(s,2)\n",
      "     for i=1:size(A,2)\n",
      "         if A(:,i) == s(:,j)\n",
      "             BV = [BV i];\n",
      "         end\n",
      "     end\n",
      " end\n",
      "zjcj = cost(BV)*A -cost\n",
      "%print table\n",
      "zcj = [zjcj;A];\n",
      "Simptable = array2table(zcj);\n",
      "Simptable.Properties.VariableNames(1:size(zcj,2))= variables\n",
      "%Finding entering variable\n",
      "Run=true\n",
      "while Run\n",
      "zc = zjcj(:,1:end-1);\n",
      "if any (zc<0)\n",
      "    fprintf(\"The current BFS not optimal\\n\");\n",
      "    [EnterCol,Pvt_Col]=min(zc)\n",
      "    fprintf('Entering Column is %d\\n',Pvt_Col)\n",
      "\n",
      "%To find the leaving Variable\n",
      "\n",
      " sol=A(:,end)\n",
      " Column=A(:,Pvt_Col)\n",
      " if all (Column<=0)\n",
      "     fprintf(\"Solution is unbounded\")\n",
      " else\n",
      "     for i=1:size(Column,1)\n",
      "         if Column(i)>0\n",
      "             ratio(i)=sol(i)./Column(i);\n",
      "         else\n",
      "             ratio(i)=inf;\n",
      "         end\n",
      "     end\n",
      "     [MinRatio, Pvt_Row]=min(ratio);\n",
      "     fprintf('Leaving row is %d \\n',Pvt_Row);\n",
      " end\n",
      " BV(Pvt_Row)=Pvt_Col\n",
      " disp('New Basic Variable (BV) =')\n",
      " disp(BV)\n",
      " Pvt_Key=A(Pvt_Row,Pvt_Col)\n",
      " %update table for next iteration\n",
      " A(Pvt_Row,:)=A(Pvt_Row,:)./Pvt_Key\n",
      " for i=1:size(A,1)\n",
      "     if i~=Pvt_Row\n",
      "         A(i,:)=A(i,:)-A(i,Pvt_Col).*A(Pvt_Row,:)\n",
      "     end\n",
      " end\n",
      " zjcj = cost(BV)*A -cost\n",
      " zcj = [zjcj;A];\n",
      " Table = array2table(zcj);\n",
      " Table.Properties.VariableNames(1:size(zcj,2)) = variables\n",
      "else\n",
      "    Run = false\n",
      "    fprintf('The current BFS is optimal')\n",
      "end\n",
      "end\n",
      "04/05/2022, 14:38 - Kushang Garg: bhai dual simplex ka code h?\n",
      "05/05/2022, 22:54 - Kushang Garg: %To find the basic feasible solution of the given LPP\n",
      "%Max = x1+2x2-x3+x4\n",
      "%s/t\n",
      "%x1+x2-x3+3x4=15\n",
      "%5x1+x2+4x3+15x4=12\n",
      "%x1,x2,x3,x4>=0\n",
      "clc\n",
      "clear all\n",
      "format short\n",
      "% Phase 1: Input parameters\n",
      "A = [1 1 -1 3;5 1 4 15]\n",
      "C = [1 2 -1 1]\n",
      "b = [15; 12]\n",
      "% Phase 2: To define number of variables and constraints\n",
      "n = size(A,2)\n",
      "m = size(A,1)\n",
      "% Phase 3: To choose nCm basic solutions\n",
      "if(n>m)\n",
      "nCm = nchoosek(n,m)\n",
      "pair = nchoosek(1:n,m)\n",
      "\n",
      "% Phase 4 & 5: To construct basis and to find basic feasable solutions\n",
      "sol = []\n",
      "for i = 1:nCm \n",
      "    y = zeros(n,1)\n",
      "    x = A(:, pair(i,:))\\b\n",
      "    if all(x>=0 & x~=inf & x~=-inf)\n",
      "        y(pair(i,:))=x\n",
      "        sol = [sol, y]\n",
      "    end\n",
      "end\n",
      "else\n",
      "    error('nCm does not exist')\n",
      "end\n",
      "% Phase 6: To find the objective function Value\n",
      "z = C*sol\n",
      "% To FInd the Optimal Value \n",
      "[zmax, zindex] = max(z)\n",
      "BFSa = sol(:,zindex)\n",
      "% To Print all the solutions \n",
      "optimal_value = [BFSa', zmax]\n",
      "optimal_bfs = array2table(optimal_value)\n",
      "optimal_bfs.Properties.VariableNames(1:size(optimal_bfs,2)) = {'x1', 'x2','x3', 'x4', 'z'}\n",
      "12/05/2022, 22:27 - Jaagrit Tiet: bhai nhi ho rhe solve\n",
      "12/05/2022, 22:27 - Jaagrit Tiet: 4 code se try krliya maine\n",
      "12/05/2022, 22:28 - Kushang Garg: dono hi ni ho rhe?\n",
      "12/05/2022, 22:29 - Jaagrit Tiet: nhi\n",
      "12/05/2022, 22:29 - Kushang Garg: ab phr kya kree?\n",
      "12/05/2022, 22:29 - Jaagrit Tiet: chd dete hai fir\n",
      "12/05/2022, 22:29 - Jaagrit Tiet: ques glt lg rhe hai mujhe\n",
      "12/05/2022, 22:30 - Kushang Garg: ek brr sidd ko bhi kha the maine usse puchta hu\n",
      "12/05/2022, 22:30 - Jaagrit Tiet: puchle baaki lgta nhi hua hoga\n",
      "14/05/2022, 17:51 - Kushang Garg: <Media omitted>\n",
      "14/05/2022, 17:52 - Kushang Garg: <Media omitted>\n",
      "14/05/2022, 18:56 - Kushang Garg: <Media omitted>\n",
      "14/05/2022, 18:56 - Kushang Garg: <Media omitted>\n",
      "14/05/2022, 23:25 - Kushang Garg: <Media omitted>\n",
      "14/05/2022, 23:56 - Kushang Garg: <Media omitted>\n",
      "14/05/2022, 23:58 - Kushang Garg: Bhai ab chkk kriyo\n",
      "23/05/2022, 10:59 - Kushang Garg: Bhai hogya Tera eval ???\n",
      "23/05/2022, 11:18 - Jaagrit Tiet: hn hogya\n",
      "23/05/2022, 11:27 - Kushang Garg: Kaisa rha?\n",
      "23/05/2022, 11:27 - Jaagrit Tiet: bhai le rhi hai\n",
      "23/05/2022, 11:27 - Jaagrit Tiet: wo bhi style se\n",
      "23/05/2022, 11:28 - Kushang Garg: Kitna time le rhi ek grp prr\n",
      "23/05/2022, 11:28 - Jaagrit Tiet: 7-15 min\n",
      "23/05/2022, 11:28 - Jaagrit Tiet: depending on project\n",
      "23/05/2022, 11:28 - Kushang Garg: Code mei se bhi que puch rhi h?\n",
      "23/05/2022, 11:28 - Kushang Garg: Bs1 puura hogya?\n",
      "23/05/2022, 11:28 - Jaagrit Tiet: agar usse doubt hota hai toh\n",
      "23/05/2022, 11:28 - Jaagrit Tiet: na\n",
      "23/05/2022, 11:28 - Jaagrit Tiet: 2 groups reh rhe hai\n",
      "23/05/2022, 11:29 - Jaagrit Tiet: 12:30 tk aa skte tum\n",
      "23/05/2022, 11:29 - Kushang Garg: Er se match krr rhe ha??\n",
      "23/05/2022, 11:29 - Jaagrit Tiet: nhi\n",
      "04/06/2022, 10:51 - Jaagrit Tiet: <Media omitted>\n",
      "01/08/2022, 00:22 - Kushang Garg: Bhai aur kitne loogo k message aagye😂\n",
      "01/08/2022, 00:22 - Kushang Garg: Sunnu hai kuch logo ki to video call bhi aai h😏😏\n",
      "01/08/2022, 00:23 - Kushang Garg: Sunna*\n",
      "01/08/2022, 00:26 - Jaagrit Tiet: <Media omitted>\n",
      "09/08/2022, 11:09 - Jaagrit Tiet: <Media omitted>\n",
      "09/08/2022, 11:09 - Jaagrit Tiet: lost in woods\n",
      "09/08/2022, 11:10 - Jaagrit Tiet: group pe thodi der me daalenge\n",
      "09/08/2022, 11:10 - Kushang Garg: Ok\n",
      "24/08/2022, 10:38 - Kushang Garg: Bhai bhalla lift mei hai usse krna\n",
      "24/08/2022, 10:39 - Kushang Garg: Vo samne hai hmare\n",
      "24/08/2022, 12:21 - Jaagrit Tiet: <Media omitted>\n",
      "25/08/2022, 23:31 - Kushang Garg: Bhai kll class 8 50 pe hai yaa 9 40 pe ??\n",
      "25/08/2022, 23:32 - Jaagrit Tiet: 9:40\n",
      "29/08/2022, 11:15 - Jaagrit Tiet: Missed voice call\n",
      "29/08/2022, 11:15 - Jaagrit Tiet: bhai\n",
      "29/08/2022, 11:15 - Jaagrit Tiet: kya keh rhi hai ye\n",
      "29/08/2022, 11:15 - Jaagrit Tiet: krna ki aa,,\n",
      "29/08/2022, 11:16 - Kushang Garg: Chill\n",
      "29/08/2022, 11:16 - Kushang Garg: Timepass\n",
      "29/08/2022, 11:16 - Jaagrit Tiet: pta lgge mam khade krke puch rhi aa\n",
      "29/08/2022, 11:17 - Kushang Garg: Vaise que yeh hai ki tumhari motivation kya hai thapar mei padhne kii\n",
      "29/08/2022, 11:17 - Jaagrit Tiet: <Media omitted>\n",
      "29/08/2022, 11:17 - Jaagrit Tiet: thapar\n",
      "29/08/2022, 11:17 - Jaagrit Tiet: 🤣😂\n",
      "29/08/2022, 12:23 - Kushang Garg: Bhai tu lab miss krega na apni business kii\n",
      "29/08/2022, 12:23 - Kushang Garg: ??\n",
      "29/08/2022, 12:23 - Jaagrit Tiet: 🐥\n",
      "29/08/2022, 12:23 - Kushang Garg: Ha yaa Naa??\n",
      "29/08/2022, 12:23 - Jaagrit Tiet: 🐥\n",
      "29/08/2022, 12:24 - Kushang Garg: Apni shakal kyo bhej rha hai har bar\n",
      "29/08/2022, 12:24 - Jaagrit Tiet: 🐔\n",
      "29/08/2022, 12:24 - Kushang Garg: Bhai keyboard me alphabets vi hai\n",
      "29/08/2022, 12:24 - Jaagrit Tiet: 👀\n",
      "29/08/2022, 12:25 - Kushang Garg: 👟👟👟\n",
      "29/08/2022, 12:25 - Jaagrit Tiet: 😵‍💫\n",
      "29/08/2022, 12:25 - Kushang Garg: 👨‍👦‍👦\n",
      "29/08/2022, 12:25 - Jaagrit Tiet: ☠️\n",
      "29/08/2022, 12:25 - Kushang Garg: 🥷\n",
      "29/08/2022, 12:26 - Jaagrit Tiet: 🐸\n",
      "29/08/2022, 12:26 - Kushang Garg: 🐭\n",
      "29/08/2022, 12:26 - Jaagrit Tiet: 😎\n",
      "29/08/2022, 12:26 - Kushang Garg: Oye time pass mtt kr\n",
      "29/08/2022, 12:26 - Jaagrit Tiet: 🐼\n",
      "29/08/2022, 12:26 - Kushang Garg: Btaa\n",
      "29/08/2022, 12:26 - Jaagrit Tiet: 🐻‍❄\n",
      "29/08/2022, 12:26 - Kushang Garg: Tu Arnav ko kuch aur bol rha\n",
      "29/08/2022, 12:27 - Jaagrit Tiet: 🦁\n",
      "29/08/2022, 12:27 - Jaagrit Tiet: 🥚\n",
      "29/08/2022, 12:27 - Jaagrit Tiet: 🐣\n",
      "29/08/2022, 12:27 - Jaagrit Tiet: 🐤\n",
      "29/08/2022, 12:27 - Jaagrit Tiet: 🐥\n",
      "29/08/2022, 12:30 - Kushang Garg: 🦆\n",
      "29/08/2022, 12:30 - Kushang Garg: 🦅\n",
      "29/08/2022, 12:30 - Kushang Garg: 🦉\n",
      "29/08/2022, 12:30 - Kushang Garg: 🐺\n",
      "29/08/2022, 12:30 - Jaagrit Tiet: 🐘\n",
      "29/08/2022, 12:31 - Kushang Garg: <Media omitted>\n",
      "29/08/2022, 12:31 - Jaagrit Tiet: <Media omitted>\n",
      "29/08/2022, 12:31 - Jaagrit Tiet: <Media omitted>\n",
      "29/08/2022, 12:31 - Kushang Garg: Bhai tu lab mei krr kya rha\n",
      "29/08/2022, 12:31 - Kushang Garg: Code ni krr rhw\n",
      "29/08/2022, 12:31 - Jaagrit Tiet: <Media omitted>\n",
      "29/08/2022, 12:31 - Jaagrit Tiet: bnd computer pe kaam\n",
      "29/08/2022, 12:31 - Kushang Garg: 😂\n",
      "29/08/2022, 12:31 - Jaagrit Tiet: <Media omitted>\n",
      "29/08/2022, 12:32 - Jaagrit Tiet: <Media omitted>\n",
      "29/08/2022, 12:32 - Kushang Garg: Bhai mam hai ni kya??\n",
      "29/08/2022, 12:32 - Jaagrit Tiet: <Media omitted>\n",
      "29/08/2022, 12:32 - Jaagrit Tiet: <Media omitted>\n",
      "29/08/2022, 12:33 - Jaagrit Tiet: <Media omitted>\n",
      "29/08/2022, 12:33 - Jaagrit Tiet: <Media omitted>\n",
      "29/08/2022, 12:33 - Jaagrit Tiet: <Media omitted>\n",
      "29/08/2022, 12:33 - Jaagrit Tiet: <Media omitted>\n",
      "29/08/2022, 12:33 - Kushang Garg: <Media omitted>\n",
      "29/08/2022, 12:34 - Jaagrit Tiet: <Media omitted>\n",
      "29/08/2022, 12:34 - Kushang Garg: <Media omitted>\n",
      "29/08/2022, 12:34 - Jaagrit Tiet: <Media omitted>\n",
      "29/08/2022, 12:35 - Jaagrit Tiet: <Media omitted>\n",
      "29/08/2022, 12:35 - Jaagrit Tiet: <Media omitted>\n",
      "29/08/2022, 12:35 - Jaagrit Tiet: <Media omitted>\n",
      "29/08/2022, 12:35 - Jaagrit Tiet: <Media omitted>\n",
      "30/08/2022, 17:25 - Kushang Garg: the state of expecting or believing that bad things will happen and that something will not be successful.A pessimistic person is one who is often seen as lacking hope and joy\n",
      "•\t For example:  A person going to a party assumes the event will be boring or inappropriate.\n",
      "•\tA person interviewing for a job believes the interview will be unsuccessful or that the job will be given to someone else for reasons unrelated to interview performance\n",
      "30/08/2022, 17:26 - Kushang Garg: yeh theek hai plessmism ke liye examples?\n",
      "30/08/2022, 18:19 - Kushang Garg: There has been much research done on the topic of personality traits and perceived stress, specifically that those who are high in neuroticism are more likely to perceive life events as highly stressful while those high in extraversion are less likely to perceive life events as stressful\n",
      "30/08/2022, 18:19 - Kushang Garg: yeh point add kr skte hai conclusion mei\n",
      "30/08/2022, 18:20 - Kushang Garg: iski wording change krke add krdenge\n",
      "30/08/2022, 22:00 - Jaagrit Tiet: Pessimism is positively correlated with neuroticism and inversely correlated with other Big 5 personality traits\n",
      "Researches has revealed that levels of stress and pessimism are correlated.\n",
      "30/08/2022, 22:00 - Jaagrit Tiet: yele graph wala content\n",
      "30/08/2022, 22:03 - Jaagrit Tiet: data from kaggle dataset used python to plot it  (agar mam source pooche toh.)\n",
      "05/09/2022, 23:39 - Jaagrit Tiet: Linear Regression\n",
      "SVR\n",
      "Logistic Regression\n",
      "Decision Tree regression\n",
      "10/09/2022, 22:13 - Kushang Garg: bhai vo link bhejde smajhna tha\n",
      "10/09/2022, 22:13 - Jaagrit Tiet: are bhool gya tha\n",
      "10/09/2022, 22:13 - Jaagrit Tiet: ruk bhejta hoon\n",
      "10/09/2022, 22:14 - Jaagrit Tiet: <Media omitted>\n",
      "10/09/2022, 22:14 - Jaagrit Tiet: <Media omitted>\n",
      "10/09/2022, 22:15 - Jaagrit Tiet: link me 2 min me bhej rha hoon dhoond ke\n",
      "10/09/2022, 22:15 - Kushang Garg: ok\n",
      "10/09/2022, 22:15 - Jaagrit Tiet: <Media omitted>\n",
      "10/09/2022, 22:15 - Jaagrit Tiet: <Media omitted>\n",
      "10/09/2022, 22:22 - Jaagrit Tiet: bhai shayad data magic krke tha\n",
      "10/09/2022, 22:22 - Jaagrit Tiet: jisse maine kiya tha kbhi\n",
      "11/09/2022, 10:15 - Jaagrit Tiet: <Media omitted>\n",
      "11/09/2022, 11:23 - Kushang Garg: <Media omitted>\n",
      "11/09/2022, 11:24 - Kushang Garg: bhai yeh dataset chl ja\n",
      "11/09/2022, 11:24 - Kushang Garg: chalega*\n",
      "11/09/2022, 11:24 - Jaagrit Tiet: bhai corr bhej\n",
      "11/09/2022, 11:25 - Jaagrit Tiet: ya dataset ka link\n",
      "11/09/2022, 11:25 - Jaagrit Tiet: aise toh nhi pta chlega\n",
      "11/09/2022, 11:25 - Kushang Garg: bhejta hu\n",
      "11/09/2022, 11:25 - Kushang Garg: kaggle\n",
      "11/09/2022, 11:28 - Kushang Garg: <Media omitted>\n",
      "11/09/2022, 11:38 - Kushang Garg: https://www.kaggle.com/datasets/noordeen/insurance-premium-prediction\n",
      "11/09/2022, 11:38 - Kushang Garg: yeh wala dekhio ek brr\n",
      "11/09/2022, 11:53 - Jaagrit Tiet: hn\n",
      "11/09/2022, 11:53 - Jaagrit Tiet: kr skta hai\n",
      "11/09/2022, 11:54 - Kushang Garg: ismei normalize krne ki zaroorat h?\n",
      "11/09/2022, 11:54 - Jaagrit Tiet: bhai wo toh aise nhi pta chlega\n",
      "11/09/2022, 11:54 - Jaagrit Tiet: ek baar regression lga ke dekhle\n",
      "11/09/2022, 11:55 - Jaagrit Tiet: results aange toh pta chlega\n",
      "11/09/2022, 11:55 - Kushang Garg: smoker nd sex vale column ko 0 1 krne ka socha tha\n",
      "11/09/2022, 11:55 - Jaagrit Tiet: hn woh toh krde\n",
      "11/09/2022, 11:55 - Jaagrit Tiet: usse label encoding bolte hai\n",
      "11/09/2022, 11:55 - Kushang Garg: hmm\n",
      "11/09/2022, 13:15 - Kushang Garg: <Media omitted>\n",
      "11/09/2022, 13:16 - Kushang Garg: <Media omitted>\n",
      "11/09/2022, 14:02 - Kushang Garg: bhai call krioo jab free hoo\n",
      "11/09/2022, 14:57 - Jaagrit Tiet: hn\n",
      "11/09/2022, 15:54 - Kushang Garg: <Media omitted>\n",
      "11/09/2022, 15:55 - Jaagrit Tiet: bhai nhi hai outlier\n",
      "12/09/2022, 18:56 - Kushang Garg: #include <bits/stdc++.h>\n",
      "using namespace std;\n",
      "struct activity{\n",
      "\tint id;\n",
      "\tint deadline;\n",
      "\tint profit;\n",
      "};\n",
      "bool sort_arr(activity a, activity b){\n",
      "\treturn (a.profit>b.profit);\n",
      "}\n",
      "\n",
      "int main(){\n",
      "\tstruct activity arr[4];\n",
      "\tint max;\n",
      "\tint n=4;\n",
      "for(int i = 0;i<n;i++){\n",
      "\t\tcin>>activity[i].deadline;\n",
      "\t\tcin>>activity[i].profit;\n",
      "\t\tcout<<endl;\n",
      "\t\tactivity[i].id=i+1;\n",
      "\t}\n",
      "\tsort(arr,arr+n,sort_arr);\n",
      "\tmax =arr[0].profit;\n",
      "\tint k = 1;\n",
      "\tfor(int i =1 ;i<4;i++){\n",
      "\t\tif(arr[i].deadline>k){\n",
      "\t\t\tmax = max+arr[i].profit;\n",
      "\t\t\tk++;\n",
      "\t\t}\n",
      "\t}\n",
      "\treturn max;\n",
      "\t\n",
      "}\n",
      "12/09/2022, 18:56 - Kushang Garg: <Media omitted>\n",
      "12/09/2022, 18:58 - Jaagrit Tiet: bhai arr[i].deadline aaega\n",
      "12/09/2022, 18:58 - Jaagrit Tiet: activity[i] nhi\n",
      "12/09/2022, 18:58 - Kushang Garg: ohhh\n",
      "12/09/2022, 18:58 - Kushang Garg: thanxx\n",
      "12/09/2022, 18:59 - Jaagrit Tiet: np\n",
      "12/09/2022, 23:06 - Kushang Garg: #include<iostream>\n",
      "#include <bits/stdc++.h>\n",
      "using namespace std;\n",
      "struct job\n",
      "{\n",
      "\tint st;\n",
      "\tint ft;\n",
      "\tint actno;\n",
      "};\n",
      "\n",
      "bool activityCompare(job s1, job s2)\n",
      "{\n",
      "    return (s1.ft < s2.ft);\n",
      "}\n",
      "int main(){\n",
      "\t\tstruct job activity[6];\n",
      "\t\tint n = 6;\n",
      "\tfor(int i = 0;i<n;i++){\n",
      "\t\tcin>>activity[i].st;\n",
      "\t\tcin>>activity[i].ft;\n",
      "\t\tcout<<endl;\n",
      "\t\tactivity[i].actno=i+1;\n",
      "\t}\n",
      "\tcout<<\"Start time\"<<\" \"<<\"End Time\"<<\" \"<<\"Activity no.\"<<endl;\n",
      "\tfor(int i= 0 ;i<n;i++){\n",
      "\t\tcout<<activity[i].st<<\"             \"<<activity[i].ft<<\"         \"<<activity[i].actno<<endl;\n",
      "\t}\n",
      "\tsort(activity, activity+n, activityCompare);\n",
      "\t\tcout<<\"Start time\"<<\" \"<<\"End Time\"<<\" \"<<\"Activity no.\"<<endl;\n",
      "\tfor(int i= 0 ;i<n;i++){\n",
      "\t\tcout<<activity[i].st<<\"             \"<<activity[i].ft<<\"         \"<<activity[i].actno<<endl;\n",
      "\t}\n",
      "\tint flag = activity[0].ft;\n",
      "\tvector<int> solution;\n",
      "\tsolution.push_back(activity[0].actno);\n",
      "\tfor(int i = 0;i<n;i++){\n",
      "\t\tif(activity[i].st>=flag){\n",
      "\t\t\tsolution.push_back(activity[i].actno);\n",
      "\t\t\tflag = activity[i].ft;\n",
      "\t\t}\n",
      "\t}\n",
      "\t\n",
      "\t\n",
      "\t\n",
      "\t\n",
      "\t\n",
      "}\n",
      "13/09/2022, 10:33 - Kushang Garg: Aaja bhai aatendance ho rhi h\n",
      "19/09/2022, 21:51 - Kushang Garg: <Media omitted>\n",
      "19/09/2022, 21:52 - Kushang Garg: <Media omitted>\n",
      "19/09/2022, 21:53 - Kushang Garg: <Media omitted>\n",
      "19/09/2022, 21:55 - Jaagrit Tiet: education4u\n",
      "19/09/2022, 21:55 - Jaagrit Tiet: bhanu priya\n",
      "20/09/2022, 16:56 - Kushang Garg: <Media omitted>\n",
      "20/09/2022, 16:56 - Kushang Garg: Bhai hogya change\n",
      "20/09/2022, 16:56 - Kushang Garg: 😂\n",
      "20/09/2022, 16:56 - Jaagrit Tiet: 🤨\n",
      "20/09/2022, 16:56 - Jaagrit Tiet: ye kb hua\n",
      "20/09/2022, 16:56 - Kushang Garg: Pta ni\n",
      "20/09/2022, 16:56 - Kushang Garg: Akshat ne bheji hai abhi\n",
      "20/09/2022, 16:57 - Jaagrit Tiet: hn dekha maine\n",
      "23/09/2022, 22:13 - Jaagrit Tiet: <Media omitted>\n",
      "24/09/2022, 11:34 - Kushang Garg: <Media omitted>\n",
      "03/10/2022, 22:57 - Kushang Garg: Bhai tere ek message ne bwaal macha dia\n",
      "03/10/2022, 22:58 - Kushang Garg: Kyo pangee le rqha\n",
      "03/10/2022, 22:58 - Kushang Garg: Raha*\n",
      "03/10/2022, 22:58 - Jaagrit Tiet: bhai bs bkchodi krni thi😂😂😂\n",
      "03/10/2022, 22:58 - Kushang Garg: Thoda zyada ni hogya\n",
      "03/10/2022, 22:58 - Kushang Garg: 😅\n",
      "03/10/2022, 22:58 - Jaagrit Tiet: mera kaam hogya ldne de ab\n",
      "03/10/2022, 22:58 - Jaagrit Tiet: 😂\n",
      "03/10/2022, 22:59 - Jaagrit Tiet: mze le ab bs\n",
      "03/10/2022, 23:03 - Kushang Garg: Bhai lga di aag tunee\n",
      "03/10/2022, 23:03 - Jaagrit Tiet: <Media omitted>\n",
      "03/10/2022, 23:03 - Jaagrit Tiet: mza aagya😂\n",
      "03/10/2022, 23:05 - Jaagrit Tiet: ulta pd gya\n",
      "03/10/2022, 23:05 - Kushang Garg: Vhii\n",
      "03/10/2022, 23:05 - Kushang Garg: Yeh akshat aur Arnav ko shant krr\n",
      "03/10/2022, 23:05 - Jaagrit Tiet: kaash ye meri maanlete\n",
      "03/10/2022, 23:06 - Kushang Garg: 😂\n",
      "03/10/2022, 23:06 - Jaagrit Tiet: toh start hee nhi hota\n",
      "05/10/2022, 17:36 - Kushang Garg: Gye ni tum log raone dekhne\n",
      "05/10/2022, 19:39 - Jaagrit Tiet: na\n",
      "05/10/2022, 20:41 - Kushang Garg: Mujhe pta hi tha ki tum log nhi Jane wale😂\n",
      "05/10/2022, 20:42 - Jaagrit Tiet: mai nhi gya\n",
      "05/10/2022, 20:42 - Jaagrit Tiet: baaki hoke aae hai\n",
      "05/10/2022, 20:42 - Kushang Garg: Kon kon\n",
      "05/10/2022, 20:42 - Kushang Garg: ?\n",
      "05/10/2022, 20:42 - Jaagrit Tiet: pta nhi bhai\n",
      "05/10/2022, 20:42 - Jaagrit Tiet: mai toh khelne gya tha\n",
      "05/10/2022, 20:43 - Kushang Garg: Arnav gya tha?\n",
      "05/10/2022, 20:43 - Jaagrit Tiet: hn\n",
      "05/10/2022, 20:43 - Kushang Garg: Usse puchta hu\n",
      "06/10/2022, 09:23 - Jaagrit Tiet: class lgaega?\n",
      "06/10/2022, 09:37 - Kushang Garg: Hn\n",
      "06/10/2022, 09:37 - Kushang Garg: Tu lgara na??\n",
      "08/10/2022, 00:16 - Kushang Garg: Bhai yeh log phr shuru hogye\n",
      "08/10/2022, 00:17 - Jaagrit Tiet: kya hua ab?\n",
      "08/10/2022, 00:18 - Kushang Garg: Grp dekh bhai\n",
      "08/10/2022, 00:18 - Kushang Garg: Maine ab start ni krra\n",
      "08/10/2022, 00:18 - Jaagrit Tiet: dekhta hoon\n",
      "08/10/2022, 00:18 - Kushang Garg: Give Arnav a good reply\n",
      "08/10/2022, 00:18 - Jaagrit Tiet: chd bhai\n",
      "08/10/2022, 00:18 - Jaagrit Tiet: bimar hai\n",
      "08/10/2022, 00:19 - Jaagrit Tiet: khush rhenede thoda😂😂\n",
      "08/10/2022, 00:19 - Kushang Garg: Acha tum log aaj ke din mile thi tbhii dalaa yeh nssage\n",
      "08/10/2022, 00:19 - Kushang Garg: Message??\n",
      "08/10/2022, 00:19 - Jaagrit Tiet: pta nhi bhai\n",
      "08/10/2022, 00:20 - Kushang Garg: Yeh to anniversary type kuch hogya bhai😂😂\n",
      "08/10/2022, 00:20 - Jaagrit Tiet: 😒\n",
      "08/10/2022, 00:20 - Kushang Garg: 😂😂\n",
      "08/10/2022, 00:20 - Jaagrit Tiet: tera alg hee chl rha hai\n",
      "09/10/2022, 15:35 - Jaagrit Tiet: akshat bhej rha hai\n",
      "09/10/2022, 15:35 - Jaagrit Tiet: merko mil nhi rha\n",
      "09/10/2022, 15:35 - Kushang Garg: ok\n",
      "09/10/2022, 15:35 - Kushang Garg: bhejdia usne\n",
      "09/10/2022, 15:35 - Jaagrit Tiet: 👍👍\n",
      "11/10/2022, 14:59 - Jaagrit Tiet: <Media omitted>\n",
      "11/10/2022, 15:00 - Jaagrit Tiet: total ch farak hai\n",
      "11/10/2022, 15:01 - Kushang Garg: Bhai yeh UHU vaalo ko pappr mei .25 .75 kyo dete h\n",
      "11/10/2022, 15:01 - Kushang Garg: Innhe papr chk krna nhi aata\n",
      "11/10/2022, 15:01 - Jaagrit Tiet: ki pta ki krde ne eh\n",
      "11/10/2022, 15:01 - Jaagrit Tiet: hnn\n",
      "11/10/2022, 15:01 - Kushang Garg: Kii\n",
      "11/10/2022, 15:01 - Jaagrit Tiet: rukj\n",
      "11/10/2022, 15:02 - Kushang Garg: Mai kll ede office ja k dekh k aaunga\n",
      "11/10/2022, 15:02 - Kushang Garg: Higest kinne ne\n",
      "11/10/2022, 15:02 - Kushang Garg: ?\n",
      "11/10/2022, 15:03 - Jaagrit Tiet: shi aa\n",
      "11/10/2022, 15:03 - Kushang Garg: .\n",
      "11/10/2022, 15:03 - Jaagrit Tiet: 24\n",
      "13/10/2022, 21:50 - Jaagrit Tiet: bhai mail id bhej\n",
      "13/10/2022, 21:50 - Jaagrit Tiet: apni\n",
      "13/10/2022, 21:50 - Jaagrit Tiet: code send krdeta hoon\n",
      "13/10/2022, 21:51 - Kushang Garg: Bhejta hun\n",
      "13/10/2022, 21:51 - Kushang Garg: kushanggarg2001@gmail.com\n",
      "13/10/2022, 21:53 - Jaagrit Tiet: dekh bhejdi hai\n",
      "13/10/2022, 21:53 - Jaagrit Tiet: whatsapp se wo file install nhi hoti\n",
      "14/10/2022, 14:49 - Kushang Garg: Bhai mam ko bilkul yaad ni tha Tera code\n",
      "14/10/2022, 16:21 - Jaagrit Tiet: chlo shi hui hogi fir eval\n",
      "15/10/2022, 01:11 - Jaagrit Tiet: so gya hoga ab toh😅😅\n",
      "15/10/2022, 08:13 - Kushang Garg: Happy birthday chuunuu🎊🎊🎊🥳🥳\n",
      "15/10/2022, 08:40 - Jaagrit Tiet: Thank you kushang 😇😇\n",
      "15/10/2022, 15:44 - Kushang Garg: Bhai aate hue charger zarur leaio\n",
      "15/10/2022, 15:48 - Kushang Garg: kbb aaega tu\n",
      "24/10/2022, 08:24 - Kushang Garg: Wishing u and ur your family a very very happy diwali 😇 with lots of happiness like the stars in sky✨✨ and ur life being bright💥💥 like the lights on this occasion . May this diwali bring  the joy ,a great health and all the dreams of ur come true💯 . Be happy and stay happy forever . \n",
      "\n",
      "with warm regards-Kushang Garg\n",
      "24/10/2022, 09:45 - Jaagrit Tiet: Happy diwali bhai 🥳🥳🥳\n",
      "nd wishing you the same🍫\n",
      "07/11/2022, 09:45 - Jaagrit Tiet: class aaja\n",
      "07/11/2022, 09:45 - Jaagrit Tiet: andar hai hm\n",
      "07/11/2022, 09:45 - Kushang Garg: Raste mein hu\n",
      "07/11/2022, 09:46 - Jaagrit Tiet: okk\n",
      "07/11/2022, 09:58 - Jaagrit Tiet: bhai isne rkhli attendance sheet\n",
      "07/11/2022, 09:58 - Jaagrit Tiet: maangle\n",
      "07/11/2022, 09:58 - Jaagrit Tiet: hm teeno ki rheyi hai\n",
      "07/11/2022, 12:52 - Kushang Garg: Oye konsi streak bheji hai tune Akshat ko\n",
      "07/11/2022, 12:55 - Jaagrit Tiet: kya hua🤣\n",
      "07/11/2022, 12:55 - Jaagrit Tiet: mrne nhi lga hoon tention mt le\n",
      "08/11/2022, 00:59 - Jaagrit Tiet: <Media omitted>\n",
      "08/11/2022, 00:59 - Jaagrit Tiet: in case required\n",
      "09/11/2022, 11:51 - Kushang Garg: <Media omitted>\n",
      "10/11/2022, 22:34 - Kushang Garg: https://en.wikipedia.org/wiki/Shri_Mahila_Griha_Udyog_Lijjat_Papad#:~:text=Lijjat%20was%20started%20by%20seven,skill%20they%20had%20i.e.%20cooking.\n",
      "10/11/2022, 22:45 - Jaagrit Tiet: or bhai\n",
      "10/11/2022, 22:45 - Jaagrit Tiet: https://www.google.com/url?sa=i&url=http%3A%2F%2F14.139.155.167%2Ftest5%2Findex.php%2Fkjas%2Farticle%2Fview%2F1391%2F2246&psig=AOvVaw0NPTyWzVOfjnlF0y2NiCRW&ust=1668186834657000&source=images&cd=vfe&ved=0CBAQjRxqFwoTCNCwqrKOpPsCFQAAAAAdAAAAABA-\n",
      "10/11/2022, 22:46 - Jaagrit Tiet: <Media omitted>\n",
      "14/11/2022, 00:02 - Jaagrit Tiet: <Media omitted>\n",
      "14/11/2022, 00:02 - Jaagrit Tiet: ye le oe\n",
      "14/11/2022, 00:02 - Jaagrit Tiet: mera naamna lio😂😂\n",
      "14/11/2022, 00:02 - Kushang Garg: Ok\n",
      "14/11/2022, 00:03 - Kushang Garg: Done\n",
      "14/11/2022, 00:19 - Kushang Garg: Oye arnav ki koi photo nhi hai tere pass\n",
      "14/11/2022, 00:22 - Jaagrit Tiet: bhai admin hee nhi hon\n",
      "14/11/2022, 00:23 - Kushang Garg: hai bhai tu\n",
      "14/11/2022, 00:23 - Kushang Garg: tujhe pta hi nhi ki tu admin h\n",
      "14/11/2022, 00:23 - Jaagrit Tiet: abhi tk toh nhi tha\n",
      "14/11/2022, 00:23 - Jaagrit Tiet: krta hoon chnge ruk\n",
      "14/11/2022, 00:24 - Jaagrit Tiet: tune bnaya?\n",
      "14/11/2022, 00:24 - Kushang Garg: oye tune mujhe hta dia\n",
      "14/11/2022, 00:25 - Kushang Garg: hnn\n",
      "14/11/2022, 00:25 - Jaagrit Tiet: naa\n",
      "14/11/2022, 00:25 - Kushang Garg: yeh kya lga dia\n",
      "14/11/2022, 00:25 - Jaagrit Tiet: bhai bs hogya\n",
      "14/11/2022, 12:58 - Jaagrit Tiet: Shubham Singhal TIET.vcf (file attached)\n",
      "19/11/2022, 00:26 - Jaagrit Tiet: subhe tk bhejta hoon requirements front end ki\n",
      "19/11/2022, 00:29 - Kushang Garg: Ok sir\n",
      "19/11/2022, 21:08 - Jaagrit Tiet: HAPPY BIRTHDAY to the \"brewtiful\" who likes coffee as black as their soul...!!! Dont keep calm and be crazy as you are now.....\n",
      "19/11/2022, 21:08 - Jaagrit Tiet: bhai yhi bna merse\n",
      "19/11/2022, 21:09 - Jaagrit Tiet: basically consists of coffee lover and joyfullness\n",
      "19/11/2022, 21:22 - Kushang Garg: Thanks broo\n",
      "19/11/2022, 21:22 - Jaagrit Tiet: 👍\n",
      "19/11/2022, 21:34 - Jaagrit Tiet: oe bhejdiya tune??\n",
      "19/11/2022, 21:34 - Jaagrit Tiet: thoda change krde\n",
      "19/11/2022, 21:34 - Kushang Garg: Nhi\n",
      "19/11/2022, 21:35 - Jaagrit Tiet: HAPPY BIRTHDAY to the one who likes coffee as black as their soul...!!! Dont keep calm and be crazy as you are now.....\n",
      "19/11/2022, 21:35 - Jaagrit Tiet: brewtiful thoda ajeeb lg rha tha\n",
      "19/11/2022, 21:35 - Jaagrit Tiet: one krdiya usse\n",
      "19/11/2022, 21:35 - Kushang Garg: Bhai soul black Kyo kaha\n",
      "19/11/2022, 21:35 - Jaagrit Tiet: smjha nhi tu\n",
      "19/11/2022, 21:35 - Kushang Garg: Smajhaoo\n",
      "19/11/2022, 21:35 - Jaagrit Tiet: wo black coffee nhi piti\n",
      "19/11/2022, 21:36 - Jaagrit Tiet: milk waali peeti hai\n",
      "19/11/2022, 21:36 - Kushang Garg: Soul black kaise hui\n",
      "19/11/2022, 21:36 - Jaagrit Tiet: i.e almost whitish coffee\n",
      "19/11/2022, 21:40 - Jaagrit Tiet: HAPPY BIRTHDAY to the one who likes coffee as sweet as their soul...!!! Dont keep calm and be crazy as you are now.....\n",
      "19/11/2022, 21:40 - Jaagrit Tiet: I wish that you always remain free like a bird and strong like a rock, though you are a tubelight but keep in mind that it brings light in everyones life...!\n",
      "HAPPY BIRTHDAY\n",
      "19/11/2022, 23:05 - Kushang Garg: https://www.tandfonline.com/doi/abs/10.1080/02678379408259984\n",
      "20/11/2022, 10:43 - Jaagrit Tiet: and kaha tha ki 2 ke groups mein divide hokar we have to choose any company and uss company ke under ai ka future batana hai\n",
      "20/11/2022, 10:43 - Jaagrit Tiet: or intro ki abhi tk kya use kiya hai or what does this co. do\n",
      "20/11/2022, 21:54 - Kushang Garg: <Media omitted>\n",
      "21/11/2022, 10:46 - Jaagrit Tiet: <Media omitted>\n",
      "21/11/2022, 10:46 - Jaagrit Tiet: A3 colour\n",
      "21/11/2022, 10:46 - Jaagrit Tiet: potrait me\n",
      "21/11/2022, 10:46 - Kushang Garg: A3 sheet\n",
      "21/11/2022, 10:46 - Jaagrit Tiet: hn\n",
      "21/11/2022, 10:46 - Kushang Garg: ?\n",
      "21/11/2022, 10:47 - Jaagrit Tiet: A3 size sheet \n",
      "coloured print\n",
      "21/11/2022, 10:47 - Kushang Garg: Hnn bhai black nd white thoda nikal waunga\n",
      "21/11/2022, 10:47 - Kushang Garg: 😒\n",
      "21/11/2022, 10:47 - Jaagrit Tiet: fir bhi😂\n",
      "21/11/2022, 10:48 - Jaagrit Tiet: chl niklwa laio bhai\n",
      "21/11/2022, 10:48 - Kushang Garg: Ok\n",
      "22/11/2022, 22:01 - Kushang Garg: Bhai jbb ppt complete hojaye to yaad se bhejdio\n",
      "26/11/2022, 21:40 - Jaagrit Tiet: <Media omitted>\n",
      "26/11/2022, 21:40 - Jaagrit Tiet: <Media omitted>\n",
      "04/12/2022, 21:23 - Kushang Garg: <Media omitted>\n",
      "04/12/2022, 21:24 - Kushang Garg: oye iska activation ree bnaio\n",
      "10/12/2022, 19:13 - Jaagrit Tiet: Dijsktra\n",
      "10/12/2022, 19:13 - Jaagrit Tiet: <Media omitted>\n",
      "10/12/2022, 19:13 - Jaagrit Tiet: <Media omitted>\n",
      "10/12/2022, 19:14 - Kushang Garg: PRIMS ALSO\n",
      "10/12/2022, 19:16 - Jaagrit Tiet: <Media omitted>\n",
      "10/12/2022, 19:16 - Jaagrit Tiet: <Media omitted>\n",
      "10/12/2022, 19:16 - Jaagrit Tiet: <Media omitted>\n",
      "10/12/2022, 19:16 - Jaagrit Tiet: <Media omitted>\n",
      "12/12/2022, 06:57 - Kushang Garg: Bhai vo pta lga ki i=2 ke liye Kyo Kiya hua?\n",
      "12/12/2022, 06:58 - Kushang Garg: Karger algo mei\n",
      "12/12/2022, 07:00 - Jaagrit Tiet: hn\n",
      "12/12/2022, 07:00 - Jaagrit Tiet: wo m tk jaega\n",
      "12/12/2022, 07:00 - Jaagrit Tiet: algo me likha hai uske\n",
      "12/12/2022, 07:00 - Kushang Garg: m kya tha?\n",
      "12/12/2022, 07:00 - Jaagrit Tiet: m wo question ppr me dega\n",
      "12/12/2022, 07:00 - Kushang Garg: ok\n",
      "12/12/2022, 07:00 - Jaagrit Tiet: arbitrary number\n",
      "12/12/2022, 07:01 - Kushang Garg: randomly choose krna hme edge hna?\n",
      "12/12/2022, 07:01 - Jaagrit Tiet: hn\n",
      "19/12/2022, 22:41 - Jaagrit Tiet: dinner krlia?\n",
      "19/12/2022, 22:44 - Kushang Garg: Kr rhe hai bhai\n",
      "19/12/2022, 22:44 - Kushang Garg: Pind baluchi kuch hai yha cp me\n",
      "19/12/2022, 22:44 - Kushang Garg: Wna kha rhe hai\n",
      "19/12/2022, 22:44 - Jaagrit Tiet: best\n",
      "19/12/2022, 22:45 - Jaagrit Tiet: sizzler try klena\n",
      "19/12/2022, 22:45 - Jaagrit Tiet: agar krna ho toh\n",
      "19/12/2022, 22:45 - Kushang Garg: Okay sir 👍\n",
      "19/12/2022, 22:45 - Jaagrit Tiet: or dal makhni is very good\n",
      "19/12/2022, 22:45 - Kushang Garg: Haan wo to mangwayi hi hai\n",
      "19/12/2022, 22:45 - Kushang Garg: Bhai live music\n",
      "19/12/2022, 22:45 - Kushang Garg: Vi yha\n",
      "19/12/2022, 22:46 - Kushang Garg: Kaafi shi hai\n",
      "19/12/2022, 22:46 - Jaagrit Tiet: hn hota hai udhar\n",
      "19/12/2022, 22:46 - Kushang Garg: Overall bahut Acha lga\n",
      "19/12/2022, 22:46 - Kushang Garg: This all is Akshat talking\n",
      "19/12/2022, 22:46 - Kushang Garg: My phone dead\n",
      "19/12/2022, 22:46 - Jaagrit Tiet: 😂\n",
      "19/12/2022, 22:46 - Jaagrit Tiet: smjh gya tha\n",
      "20/12/2022, 20:15 - Kushang Garg: Locomat\n",
      "20/12/2022, 20:58 - Kushang Garg: Xyz.vcf (file attached)\n",
      "21/12/2022, 19:45 - Jaagrit Tiet: milgai photo?\n",
      "21/12/2022, 19:45 - Kushang Garg: Yss\n",
      "31/12/2022, 00:13 - Jaagrit Tiet: This message was deleted\n",
      "31/12/2022, 00:13 - Jaagrit Tiet: 🥳🥳🥳🥳🥳 🥳🥳🥳🥳🥳🥳🥳\n",
      "31/12/2022, 00:13 - Jaagrit Tiet: 🥳🥳🥳🥳🥳 🥳🥳🥳🥳🥳🥳🥳\n",
      "31/12/2022, 00:14 - Jaagrit Tiet: जन्मदिन की शुभकामनाएं\n",
      "31/12/2022, 00:14 - Jaagrit Tiet: 🥂🥂🥂🥂🥂🥂🥂🥂🥂🥂🥂🥂🥂\n",
      "31/12/2022, 00:20 - Kushang Garg: Thank u bhai🤩\n",
      "31/12/2022, 00:21 - Kushang Garg: Kuch Jyada hi *Khushi* jhalak rhi h😛\n",
      "31/12/2022, 00:21 - Jaagrit Tiet: thank you nhi bhai party kb\n",
      "31/12/2022, 00:21 - Kushang Garg: 9 jan\n",
      "31/12/2022, 00:21 - Jaagrit Tiet: mtlb bina gaali khae kaam nhi chlega\n",
      "31/12/2022, 00:21 - Kushang Garg: LA club\n",
      "31/12/2022, 00:21 - Jaagrit Tiet: shi shi\n",
      "31/12/2022, 00:22 - Kushang Garg: 😂\n",
      "31/12/2022, 00:22 - Jaagrit Tiet: waise hum 16-17 ko aaenge😂\n",
      "31/12/2022, 00:22 - Kushang Garg: Itni late kyo\n",
      "31/12/2022, 00:22 - Jaagrit Tiet: yaar 15 jan ko mummy ka 50th bday hai\n",
      "31/12/2022, 00:22 - Jaagrit Tiet: toh wapis nhi aaya jaega\n",
      "31/12/2022, 00:22 - Jaagrit Tiet: isliye socha hfta late\n",
      "31/12/2022, 00:23 - Kushang Garg: Ohh ok chlo koini tbb tkk arnav bhi aajayga\n",
      "31/12/2022, 00:23 - Jaagrit Tiet: pta nhi\n",
      "31/12/2022, 00:23 - Jaagrit Tiet: chlo enjoy ur night new year bhi hai bday bhi hai\n",
      "31/12/2022, 00:23 - Kushang Garg: Maine pehle se decide krke rkha kha deni hai party\n",
      "31/12/2022, 00:24 - Jaagrit Tiet: hn ye shi lga\n",
      "31/12/2022, 00:24 - Jaagrit Tiet: hmne bho gift decide kiya hua hai\n",
      "31/12/2022, 00:24 - Jaagrit Tiet: kya dena hai tujhe\n",
      "31/12/2022, 00:24 - Kushang Garg: 😂\n",
      "17/01/2023, 11:15 - Kushang Garg: Bhai kaisa lgg rha ?😂\n",
      "17/01/2023, 11:16 - Kushang Garg: Mja to aa rha hoga kaafi\n",
      "17/01/2023, 11:16 - Kushang Garg: 😏\n",
      "30/01/2023, 17:28 - Kushang Garg: <Media omitted>\n",
      "30/01/2023, 18:02 - Jaagrit Tiet: meri pdosan\n",
      "30/01/2023, 19:23 - Kushang Garg: Congratulations bhai very happy for u😝🥳🥳\n",
      "11/02/2023, 14:49 - Jaagrit Tiet: bhai mess card ki photo bhejde\n",
      "11/02/2023, 14:49 - Jaagrit Tiet: 😂\n",
      "11/02/2023, 14:49 - Jaagrit Tiet: mon se entry nhi milegi bina uske😂😂\n",
      "11/02/2023, 14:50 - Kushang Garg: 😂😂\n",
      "11/02/2023, 14:50 - Kushang Garg: Uss din bhul gya mai dena\n",
      "11/02/2023, 14:50 - Jaagrit Tiet: koi nhi\n",
      "11/02/2023, 14:50 - Kushang Garg: Abhi bhejta hu\n",
      "11/02/2023, 14:50 - Jaagrit Tiet: ab teri mon se entry bnd😂\n",
      "11/02/2023, 14:51 - Jaagrit Tiet: araam se\n",
      "11/02/2023, 14:51 - Kushang Garg: <Media omitted>\n",
      "12/02/2023, 16:12 - Kushang Garg: kushanggarg2001@gmail.com\n",
      "13/02/2023, 11:27 - Kushang Garg: Bhai kaisi rhi lab eval?\n",
      "13/02/2023, 11:27 - Kushang Garg: Lec mei hai kya?\n",
      "13/02/2023, 11:27 - Jaagrit Tiet: naa\n",
      "16/02/2023, 10:14 - Jaagrit Tiet: <Media omitted>\n",
      "23/02/2023, 14:56 - Kushang Garg: Bhaiii meree\n",
      "23/02/2023, 14:56 - Jaagrit Tiet: saath hee toh ho\n",
      "23/02/2023, 14:56 - Jaagrit Tiet: gryffindor pe bhi bheja\n",
      "25/02/2023, 00:12 - Kushang Garg: Bhai soya to nhi?\n",
      "25/02/2023, 00:12 - Jaagrit Tiet: nhi nhi\n",
      "25/02/2023, 00:12 - Kushang Garg: Vignere cipher wali file mail krde\n",
      "25/02/2023, 00:13 - Jaagrit Tiet: hn krta hoon\n",
      "25/02/2023, 00:13 - Jaagrit Tiet: ruk\n",
      "25/02/2023, 00:14 - Kushang Garg: Autokey dekhlio ek baar mera koi glti ho to btaiyo\n",
      "Vaise maine 3-4 baar test krlia hai prr phir agr koi improvmnt ho to btaiyo\n",
      "25/02/2023, 00:14 - Jaagrit Tiet: hn abhi dekha nhi\n",
      "25/02/2023, 00:14 - Jaagrit Tiet: hogi toh btata hoon\n",
      "25/02/2023, 00:14 - Jaagrit Tiet: mail krdi\n",
      "25/02/2023, 00:14 - Kushang Garg: Ok\n",
      "25/02/2023, 00:36 - Jaagrit Tiet: shi hai\n",
      "25/02/2023, 00:36 - Jaagrit Tiet: autokey\n",
      "25/02/2023, 00:37 - Kushang Garg: ☺️☺️\n",
      "11/03/2023, 01:39 - Jaagrit Tiet: oe\n",
      "11/03/2023, 01:40 - Jaagrit Tiet: wo percentage eigen value/sum of eigen values\n",
      "11/03/2023, 01:40 - Jaagrit Tiet: se niklegi\n",
      "11/03/2023, 08:36 - Kushang Garg: Achaa\n",
      "11/03/2023, 08:36 - Kushang Garg: Thanxx\n",
      "11/03/2023, 08:36 - Jaagrit Tiet: 🍺\n",
      "17/03/2023, 17:28 - Jaagrit Tiet: It is Mandantory for *EVERYONE* to fill this form \n",
      "\n",
      "Students Who have  the Offer for Internship/are selected On-Campus/Off-Campus \n",
      " https://forms.gle/KEE5W1ZiLA2xYU8L8\n",
      "\n",
      "Students Who Dont Have Internship \n",
      " https://forms.gle/fGgkQeATKaAxMtwQA\n",
      "\n",
      "If any issue comes from your side and the above form circulated is not filled by the student then it will not be catered.\n",
      "\n",
      " *DEADLINE* : 17th March\n",
      "11:59PM\n",
      "17/03/2023, 17:28 - Jaagrit Tiet: ye google form jo aaj bhrna hai\n",
      "17/03/2023, 17:29 - Jaagrit Tiet: Registeration link : https://jpmc.fa.oraclecloud.com/hcmUI/CandidateExperience/en/sites/CX_1001/job/210395041/?utm_medium=jobshare\n",
      "\n",
      "Deadline : 23march\n",
      "17/03/2023, 17:29 - Jaagrit Tiet: ye jp morgan\n",
      "17/03/2023, 17:29 - Kushang Garg: thanx buddy\n",
      "17/03/2023, 17:29 - Jaagrit Tiet: np🥂😇\n",
      "28/03/2023, 00:08 - Kushang Garg: https://www.youtube.com/watch?v=R-AG4-qZs1A&list=PLeo1K3hjS3uuvuAXhYjV2lMEShq2UYSwX\n",
      "28/03/2023, 11:28 - Jaagrit Tiet: bandhan bank ki branch kidhar hai ifhar\n",
      "28/03/2023, 11:28 - Jaagrit Tiet: idhar*\n",
      "28/03/2023, 11:29 - Kushang Garg: Pta nhi\n",
      "28/03/2023, 11:29 - Kushang Garg: Papa\n",
      "28/03/2023, 11:29 - Kushang Garg: Ko puch k btadunga\n",
      "28/03/2023, 11:29 - Jaagrit Tiet: hn btaio\n",
      "28/03/2023, 12:00 - Kushang Garg: Bhai aaj tumhari mess mei kya hai?\n",
      "28/03/2023, 12:00 - Jaagrit Tiet: I am not sure!\n",
      "28/03/2023, 12:01 - Kushang Garg: Any idea\n",
      "28/03/2023, 12:01 - Jaagrit Tiet: No!\n",
      "30/03/2023, 09:58 - Kushang Garg: <Media omitted>\n",
      "30/03/2023, 09:58 - Kushang Garg: <Media omitted>\n",
      "30/03/2023, 09:58 - Kushang Garg: <Media omitted>\n",
      "30/03/2023, 21:21 - Kushang Garg: Bhai tera ticket k alawa kuch aur lga tha?\n",
      "30/03/2023, 21:21 - Jaagrit Tiet: naa\n",
      "30/03/2023, 21:21 - Jaagrit Tiet: sun mere ticket wale akshat ko hee krdio\n",
      "30/03/2023, 21:22 - Jaagrit Tiet: pay\n",
      "30/03/2023, 21:22 - Kushang Garg: Mtlbb?\n",
      "30/03/2023, 21:22 - Jaagrit Tiet: 405+165+225\n",
      "30/03/2023, 21:22 - Jaagrit Tiet: devide by 3\n",
      "30/03/2023, 21:22 - Jaagrit Tiet: ticket ke paise jo tune mujhe dene hai akshat ko dedio\n",
      "30/03/2023, 21:22 - Jaagrit Tiet: mai fir usse less krke dedunga\n",
      "30/03/2023, 21:23 - Kushang Garg: Bhai aksht ko akag krunga tujhe alsg ticket k krr rha hu\n",
      "30/03/2023, 21:23 - Jaagrit Tiet: chl theek tu aise krle\n",
      "30/03/2023, 21:23 - Kushang Garg: 265?\n",
      "30/03/2023, 21:23 - Jaagrit Tiet: apne aap calculate krlio😂\n",
      "30/03/2023, 21:23 - Kushang Garg: Right\n",
      "30/03/2023, 21:23 - Jaagrit Tiet: .\n",
      "30/03/2023, 21:23 - Kushang Garg: Kya\n",
      "30/03/2023, 21:23 - Jaagrit Tiet: hn yhi hai\n",
      "30/03/2023, 21:23 - Kushang Garg: Gpay haina\n",
      "30/03/2023, 21:24 - Jaagrit Tiet: han han\n",
      "30/03/2023, 21:24 - Jaagrit Tiet: bindaas dalde 2650\n",
      "30/03/2023, 21:24 - Jaagrit Tiet: na ek km na ek zyada\n",
      "30/03/2023, 21:24 - Kushang Garg: Itne bhai acc mei hai nhi\n",
      "30/03/2023, 21:24 - Jaagrit Tiet: 😂😂\n",
      "30/03/2023, 21:25 - Kushang Garg: <Media omitted>\n",
      "31/03/2023, 23:54 - Jaagrit Tiet: <Media omitted>\n",
      "\n"
     ]
    }
   ],
   "source": [
    "print(data)"
   ]
  },
  {
   "cell_type": "code",
   "execution_count": 34,
   "metadata": {
    "ExecuteTime": {
     "end_time": "2023-07-26T07:59:16.178408400Z",
     "start_time": "2023-07-26T07:59:15.963410600Z"
    }
   },
   "outputs": [],
   "source": [
    "pattern = '\\d{1,2}/\\d{1,2}/\\d{2,4},\\s\\d{1,2}:\\d{2}\\s-\\s'"
   ]
  },
  {
   "cell_type": "code",
   "execution_count": 35,
   "metadata": {
    "ExecuteTime": {
     "end_time": "2023-07-26T07:59:16.178408400Z",
     "start_time": "2023-07-26T07:59:15.970331800Z"
    }
   },
   "outputs": [
    {
     "data": {
      "text/plain": "['Messages and calls are end-to-end encrypted. No one outside of this chat, not even WhatsApp, can read or listen to them. Tap to learn more.\\n',\n 'Kushang Garg: <Media omitted>\\n',\n 'Kushang Garg: <Media omitted>\\n',\n 'Kushang Garg: Bhai iska 3 nd 4part btaiyo\\n',\n 'Jaagrit Tiet: 10 min\\n',\n 'Kushang Garg: Ok\\n',\n 'Jaagrit Tiet: c ki value toh bta\\n',\n 'Kushang Garg: 6\\n',\n 'Jaagrit Tiet: ok\\n',\n 'Jaagrit Tiet: <Media omitted>\\n',\n 'Jaagrit Tiet: 3\\n',\n 'Jaagrit Tiet: 4 part toh conditional ka hai\\n',\n 'Jaagrit Tiet: bhej deta hoon krke\\n',\n 'Kushang Garg: vo bhi aise hi hoga?\\n',\n 'Jaagrit Tiet: pr dhayad course me nhi hai\\n',\n 'Jaagrit Tiet: thoda sa alag\\n',\n 'Jaagrit Tiet: <Media omitted>\\n',\n 'Jaagrit Tiet: numerator phele jaise calculate krlio bs\\n',\n 'Kushang Garg: okk\\n',\n 'Kushang Garg: <Media omitted>\\n',\n 'Kushang Garg: <Media omitted>\\n',\n 'Kushang Garg: <Media omitted>\\n',\n 'Kushang Garg: <Media omitted>\\n',\n 'Kushang Garg: Kitne bcche ha??\\n',\n 'Jaagrit Tiet: bhai os lab khn lgti hai\\n',\n 'Jaagrit Tiet: 10\\n',\n 'Kushang Garg: Kitni der mei ovr hogii\\n',\n 'Jaagrit Tiet: 30mun\\n',\n \"Jaagrit Tiet: clc\\nclear\\nA = [1,2;1,1;1,-2];\\nB = [10 ; 6 ; 1];\\n\\np = max(B);\\nx1 = 0:1:p;\\nx12 = (B(1) - A(1,1) .*x1) ./A(1,2);\\nx22 = (B(2) - A(2,1) .*x1) ./A(2,2);\\nx32 = (B(3) - A(3,1) .*x1) ./A(3,2);\\nx12 = max(0,x12);\\nx22 = max(0,x22);\\nx32 = max(0,x32);\\nplot(x1,x12,'r',x1,x22,'b',x1,x32,'g')\\ntitle('x1 vs x2')\\nxlabel('value of x1')\\nylabel('value of x2')\\n\\n\\ncx1=find(x1==0);\\nc1=find(x12==0);\\nLine1=[x1(:,[c1 cx1]) ; x12(:,[c1 cx1])]';\\nc2=find(x22==0);\\nLine2=[x1(:,[c2 cx1]) ; x12(:,[c2 cx1])]';\\nc3=find(x32==0);\\nLine3=[x1(:,[c3 cx1]) ; x12(:,[c3 cx1])]';\\ncorpt=unique([Line1;Line2;Line3],'rows')\\n\\n\\npt=[0;0];\\nfor i=1:size(A,1)\\n    A1=A(i,:);\\n    B1=B(i,:);\\n    for j=i+1 : size(A,1)\\n        A2=A(j,:);\\n        B2=B(j,:);\\n        A4=[A1;A2];\\n        B4=[B1;B2];\\n        X=A4\\\\B4;\\n        pt=[pt X];\\n    end\\n\\nend\\nptt = pt';\\n\\n\\nallpt=[ptt;corpt]\\npoints=unique(allpt,'rows')\\n\\nPT=constraint(points)\\nP=unique(PT,'rows')\\n\",\n 'Jaagrit Tiet: function output=constraint(x)\\nformat rat\\nx\\nx1=x(:,1)\\nx2=x(:,2)\\ncons1=round((x1+(2.*x2)-10))\\ns1=find(cons1>0)\\nx(s1,:)=[]\\n\\nx1=x(:,1)\\nx2=x(:,2)\\ncons2 =round((x1+x2-6))\\ns2=find(cons2>0)\\nx(s2,:)=[]\\n\\nx1=x(:,1)\\nx2=x(:,2)\\ncons3 =round((x1-(2 .*x2)-1))\\ns3=find(cons3>0)\\nx(s3,:)=[]\\n\\noutput=x\\nend\\n',\n 'Jaagrit Tiet: ye alag file bnegi constraint.m ke naam se\\n',\n 'Jaagrit Tiet: <Media omitted>\\n',\n 'Jaagrit Tiet: ye LPP1.m hai\\n',\n 'Kushang Garg: Bhaii jaag raha?\\n',\n 'Kushang Garg: Kuch puchna tha\\n',\n 'Jaagrit Tiet: hn\\n',\n 'Kushang Garg: Call kruu\\n',\n 'Kushang Garg: ?\\n',\n 'Jaagrit Tiet: hn hn\\n',\n 'Jaagrit Tiet: https://bhailang.js.org\\n',\n 'Jaagrit Tiet: https://www.linkedin.com/posts/raghav-mittal-2a51ba22a_activity-6916672800510423040-CZ7-?utm_source=linkedin_share&utm_medium=android_app\\n',\n 'Kushang Garg: Bhai big m ka code bhejde\\n',\n 'Jaagrit Tiet: big m nhi hai\\n',\n 'Jaagrit Tiet: two phase hai\\n',\n 'Jaagrit Tiet: <Media omitted>\\n',\n 'Jaagrit Tiet: <Media omitted>\\n',\n 'Kushang Garg: Bhai tere grp ko mam bula rhi h\\n',\n 'Jaagrit Tiet: grp wale so rhe hai?\\n',\n 'Jaagrit Tiet: %max z =-2x1-x2\\n%s/t 3x1+x2=3\\n %  4x1+3x2>=6\\n %  x1+2x2<=3\\n %  x1+2x2<=3\\n %x1,x2>=0\\n\\n clc\\n clear all\\n format short\\n variables={\\'x1\\',\\'x2\\',\\'s1\\',\\'s2\\',\\'A1\\',\\'A2\\',\\'sol\\'};\\n M = 1000;\\n cost = [-2 -1 0 0 -M -M 0];\\n A = [3 1 0 0 1 0 3; 4 3 -1 0 0 1 6; 1 2 0 1 0 0 3]\\n s = eye(size(A,1));\\n\\n BV=[];\\n for j=1:size(s,2)\\n     for i=1:size(A,2)\\n         if A(:,i) == s(:,j)\\n             BV = [BV i];\\n         end\\n     end\\n end\\nzjcj = cost(BV)*A -cost\\n%print table\\nzcj = [zjcj;A];\\nSimptable = array2table(zcj);\\nSimptable.Properties.VariableNames(1:size(zcj,2))= variables\\n%Finding entering variable\\nRun=true\\nwhile Run\\nzc = zjcj(:,1:end-1);\\nif any (zc<0)\\n    fprintf(\"The current BFS not optimal\\\\n\");\\n    [EnterCol,Pvt_Col]=min(zc)\\n    fprintf(\\'Entering Column is %d\\\\n\\',Pvt_Col)\\n\\n%To find the leaving Variable\\n\\n sol=A(:,end)\\n Column=A(:,Pvt_Col)\\n if all (Column<=0)\\n     fprintf(\"Solution is unbounded\")\\n else\\n     for i=1:size(Column,1)\\n         if Column(i)>0\\n             ratio(i)=sol(i)./Column(i);\\n         else\\n             ratio(i)=inf;\\n         end\\n     end\\n     [MinRatio, Pvt_Row]=min(ratio);\\n     fprintf(\\'Leaving row is %d \\\\n\\',Pvt_Row);\\n end\\n BV(Pvt_Row)=Pvt_Col\\n disp(\\'New Basic Variable (BV) =\\')\\n disp(BV)\\n Pvt_Key=A(Pvt_Row,Pvt_Col)\\n %update table for next iteration\\n A(Pvt_Row,:)=A(Pvt_Row,:)./Pvt_Key\\n for i=1:size(A,1)\\n     if i~=Pvt_Row\\n         A(i,:)=A(i,:)-A(i,Pvt_Col).*A(Pvt_Row,:)\\n     end\\n end\\n zjcj = cost(BV)*A -cost\\n zcj = [zjcj;A];\\n Table = array2table(zcj);\\n Table.Properties.VariableNames(1:size(zcj,2)) = variables\\nelse\\n    Run = false\\n    fprintf(\\'The current BFS is optimal\\')\\nend\\nend\\n',\n 'Kushang Garg: bhai dual simplex ka code h?\\n',\n \"Kushang Garg: %To find the basic feasible solution of the given LPP\\n%Max = x1+2x2-x3+x4\\n%s/t\\n%x1+x2-x3+3x4=15\\n%5x1+x2+4x3+15x4=12\\n%x1,x2,x3,x4>=0\\nclc\\nclear all\\nformat short\\n% Phase 1: Input parameters\\nA = [1 1 -1 3;5 1 4 15]\\nC = [1 2 -1 1]\\nb = [15; 12]\\n% Phase 2: To define number of variables and constraints\\nn = size(A,2)\\nm = size(A,1)\\n% Phase 3: To choose nCm basic solutions\\nif(n>m)\\nnCm = nchoosek(n,m)\\npair = nchoosek(1:n,m)\\n\\n% Phase 4 & 5: To construct basis and to find basic feasable solutions\\nsol = []\\nfor i = 1:nCm \\n    y = zeros(n,1)\\n    x = A(:, pair(i,:))\\\\b\\n    if all(x>=0 & x~=inf & x~=-inf)\\n        y(pair(i,:))=x\\n        sol = [sol, y]\\n    end\\nend\\nelse\\n    error('nCm does not exist')\\nend\\n% Phase 6: To find the objective function Value\\nz = C*sol\\n% To FInd the Optimal Value \\n[zmax, zindex] = max(z)\\nBFSa = sol(:,zindex)\\n% To Print all the solutions \\noptimal_value = [BFSa', zmax]\\noptimal_bfs = array2table(optimal_value)\\noptimal_bfs.Properties.VariableNames(1:size(optimal_bfs,2)) = {'x1', 'x2','x3', 'x4', 'z'}\\n\",\n 'Jaagrit Tiet: bhai nhi ho rhe solve\\n',\n 'Jaagrit Tiet: 4 code se try krliya maine\\n',\n 'Kushang Garg: dono hi ni ho rhe?\\n',\n 'Jaagrit Tiet: nhi\\n',\n 'Kushang Garg: ab phr kya kree?\\n',\n 'Jaagrit Tiet: chd dete hai fir\\n',\n 'Jaagrit Tiet: ques glt lg rhe hai mujhe\\n',\n 'Kushang Garg: ek brr sidd ko bhi kha the maine usse puchta hu\\n',\n 'Jaagrit Tiet: puchle baaki lgta nhi hua hoga\\n',\n 'Kushang Garg: <Media omitted>\\n',\n 'Kushang Garg: <Media omitted>\\n',\n 'Kushang Garg: <Media omitted>\\n',\n 'Kushang Garg: <Media omitted>\\n',\n 'Kushang Garg: <Media omitted>\\n',\n 'Kushang Garg: <Media omitted>\\n',\n 'Kushang Garg: Bhai ab chkk kriyo\\n',\n 'Kushang Garg: Bhai hogya Tera eval ???\\n',\n 'Jaagrit Tiet: hn hogya\\n',\n 'Kushang Garg: Kaisa rha?\\n',\n 'Jaagrit Tiet: bhai le rhi hai\\n',\n 'Jaagrit Tiet: wo bhi style se\\n',\n 'Kushang Garg: Kitna time le rhi ek grp prr\\n',\n 'Jaagrit Tiet: 7-15 min\\n',\n 'Jaagrit Tiet: depending on project\\n',\n 'Kushang Garg: Code mei se bhi que puch rhi h?\\n',\n 'Kushang Garg: Bs1 puura hogya?\\n',\n 'Jaagrit Tiet: agar usse doubt hota hai toh\\n',\n 'Jaagrit Tiet: na\\n',\n 'Jaagrit Tiet: 2 groups reh rhe hai\\n',\n 'Jaagrit Tiet: 12:30 tk aa skte tum\\n',\n 'Kushang Garg: Er se match krr rhe ha??\\n',\n 'Jaagrit Tiet: nhi\\n',\n 'Jaagrit Tiet: <Media omitted>\\n',\n 'Kushang Garg: Bhai aur kitne loogo k message aagye😂\\n',\n 'Kushang Garg: Sunnu hai kuch logo ki to video call bhi aai h😏😏\\n',\n 'Kushang Garg: Sunna*\\n',\n 'Jaagrit Tiet: <Media omitted>\\n',\n 'Jaagrit Tiet: <Media omitted>\\n',\n 'Jaagrit Tiet: lost in woods\\n',\n 'Jaagrit Tiet: group pe thodi der me daalenge\\n',\n 'Kushang Garg: Ok\\n',\n 'Kushang Garg: Bhai bhalla lift mei hai usse krna\\n',\n 'Kushang Garg: Vo samne hai hmare\\n',\n 'Jaagrit Tiet: <Media omitted>\\n',\n 'Kushang Garg: Bhai kll class 8 50 pe hai yaa 9 40 pe ??\\n',\n 'Jaagrit Tiet: 9:40\\n',\n 'Jaagrit Tiet: Missed voice call\\n',\n 'Jaagrit Tiet: bhai\\n',\n 'Jaagrit Tiet: kya keh rhi hai ye\\n',\n 'Jaagrit Tiet: krna ki aa,,\\n',\n 'Kushang Garg: Chill\\n',\n 'Kushang Garg: Timepass\\n',\n 'Jaagrit Tiet: pta lgge mam khade krke puch rhi aa\\n',\n 'Kushang Garg: Vaise que yeh hai ki tumhari motivation kya hai thapar mei padhne kii\\n',\n 'Jaagrit Tiet: <Media omitted>\\n',\n 'Jaagrit Tiet: thapar\\n',\n 'Jaagrit Tiet: 🤣😂\\n',\n 'Kushang Garg: Bhai tu lab miss krega na apni business kii\\n',\n 'Kushang Garg: ??\\n',\n 'Jaagrit Tiet: 🐥\\n',\n 'Kushang Garg: Ha yaa Naa??\\n',\n 'Jaagrit Tiet: 🐥\\n',\n 'Kushang Garg: Apni shakal kyo bhej rha hai har bar\\n',\n 'Jaagrit Tiet: 🐔\\n',\n 'Kushang Garg: Bhai keyboard me alphabets vi hai\\n',\n 'Jaagrit Tiet: 👀\\n',\n 'Kushang Garg: 👟👟👟\\n',\n 'Jaagrit Tiet: 😵\\u200d💫\\n',\n 'Kushang Garg: 👨\\u200d👦\\u200d👦\\n',\n 'Jaagrit Tiet: ☠️\\n',\n 'Kushang Garg: 🥷\\n',\n 'Jaagrit Tiet: 🐸\\n',\n 'Kushang Garg: 🐭\\n',\n 'Jaagrit Tiet: 😎\\n',\n 'Kushang Garg: Oye time pass mtt kr\\n',\n 'Jaagrit Tiet: 🐼\\n',\n 'Kushang Garg: Btaa\\n',\n 'Jaagrit Tiet: 🐻\\u200d❄\\n',\n 'Kushang Garg: Tu Arnav ko kuch aur bol rha\\n',\n 'Jaagrit Tiet: 🦁\\n',\n 'Jaagrit Tiet: 🥚\\n',\n 'Jaagrit Tiet: 🐣\\n',\n 'Jaagrit Tiet: 🐤\\n',\n 'Jaagrit Tiet: 🐥\\n',\n 'Kushang Garg: 🦆\\n',\n 'Kushang Garg: 🦅\\n',\n 'Kushang Garg: 🦉\\n',\n 'Kushang Garg: 🐺\\n',\n 'Jaagrit Tiet: 🐘\\n',\n 'Kushang Garg: <Media omitted>\\n',\n 'Jaagrit Tiet: <Media omitted>\\n',\n 'Jaagrit Tiet: <Media omitted>\\n',\n 'Kushang Garg: Bhai tu lab mei krr kya rha\\n',\n 'Kushang Garg: Code ni krr rhw\\n',\n 'Jaagrit Tiet: <Media omitted>\\n',\n 'Jaagrit Tiet: bnd computer pe kaam\\n',\n 'Kushang Garg: 😂\\n',\n 'Jaagrit Tiet: <Media omitted>\\n',\n 'Jaagrit Tiet: <Media omitted>\\n',\n 'Kushang Garg: Bhai mam hai ni kya??\\n',\n 'Jaagrit Tiet: <Media omitted>\\n',\n 'Jaagrit Tiet: <Media omitted>\\n',\n 'Jaagrit Tiet: <Media omitted>\\n',\n 'Jaagrit Tiet: <Media omitted>\\n',\n 'Jaagrit Tiet: <Media omitted>\\n',\n 'Jaagrit Tiet: <Media omitted>\\n',\n 'Kushang Garg: <Media omitted>\\n',\n 'Jaagrit Tiet: <Media omitted>\\n',\n 'Kushang Garg: <Media omitted>\\n',\n 'Jaagrit Tiet: <Media omitted>\\n',\n 'Jaagrit Tiet: <Media omitted>\\n',\n 'Jaagrit Tiet: <Media omitted>\\n',\n 'Jaagrit Tiet: <Media omitted>\\n',\n 'Jaagrit Tiet: <Media omitted>\\n',\n 'Kushang Garg: the state of expecting or believing that bad things will happen and that something will not be successful.A pessimistic person is one who is often seen as lacking hope and joy\\n•\\t For example:  A person going to a party assumes the event will be boring or inappropriate.\\n•\\tA person interviewing for a job believes the interview will be unsuccessful or that the job will be given to someone else for reasons unrelated to interview performance\\n',\n 'Kushang Garg: yeh theek hai plessmism ke liye examples?\\n',\n 'Kushang Garg: There has been much research done on the topic of personality traits and perceived stress, specifically that those who are high in neuroticism are more likely to perceive life events as highly stressful while those high in extraversion are less likely to perceive life events as stressful\\n',\n 'Kushang Garg: yeh point add kr skte hai conclusion mei\\n',\n 'Kushang Garg: iski wording change krke add krdenge\\n',\n 'Jaagrit Tiet: Pessimism is positively correlated with neuroticism and inversely correlated with other Big 5 personality traits\\nResearches has revealed that levels of stress and pessimism are correlated.\\n',\n 'Jaagrit Tiet: yele graph wala content\\n',\n 'Jaagrit Tiet: data from kaggle dataset used python to plot it  (agar mam source pooche toh.)\\n',\n 'Jaagrit Tiet: Linear Regression\\nSVR\\nLogistic Regression\\nDecision Tree regression\\n',\n 'Kushang Garg: bhai vo link bhejde smajhna tha\\n',\n 'Jaagrit Tiet: are bhool gya tha\\n',\n 'Jaagrit Tiet: ruk bhejta hoon\\n',\n 'Jaagrit Tiet: <Media omitted>\\n',\n 'Jaagrit Tiet: <Media omitted>\\n',\n 'Jaagrit Tiet: link me 2 min me bhej rha hoon dhoond ke\\n',\n 'Kushang Garg: ok\\n',\n 'Jaagrit Tiet: <Media omitted>\\n',\n 'Jaagrit Tiet: <Media omitted>\\n',\n 'Jaagrit Tiet: bhai shayad data magic krke tha\\n',\n 'Jaagrit Tiet: jisse maine kiya tha kbhi\\n',\n 'Jaagrit Tiet: <Media omitted>\\n',\n 'Kushang Garg: <Media omitted>\\n',\n 'Kushang Garg: bhai yeh dataset chl ja\\n',\n 'Kushang Garg: chalega*\\n',\n 'Jaagrit Tiet: bhai corr bhej\\n',\n 'Jaagrit Tiet: ya dataset ka link\\n',\n 'Jaagrit Tiet: aise toh nhi pta chlega\\n',\n 'Kushang Garg: bhejta hu\\n',\n 'Kushang Garg: kaggle\\n',\n 'Kushang Garg: <Media omitted>\\n',\n 'Kushang Garg: https://www.kaggle.com/datasets/noordeen/insurance-premium-prediction\\n',\n 'Kushang Garg: yeh wala dekhio ek brr\\n',\n 'Jaagrit Tiet: hn\\n',\n 'Jaagrit Tiet: kr skta hai\\n',\n 'Kushang Garg: ismei normalize krne ki zaroorat h?\\n',\n 'Jaagrit Tiet: bhai wo toh aise nhi pta chlega\\n',\n 'Jaagrit Tiet: ek baar regression lga ke dekhle\\n',\n 'Jaagrit Tiet: results aange toh pta chlega\\n',\n 'Kushang Garg: smoker nd sex vale column ko 0 1 krne ka socha tha\\n',\n 'Jaagrit Tiet: hn woh toh krde\\n',\n 'Jaagrit Tiet: usse label encoding bolte hai\\n',\n 'Kushang Garg: hmm\\n',\n 'Kushang Garg: <Media omitted>\\n',\n 'Kushang Garg: <Media omitted>\\n',\n 'Kushang Garg: bhai call krioo jab free hoo\\n',\n 'Jaagrit Tiet: hn\\n',\n 'Kushang Garg: <Media omitted>\\n',\n 'Jaagrit Tiet: bhai nhi hai outlier\\n',\n 'Kushang Garg: #include <bits/stdc++.h>\\nusing namespace std;\\nstruct activity{\\n\\tint id;\\n\\tint deadline;\\n\\tint profit;\\n};\\nbool sort_arr(activity a, activity b){\\n\\treturn (a.profit>b.profit);\\n}\\n\\nint main(){\\n\\tstruct activity arr[4];\\n\\tint max;\\n\\tint n=4;\\nfor(int i = 0;i<n;i++){\\n\\t\\tcin>>activity[i].deadline;\\n\\t\\tcin>>activity[i].profit;\\n\\t\\tcout<<endl;\\n\\t\\tactivity[i].id=i+1;\\n\\t}\\n\\tsort(arr,arr+n,sort_arr);\\n\\tmax =arr[0].profit;\\n\\tint k = 1;\\n\\tfor(int i =1 ;i<4;i++){\\n\\t\\tif(arr[i].deadline>k){\\n\\t\\t\\tmax = max+arr[i].profit;\\n\\t\\t\\tk++;\\n\\t\\t}\\n\\t}\\n\\treturn max;\\n\\t\\n}\\n',\n 'Kushang Garg: <Media omitted>\\n',\n 'Jaagrit Tiet: bhai arr[i].deadline aaega\\n',\n 'Jaagrit Tiet: activity[i] nhi\\n',\n 'Kushang Garg: ohhh\\n',\n 'Kushang Garg: thanxx\\n',\n 'Jaagrit Tiet: np\\n',\n 'Kushang Garg: #include<iostream>\\n#include <bits/stdc++.h>\\nusing namespace std;\\nstruct job\\n{\\n\\tint st;\\n\\tint ft;\\n\\tint actno;\\n};\\n\\nbool activityCompare(job s1, job s2)\\n{\\n    return (s1.ft < s2.ft);\\n}\\nint main(){\\n\\t\\tstruct job activity[6];\\n\\t\\tint n = 6;\\n\\tfor(int i = 0;i<n;i++){\\n\\t\\tcin>>activity[i].st;\\n\\t\\tcin>>activity[i].ft;\\n\\t\\tcout<<endl;\\n\\t\\tactivity[i].actno=i+1;\\n\\t}\\n\\tcout<<\"Start time\"<<\" \"<<\"End Time\"<<\" \"<<\"Activity no.\"<<endl;\\n\\tfor(int i= 0 ;i<n;i++){\\n\\t\\tcout<<activity[i].st<<\"             \"<<activity[i].ft<<\"         \"<<activity[i].actno<<endl;\\n\\t}\\n\\tsort(activity, activity+n, activityCompare);\\n\\t\\tcout<<\"Start time\"<<\" \"<<\"End Time\"<<\" \"<<\"Activity no.\"<<endl;\\n\\tfor(int i= 0 ;i<n;i++){\\n\\t\\tcout<<activity[i].st<<\"             \"<<activity[i].ft<<\"         \"<<activity[i].actno<<endl;\\n\\t}\\n\\tint flag = activity[0].ft;\\n\\tvector<int> solution;\\n\\tsolution.push_back(activity[0].actno);\\n\\tfor(int i = 0;i<n;i++){\\n\\t\\tif(activity[i].st>=flag){\\n\\t\\t\\tsolution.push_back(activity[i].actno);\\n\\t\\t\\tflag = activity[i].ft;\\n\\t\\t}\\n\\t}\\n\\t\\n\\t\\n\\t\\n\\t\\n\\t\\n}\\n',\n 'Kushang Garg: Aaja bhai aatendance ho rhi h\\n',\n 'Kushang Garg: <Media omitted>\\n',\n 'Kushang Garg: <Media omitted>\\n',\n 'Kushang Garg: <Media omitted>\\n',\n 'Jaagrit Tiet: education4u\\n',\n 'Jaagrit Tiet: bhanu priya\\n',\n 'Kushang Garg: <Media omitted>\\n',\n 'Kushang Garg: Bhai hogya change\\n',\n 'Kushang Garg: 😂\\n',\n 'Jaagrit Tiet: 🤨\\n',\n 'Jaagrit Tiet: ye kb hua\\n',\n 'Kushang Garg: Pta ni\\n',\n 'Kushang Garg: Akshat ne bheji hai abhi\\n',\n 'Jaagrit Tiet: hn dekha maine\\n',\n 'Jaagrit Tiet: <Media omitted>\\n',\n 'Kushang Garg: <Media omitted>\\n',\n 'Kushang Garg: Bhai tere ek message ne bwaal macha dia\\n',\n 'Kushang Garg: Kyo pangee le rqha\\n',\n 'Kushang Garg: Raha*\\n',\n 'Jaagrit Tiet: bhai bs bkchodi krni thi😂😂😂\\n',\n 'Kushang Garg: Thoda zyada ni hogya\\n',\n 'Kushang Garg: 😅\\n',\n 'Jaagrit Tiet: mera kaam hogya ldne de ab\\n',\n 'Jaagrit Tiet: 😂\\n',\n 'Jaagrit Tiet: mze le ab bs\\n',\n 'Kushang Garg: Bhai lga di aag tunee\\n',\n 'Jaagrit Tiet: <Media omitted>\\n',\n 'Jaagrit Tiet: mza aagya😂\\n',\n 'Jaagrit Tiet: ulta pd gya\\n',\n 'Kushang Garg: Vhii\\n',\n 'Kushang Garg: Yeh akshat aur Arnav ko shant krr\\n',\n 'Jaagrit Tiet: kaash ye meri maanlete\\n',\n 'Kushang Garg: 😂\\n',\n 'Jaagrit Tiet: toh start hee nhi hota\\n',\n 'Kushang Garg: Gye ni tum log raone dekhne\\n',\n 'Jaagrit Tiet: na\\n',\n 'Kushang Garg: Mujhe pta hi tha ki tum log nhi Jane wale😂\\n',\n 'Jaagrit Tiet: mai nhi gya\\n',\n 'Jaagrit Tiet: baaki hoke aae hai\\n',\n 'Kushang Garg: Kon kon\\n',\n 'Kushang Garg: ?\\n',\n 'Jaagrit Tiet: pta nhi bhai\\n',\n 'Jaagrit Tiet: mai toh khelne gya tha\\n',\n 'Kushang Garg: Arnav gya tha?\\n',\n 'Jaagrit Tiet: hn\\n',\n 'Kushang Garg: Usse puchta hu\\n',\n 'Jaagrit Tiet: class lgaega?\\n',\n 'Kushang Garg: Hn\\n',\n 'Kushang Garg: Tu lgara na??\\n',\n 'Kushang Garg: Bhai yeh log phr shuru hogye\\n',\n 'Jaagrit Tiet: kya hua ab?\\n',\n 'Kushang Garg: Grp dekh bhai\\n',\n 'Kushang Garg: Maine ab start ni krra\\n',\n 'Jaagrit Tiet: dekhta hoon\\n',\n 'Kushang Garg: Give Arnav a good reply\\n',\n 'Jaagrit Tiet: chd bhai\\n',\n 'Jaagrit Tiet: bimar hai\\n',\n 'Jaagrit Tiet: khush rhenede thoda😂😂\\n',\n 'Kushang Garg: Acha tum log aaj ke din mile thi tbhii dalaa yeh nssage\\n',\n 'Kushang Garg: Message??\\n',\n 'Jaagrit Tiet: pta nhi bhai\\n',\n 'Kushang Garg: Yeh to anniversary type kuch hogya bhai😂😂\\n',\n 'Jaagrit Tiet: 😒\\n',\n 'Kushang Garg: 😂😂\\n',\n 'Jaagrit Tiet: tera alg hee chl rha hai\\n',\n 'Jaagrit Tiet: akshat bhej rha hai\\n',\n 'Jaagrit Tiet: merko mil nhi rha\\n',\n 'Kushang Garg: ok\\n',\n 'Kushang Garg: bhejdia usne\\n',\n 'Jaagrit Tiet: 👍👍\\n',\n 'Jaagrit Tiet: <Media omitted>\\n',\n 'Jaagrit Tiet: total ch farak hai\\n',\n 'Kushang Garg: Bhai yeh UHU vaalo ko pappr mei .25 .75 kyo dete h\\n',\n 'Kushang Garg: Innhe papr chk krna nhi aata\\n',\n 'Jaagrit Tiet: ki pta ki krde ne eh\\n',\n 'Jaagrit Tiet: hnn\\n',\n 'Kushang Garg: Kii\\n',\n 'Jaagrit Tiet: rukj\\n',\n 'Kushang Garg: Mai kll ede office ja k dekh k aaunga\\n',\n 'Kushang Garg: Higest kinne ne\\n',\n 'Kushang Garg: ?\\n',\n 'Jaagrit Tiet: shi aa\\n',\n 'Kushang Garg: .\\n',\n 'Jaagrit Tiet: 24\\n',\n 'Jaagrit Tiet: bhai mail id bhej\\n',\n 'Jaagrit Tiet: apni\\n',\n 'Jaagrit Tiet: code send krdeta hoon\\n',\n 'Kushang Garg: Bhejta hun\\n',\n 'Kushang Garg: kushanggarg2001@gmail.com\\n',\n 'Jaagrit Tiet: dekh bhejdi hai\\n',\n 'Jaagrit Tiet: whatsapp se wo file install nhi hoti\\n',\n 'Kushang Garg: Bhai mam ko bilkul yaad ni tha Tera code\\n',\n 'Jaagrit Tiet: chlo shi hui hogi fir eval\\n',\n 'Jaagrit Tiet: so gya hoga ab toh😅😅\\n',\n 'Kushang Garg: Happy birthday chuunuu🎊🎊🎊🥳🥳\\n',\n 'Jaagrit Tiet: Thank you kushang 😇😇\\n',\n 'Kushang Garg: Bhai aate hue charger zarur leaio\\n',\n 'Kushang Garg: kbb aaega tu\\n',\n 'Kushang Garg: Wishing u and ur your family a very very happy diwali 😇 with lots of happiness like the stars in sky✨✨ and ur life being bright💥💥 like the lights on this occasion . May this diwali bring  the joy ,a great health and all the dreams of ur come true💯 . Be happy and stay happy forever . \\n\\nwith warm regards-Kushang Garg\\n',\n 'Jaagrit Tiet: Happy diwali bhai 🥳🥳🥳\\nnd wishing you the same🍫\\n',\n 'Jaagrit Tiet: class aaja\\n',\n 'Jaagrit Tiet: andar hai hm\\n',\n 'Kushang Garg: Raste mein hu\\n',\n 'Jaagrit Tiet: okk\\n',\n 'Jaagrit Tiet: bhai isne rkhli attendance sheet\\n',\n 'Jaagrit Tiet: maangle\\n',\n 'Jaagrit Tiet: hm teeno ki rheyi hai\\n',\n 'Kushang Garg: Oye konsi streak bheji hai tune Akshat ko\\n',\n 'Jaagrit Tiet: kya hua🤣\\n',\n 'Jaagrit Tiet: mrne nhi lga hoon tention mt le\\n',\n 'Jaagrit Tiet: <Media omitted>\\n',\n 'Jaagrit Tiet: in case required\\n',\n 'Kushang Garg: <Media omitted>\\n',\n 'Kushang Garg: https://en.wikipedia.org/wiki/Shri_Mahila_Griha_Udyog_Lijjat_Papad#:~:text=Lijjat%20was%20started%20by%20seven,skill%20they%20had%20i.e.%20cooking.\\n',\n 'Jaagrit Tiet: or bhai\\n',\n 'Jaagrit Tiet: https://www.google.com/url?sa=i&url=http%3A%2F%2F14.139.155.167%2Ftest5%2Findex.php%2Fkjas%2Farticle%2Fview%2F1391%2F2246&psig=AOvVaw0NPTyWzVOfjnlF0y2NiCRW&ust=1668186834657000&source=images&cd=vfe&ved=0CBAQjRxqFwoTCNCwqrKOpPsCFQAAAAAdAAAAABA-\\n',\n 'Jaagrit Tiet: <Media omitted>\\n',\n 'Jaagrit Tiet: <Media omitted>\\n',\n 'Jaagrit Tiet: ye le oe\\n',\n 'Jaagrit Tiet: mera naamna lio😂😂\\n',\n 'Kushang Garg: Ok\\n',\n 'Kushang Garg: Done\\n',\n 'Kushang Garg: Oye arnav ki koi photo nhi hai tere pass\\n',\n 'Jaagrit Tiet: bhai admin hee nhi hon\\n',\n 'Kushang Garg: hai bhai tu\\n',\n 'Kushang Garg: tujhe pta hi nhi ki tu admin h\\n',\n 'Jaagrit Tiet: abhi tk toh nhi tha\\n',\n 'Jaagrit Tiet: krta hoon chnge ruk\\n',\n 'Jaagrit Tiet: tune bnaya?\\n',\n 'Kushang Garg: oye tune mujhe hta dia\\n',\n 'Kushang Garg: hnn\\n',\n 'Jaagrit Tiet: naa\\n',\n 'Kushang Garg: yeh kya lga dia\\n',\n 'Jaagrit Tiet: bhai bs hogya\\n',\n 'Jaagrit Tiet: Shubham Singhal TIET.vcf (file attached)\\n',\n 'Jaagrit Tiet: subhe tk bhejta hoon requirements front end ki\\n',\n 'Kushang Garg: Ok sir\\n',\n 'Jaagrit Tiet: HAPPY BIRTHDAY to the \"brewtiful\" who likes coffee as black as their soul...!!! Dont keep calm and be crazy as you are now.....\\n',\n 'Jaagrit Tiet: bhai yhi bna merse\\n',\n 'Jaagrit Tiet: basically consists of coffee lover and joyfullness\\n',\n 'Kushang Garg: Thanks broo\\n',\n 'Jaagrit Tiet: 👍\\n',\n 'Jaagrit Tiet: oe bhejdiya tune??\\n',\n 'Jaagrit Tiet: thoda change krde\\n',\n 'Kushang Garg: Nhi\\n',\n 'Jaagrit Tiet: HAPPY BIRTHDAY to the one who likes coffee as black as their soul...!!! Dont keep calm and be crazy as you are now.....\\n',\n 'Jaagrit Tiet: brewtiful thoda ajeeb lg rha tha\\n',\n 'Jaagrit Tiet: one krdiya usse\\n',\n 'Kushang Garg: Bhai soul black Kyo kaha\\n',\n 'Jaagrit Tiet: smjha nhi tu\\n',\n 'Kushang Garg: Smajhaoo\\n',\n 'Jaagrit Tiet: wo black coffee nhi piti\\n',\n 'Jaagrit Tiet: milk waali peeti hai\\n',\n 'Kushang Garg: Soul black kaise hui\\n',\n 'Jaagrit Tiet: i.e almost whitish coffee\\n',\n 'Jaagrit Tiet: HAPPY BIRTHDAY to the one who likes coffee as sweet as their soul...!!! Dont keep calm and be crazy as you are now.....\\n',\n 'Jaagrit Tiet: I wish that you always remain free like a bird and strong like a rock, though you are a tubelight but keep in mind that it brings light in everyones life...!\\nHAPPY BIRTHDAY\\n',\n 'Kushang Garg: https://www.tandfonline.com/doi/abs/10.1080/02678379408259984\\n',\n 'Jaagrit Tiet: and kaha tha ki 2 ke groups mein divide hokar we have to choose any company and uss company ke under ai ka future batana hai\\n',\n 'Jaagrit Tiet: or intro ki abhi tk kya use kiya hai or what does this co. do\\n',\n 'Kushang Garg: <Media omitted>\\n',\n 'Jaagrit Tiet: <Media omitted>\\n',\n 'Jaagrit Tiet: A3 colour\\n',\n 'Jaagrit Tiet: potrait me\\n',\n 'Kushang Garg: A3 sheet\\n',\n 'Jaagrit Tiet: hn\\n',\n 'Kushang Garg: ?\\n',\n 'Jaagrit Tiet: A3 size sheet \\ncoloured print\\n',\n 'Kushang Garg: Hnn bhai black nd white thoda nikal waunga\\n',\n 'Kushang Garg: 😒\\n',\n 'Jaagrit Tiet: fir bhi😂\\n',\n 'Jaagrit Tiet: chl niklwa laio bhai\\n',\n 'Kushang Garg: Ok\\n',\n 'Kushang Garg: Bhai jbb ppt complete hojaye to yaad se bhejdio\\n',\n 'Jaagrit Tiet: <Media omitted>\\n',\n 'Jaagrit Tiet: <Media omitted>\\n',\n 'Kushang Garg: <Media omitted>\\n',\n 'Kushang Garg: oye iska activation ree bnaio\\n',\n 'Jaagrit Tiet: Dijsktra\\n',\n 'Jaagrit Tiet: <Media omitted>\\n',\n 'Jaagrit Tiet: <Media omitted>\\n',\n 'Kushang Garg: PRIMS ALSO\\n',\n 'Jaagrit Tiet: <Media omitted>\\n',\n 'Jaagrit Tiet: <Media omitted>\\n',\n 'Jaagrit Tiet: <Media omitted>\\n',\n 'Jaagrit Tiet: <Media omitted>\\n',\n 'Kushang Garg: Bhai vo pta lga ki i=2 ke liye Kyo Kiya hua?\\n',\n 'Kushang Garg: Karger algo mei\\n',\n 'Jaagrit Tiet: hn\\n',\n 'Jaagrit Tiet: wo m tk jaega\\n',\n 'Jaagrit Tiet: algo me likha hai uske\\n',\n 'Kushang Garg: m kya tha?\\n',\n 'Jaagrit Tiet: m wo question ppr me dega\\n',\n 'Kushang Garg: ok\\n',\n 'Jaagrit Tiet: arbitrary number\\n',\n 'Kushang Garg: randomly choose krna hme edge hna?\\n',\n 'Jaagrit Tiet: hn\\n',\n 'Jaagrit Tiet: dinner krlia?\\n',\n 'Kushang Garg: Kr rhe hai bhai\\n',\n 'Kushang Garg: Pind baluchi kuch hai yha cp me\\n',\n 'Kushang Garg: Wna kha rhe hai\\n',\n 'Jaagrit Tiet: best\\n',\n 'Jaagrit Tiet: sizzler try klena\\n',\n 'Jaagrit Tiet: agar krna ho toh\\n',\n 'Kushang Garg: Okay sir 👍\\n',\n 'Jaagrit Tiet: or dal makhni is very good\\n',\n 'Kushang Garg: Haan wo to mangwayi hi hai\\n',\n 'Kushang Garg: Bhai live music\\n',\n 'Kushang Garg: Vi yha\\n',\n 'Kushang Garg: Kaafi shi hai\\n',\n 'Jaagrit Tiet: hn hota hai udhar\\n',\n 'Kushang Garg: Overall bahut Acha lga\\n',\n 'Kushang Garg: This all is Akshat talking\\n',\n 'Kushang Garg: My phone dead\\n',\n 'Jaagrit Tiet: 😂\\n',\n 'Jaagrit Tiet: smjh gya tha\\n',\n 'Kushang Garg: Locomat\\n',\n 'Kushang Garg: Xyz.vcf (file attached)\\n',\n 'Jaagrit Tiet: milgai photo?\\n',\n 'Kushang Garg: Yss\\n',\n 'Jaagrit Tiet: This message was deleted\\n',\n 'Jaagrit Tiet: 🥳🥳🥳🥳🥳 🥳🥳🥳🥳🥳🥳🥳\\n',\n 'Jaagrit Tiet: 🥳🥳🥳🥳🥳 🥳🥳🥳🥳🥳🥳🥳\\n',\n 'Jaagrit Tiet: जन्मदिन की शुभकामनाएं\\n',\n 'Jaagrit Tiet: 🥂🥂🥂🥂🥂🥂🥂🥂🥂🥂🥂🥂🥂\\n',\n 'Kushang Garg: Thank u bhai🤩\\n',\n 'Kushang Garg: Kuch Jyada hi *Khushi* jhalak rhi h😛\\n',\n 'Jaagrit Tiet: thank you nhi bhai party kb\\n',\n 'Kushang Garg: 9 jan\\n',\n 'Jaagrit Tiet: mtlb bina gaali khae kaam nhi chlega\\n',\n 'Kushang Garg: LA club\\n',\n 'Jaagrit Tiet: shi shi\\n',\n 'Kushang Garg: 😂\\n',\n 'Jaagrit Tiet: waise hum 16-17 ko aaenge😂\\n',\n 'Kushang Garg: Itni late kyo\\n',\n 'Jaagrit Tiet: yaar 15 jan ko mummy ka 50th bday hai\\n',\n 'Jaagrit Tiet: toh wapis nhi aaya jaega\\n',\n 'Jaagrit Tiet: isliye socha hfta late\\n',\n 'Kushang Garg: Ohh ok chlo koini tbb tkk arnav bhi aajayga\\n',\n 'Jaagrit Tiet: pta nhi\\n',\n 'Jaagrit Tiet: chlo enjoy ur night new year bhi hai bday bhi hai\\n',\n 'Kushang Garg: Maine pehle se decide krke rkha kha deni hai party\\n',\n 'Jaagrit Tiet: hn ye shi lga\\n',\n 'Jaagrit Tiet: hmne bho gift decide kiya hua hai\\n',\n 'Jaagrit Tiet: kya dena hai tujhe\\n',\n 'Kushang Garg: 😂\\n',\n 'Kushang Garg: Bhai kaisa lgg rha ?😂\\n',\n 'Kushang Garg: Mja to aa rha hoga kaafi\\n',\n 'Kushang Garg: 😏\\n',\n 'Kushang Garg: <Media omitted>\\n',\n 'Jaagrit Tiet: meri pdosan\\n',\n 'Kushang Garg: Congratulations bhai very happy for u😝🥳🥳\\n',\n 'Jaagrit Tiet: bhai mess card ki photo bhejde\\n',\n 'Jaagrit Tiet: 😂\\n',\n 'Jaagrit Tiet: mon se entry nhi milegi bina uske😂😂\\n',\n 'Kushang Garg: 😂😂\\n',\n 'Kushang Garg: Uss din bhul gya mai dena\\n',\n 'Jaagrit Tiet: koi nhi\\n',\n 'Kushang Garg: Abhi bhejta hu\\n',\n 'Jaagrit Tiet: ab teri mon se entry bnd😂\\n',\n 'Jaagrit Tiet: araam se\\n',\n 'Kushang Garg: <Media omitted>\\n',\n 'Kushang Garg: kushanggarg2001@gmail.com\\n',\n 'Kushang Garg: Bhai kaisi rhi lab eval?\\n',\n 'Kushang Garg: Lec mei hai kya?\\n',\n 'Jaagrit Tiet: naa\\n',\n 'Jaagrit Tiet: <Media omitted>\\n',\n 'Kushang Garg: Bhaiii meree\\n',\n 'Jaagrit Tiet: saath hee toh ho\\n',\n 'Jaagrit Tiet: gryffindor pe bhi bheja\\n',\n 'Kushang Garg: Bhai soya to nhi?\\n',\n 'Jaagrit Tiet: nhi nhi\\n',\n 'Kushang Garg: Vignere cipher wali file mail krde\\n',\n 'Jaagrit Tiet: hn krta hoon\\n',\n 'Jaagrit Tiet: ruk\\n',\n 'Kushang Garg: Autokey dekhlio ek baar mera koi glti ho to btaiyo\\nVaise maine 3-4 baar test krlia hai prr phir agr koi improvmnt ho to btaiyo\\n',\n 'Jaagrit Tiet: hn abhi dekha nhi\\n',\n 'Jaagrit Tiet: hogi toh btata hoon\\n',\n 'Jaagrit Tiet: mail krdi\\n',\n 'Kushang Garg: Ok\\n',\n 'Jaagrit Tiet: shi hai\\n',\n 'Jaagrit Tiet: autokey\\n',\n 'Kushang Garg: ☺️☺️\\n',\n 'Jaagrit Tiet: oe\\n',\n 'Jaagrit Tiet: wo percentage eigen value/sum of eigen values\\n',\n 'Jaagrit Tiet: se niklegi\\n',\n 'Kushang Garg: Achaa\\n',\n 'Kushang Garg: Thanxx\\n',\n 'Jaagrit Tiet: 🍺\\n',\n 'Jaagrit Tiet: It is Mandantory for *EVERYONE* to fill this form \\n\\nStudents Who have  the Offer for Internship/are selected On-Campus/Off-Campus \\n https://forms.gle/KEE5W1ZiLA2xYU8L8\\n\\nStudents Who Dont Have Internship \\n https://forms.gle/fGgkQeATKaAxMtwQA\\n\\nIf any issue comes from your side and the above form circulated is not filled by the student then it will not be catered.\\n\\n *DEADLINE* : 17th March\\n11:59PM\\n',\n 'Jaagrit Tiet: ye google form jo aaj bhrna hai\\n',\n 'Jaagrit Tiet: Registeration link : https://jpmc.fa.oraclecloud.com/hcmUI/CandidateExperience/en/sites/CX_1001/job/210395041/?utm_medium=jobshare\\n\\nDeadline : 23march\\n',\n 'Jaagrit Tiet: ye jp morgan\\n',\n 'Kushang Garg: thanx buddy\\n',\n 'Jaagrit Tiet: np🥂😇\\n',\n 'Kushang Garg: https://www.youtube.com/watch?v=R-AG4-qZs1A&list=PLeo1K3hjS3uuvuAXhYjV2lMEShq2UYSwX\\n',\n 'Jaagrit Tiet: bandhan bank ki branch kidhar hai ifhar\\n',\n 'Jaagrit Tiet: idhar*\\n',\n 'Kushang Garg: Pta nhi\\n',\n 'Kushang Garg: Papa\\n',\n 'Kushang Garg: Ko puch k btadunga\\n',\n 'Jaagrit Tiet: hn btaio\\n',\n 'Kushang Garg: Bhai aaj tumhari mess mei kya hai?\\n',\n 'Jaagrit Tiet: I am not sure!\\n',\n 'Kushang Garg: Any idea\\n',\n 'Jaagrit Tiet: No!\\n',\n 'Kushang Garg: <Media omitted>\\n',\n 'Kushang Garg: <Media omitted>\\n',\n 'Kushang Garg: <Media omitted>\\n',\n 'Kushang Garg: Bhai tera ticket k alawa kuch aur lga tha?\\n',\n 'Jaagrit Tiet: naa\\n',\n 'Jaagrit Tiet: sun mere ticket wale akshat ko hee krdio\\n',\n 'Jaagrit Tiet: pay\\n',\n 'Kushang Garg: Mtlbb?\\n',\n 'Jaagrit Tiet: 405+165+225\\n',\n 'Jaagrit Tiet: devide by 3\\n',\n 'Jaagrit Tiet: ticket ke paise jo tune mujhe dene hai akshat ko dedio\\n',\n 'Jaagrit Tiet: mai fir usse less krke dedunga\\n',\n 'Kushang Garg: Bhai aksht ko akag krunga tujhe alsg ticket k krr rha hu\\n',\n 'Jaagrit Tiet: chl theek tu aise krle\\n',\n 'Kushang Garg: 265?\\n',\n 'Jaagrit Tiet: apne aap calculate krlio😂\\n',\n 'Kushang Garg: Right\\n',\n 'Jaagrit Tiet: .\\n',\n 'Kushang Garg: Kya\\n',\n 'Jaagrit Tiet: hn yhi hai\\n',\n 'Kushang Garg: Gpay haina\\n',\n 'Jaagrit Tiet: han han\\n',\n 'Jaagrit Tiet: bindaas dalde 2650\\n',\n 'Jaagrit Tiet: na ek km na ek zyada\\n',\n 'Kushang Garg: Itne bhai acc mei hai nhi\\n',\n 'Jaagrit Tiet: 😂😂\\n',\n 'Kushang Garg: <Media omitted>\\n',\n 'Jaagrit Tiet: <Media omitted>\\n']"
     },
     "execution_count": 35,
     "metadata": {},
     "output_type": "execute_result"
    }
   ],
   "source": [
    "messages = re.split(pattern, data)[1:]\n",
    "messages"
   ]
  },
  {
   "cell_type": "code",
   "execution_count": 36,
   "metadata": {
    "ExecuteTime": {
     "end_time": "2023-07-26T07:59:16.178408400Z",
     "start_time": "2023-07-26T07:59:15.993936900Z"
    }
   },
   "outputs": [
    {
     "data": {
      "text/plain": "['03/01/2022, 21:59 - ',\n '03/01/2022, 21:59 - ',\n '03/01/2022, 21:59 - ',\n '03/01/2022, 21:59 - ',\n '03/01/2022, 22:00 - ',\n '03/01/2022, 22:00 - ',\n '03/01/2022, 22:12 - ',\n '03/01/2022, 22:12 - ',\n '03/01/2022, 22:13 - ',\n '03/01/2022, 22:15 - ',\n '03/01/2022, 22:15 - ',\n '03/01/2022, 22:16 - ',\n '03/01/2022, 22:17 - ',\n '03/01/2022, 22:17 - ',\n '03/01/2022, 22:17 - ',\n '03/01/2022, 22:17 - ',\n '03/01/2022, 22:18 - ',\n '03/01/2022, 22:19 - ',\n '03/01/2022, 22:19 - ',\n '23/02/2022, 12:27 - ',\n '23/02/2022, 12:27 - ',\n '23/02/2022, 12:28 - ',\n '23/02/2022, 12:28 - ',\n '23/02/2022, 15:41 - ',\n '23/02/2022, 13:52 - ',\n '23/02/2022, 15:50 - ',\n '23/02/2022, 15:50 - ',\n '23/02/2022, 15:51 - ',\n '01/03/2022, 22:33 - ',\n '01/03/2022, 22:33 - ',\n '01/03/2022, 22:34 - ',\n '01/03/2022, 22:34 - ',\n '01/03/2022, 22:34 - ',\n '08/03/2022, 23:16 - ',\n '08/03/2022, 23:16 - ',\n '08/03/2022, 23:16 - ',\n '08/03/2022, 23:16 - ',\n '08/03/2022, 23:16 - ',\n '08/03/2022, 23:16 - ',\n '16/03/2022, 11:30 - ',\n '04/04/2022, 15:14 - ',\n '20/04/2022, 14:22 - ',\n '20/04/2022, 14:37 - ',\n '20/04/2022, 14:37 - ',\n '20/04/2022, 14:37 - ',\n '20/04/2022, 14:37 - ',\n '04/05/2022, 10:34 - ',\n '04/05/2022, 10:34 - ',\n '04/05/2022, 12:11 - ',\n '04/05/2022, 14:38 - ',\n '05/05/2022, 22:54 - ',\n '12/05/2022, 22:27 - ',\n '12/05/2022, 22:27 - ',\n '12/05/2022, 22:28 - ',\n '12/05/2022, 22:29 - ',\n '12/05/2022, 22:29 - ',\n '12/05/2022, 22:29 - ',\n '12/05/2022, 22:29 - ',\n '12/05/2022, 22:30 - ',\n '12/05/2022, 22:30 - ',\n '14/05/2022, 17:51 - ',\n '14/05/2022, 17:52 - ',\n '14/05/2022, 18:56 - ',\n '14/05/2022, 18:56 - ',\n '14/05/2022, 23:25 - ',\n '14/05/2022, 23:56 - ',\n '14/05/2022, 23:58 - ',\n '23/05/2022, 10:59 - ',\n '23/05/2022, 11:18 - ',\n '23/05/2022, 11:27 - ',\n '23/05/2022, 11:27 - ',\n '23/05/2022, 11:27 - ',\n '23/05/2022, 11:28 - ',\n '23/05/2022, 11:28 - ',\n '23/05/2022, 11:28 - ',\n '23/05/2022, 11:28 - ',\n '23/05/2022, 11:28 - ',\n '23/05/2022, 11:28 - ',\n '23/05/2022, 11:28 - ',\n '23/05/2022, 11:28 - ',\n '23/05/2022, 11:29 - ',\n '23/05/2022, 11:29 - ',\n '23/05/2022, 11:29 - ',\n '04/06/2022, 10:51 - ',\n '01/08/2022, 00:22 - ',\n '01/08/2022, 00:22 - ',\n '01/08/2022, 00:23 - ',\n '01/08/2022, 00:26 - ',\n '09/08/2022, 11:09 - ',\n '09/08/2022, 11:09 - ',\n '09/08/2022, 11:10 - ',\n '09/08/2022, 11:10 - ',\n '24/08/2022, 10:38 - ',\n '24/08/2022, 10:39 - ',\n '24/08/2022, 12:21 - ',\n '25/08/2022, 23:31 - ',\n '25/08/2022, 23:32 - ',\n '29/08/2022, 11:15 - ',\n '29/08/2022, 11:15 - ',\n '29/08/2022, 11:15 - ',\n '29/08/2022, 11:15 - ',\n '29/08/2022, 11:16 - ',\n '29/08/2022, 11:16 - ',\n '29/08/2022, 11:16 - ',\n '29/08/2022, 11:17 - ',\n '29/08/2022, 11:17 - ',\n '29/08/2022, 11:17 - ',\n '29/08/2022, 11:17 - ',\n '29/08/2022, 12:23 - ',\n '29/08/2022, 12:23 - ',\n '29/08/2022, 12:23 - ',\n '29/08/2022, 12:23 - ',\n '29/08/2022, 12:23 - ',\n '29/08/2022, 12:24 - ',\n '29/08/2022, 12:24 - ',\n '29/08/2022, 12:24 - ',\n '29/08/2022, 12:24 - ',\n '29/08/2022, 12:25 - ',\n '29/08/2022, 12:25 - ',\n '29/08/2022, 12:25 - ',\n '29/08/2022, 12:25 - ',\n '29/08/2022, 12:25 - ',\n '29/08/2022, 12:26 - ',\n '29/08/2022, 12:26 - ',\n '29/08/2022, 12:26 - ',\n '29/08/2022, 12:26 - ',\n '29/08/2022, 12:26 - ',\n '29/08/2022, 12:26 - ',\n '29/08/2022, 12:26 - ',\n '29/08/2022, 12:26 - ',\n '29/08/2022, 12:27 - ',\n '29/08/2022, 12:27 - ',\n '29/08/2022, 12:27 - ',\n '29/08/2022, 12:27 - ',\n '29/08/2022, 12:27 - ',\n '29/08/2022, 12:30 - ',\n '29/08/2022, 12:30 - ',\n '29/08/2022, 12:30 - ',\n '29/08/2022, 12:30 - ',\n '29/08/2022, 12:30 - ',\n '29/08/2022, 12:31 - ',\n '29/08/2022, 12:31 - ',\n '29/08/2022, 12:31 - ',\n '29/08/2022, 12:31 - ',\n '29/08/2022, 12:31 - ',\n '29/08/2022, 12:31 - ',\n '29/08/2022, 12:31 - ',\n '29/08/2022, 12:31 - ',\n '29/08/2022, 12:31 - ',\n '29/08/2022, 12:32 - ',\n '29/08/2022, 12:32 - ',\n '29/08/2022, 12:32 - ',\n '29/08/2022, 12:32 - ',\n '29/08/2022, 12:33 - ',\n '29/08/2022, 12:33 - ',\n '29/08/2022, 12:33 - ',\n '29/08/2022, 12:33 - ',\n '29/08/2022, 12:33 - ',\n '29/08/2022, 12:34 - ',\n '29/08/2022, 12:34 - ',\n '29/08/2022, 12:34 - ',\n '29/08/2022, 12:35 - ',\n '29/08/2022, 12:35 - ',\n '29/08/2022, 12:35 - ',\n '29/08/2022, 12:35 - ',\n '30/08/2022, 17:25 - ',\n '30/08/2022, 17:26 - ',\n '30/08/2022, 18:19 - ',\n '30/08/2022, 18:19 - ',\n '30/08/2022, 18:20 - ',\n '30/08/2022, 22:00 - ',\n '30/08/2022, 22:00 - ',\n '30/08/2022, 22:03 - ',\n '05/09/2022, 23:39 - ',\n '10/09/2022, 22:13 - ',\n '10/09/2022, 22:13 - ',\n '10/09/2022, 22:13 - ',\n '10/09/2022, 22:14 - ',\n '10/09/2022, 22:14 - ',\n '10/09/2022, 22:15 - ',\n '10/09/2022, 22:15 - ',\n '10/09/2022, 22:15 - ',\n '10/09/2022, 22:15 - ',\n '10/09/2022, 22:22 - ',\n '10/09/2022, 22:22 - ',\n '11/09/2022, 10:15 - ',\n '11/09/2022, 11:23 - ',\n '11/09/2022, 11:24 - ',\n '11/09/2022, 11:24 - ',\n '11/09/2022, 11:24 - ',\n '11/09/2022, 11:25 - ',\n '11/09/2022, 11:25 - ',\n '11/09/2022, 11:25 - ',\n '11/09/2022, 11:25 - ',\n '11/09/2022, 11:28 - ',\n '11/09/2022, 11:38 - ',\n '11/09/2022, 11:38 - ',\n '11/09/2022, 11:53 - ',\n '11/09/2022, 11:53 - ',\n '11/09/2022, 11:54 - ',\n '11/09/2022, 11:54 - ',\n '11/09/2022, 11:54 - ',\n '11/09/2022, 11:55 - ',\n '11/09/2022, 11:55 - ',\n '11/09/2022, 11:55 - ',\n '11/09/2022, 11:55 - ',\n '11/09/2022, 11:55 - ',\n '11/09/2022, 13:15 - ',\n '11/09/2022, 13:16 - ',\n '11/09/2022, 14:02 - ',\n '11/09/2022, 14:57 - ',\n '11/09/2022, 15:54 - ',\n '11/09/2022, 15:55 - ',\n '12/09/2022, 18:56 - ',\n '12/09/2022, 18:56 - ',\n '12/09/2022, 18:58 - ',\n '12/09/2022, 18:58 - ',\n '12/09/2022, 18:58 - ',\n '12/09/2022, 18:58 - ',\n '12/09/2022, 18:59 - ',\n '12/09/2022, 23:06 - ',\n '13/09/2022, 10:33 - ',\n '19/09/2022, 21:51 - ',\n '19/09/2022, 21:52 - ',\n '19/09/2022, 21:53 - ',\n '19/09/2022, 21:55 - ',\n '19/09/2022, 21:55 - ',\n '20/09/2022, 16:56 - ',\n '20/09/2022, 16:56 - ',\n '20/09/2022, 16:56 - ',\n '20/09/2022, 16:56 - ',\n '20/09/2022, 16:56 - ',\n '20/09/2022, 16:56 - ',\n '20/09/2022, 16:56 - ',\n '20/09/2022, 16:57 - ',\n '23/09/2022, 22:13 - ',\n '24/09/2022, 11:34 - ',\n '03/10/2022, 22:57 - ',\n '03/10/2022, 22:58 - ',\n '03/10/2022, 22:58 - ',\n '03/10/2022, 22:58 - ',\n '03/10/2022, 22:58 - ',\n '03/10/2022, 22:58 - ',\n '03/10/2022, 22:58 - ',\n '03/10/2022, 22:58 - ',\n '03/10/2022, 22:59 - ',\n '03/10/2022, 23:03 - ',\n '03/10/2022, 23:03 - ',\n '03/10/2022, 23:03 - ',\n '03/10/2022, 23:05 - ',\n '03/10/2022, 23:05 - ',\n '03/10/2022, 23:05 - ',\n '03/10/2022, 23:05 - ',\n '03/10/2022, 23:06 - ',\n '03/10/2022, 23:06 - ',\n '05/10/2022, 17:36 - ',\n '05/10/2022, 19:39 - ',\n '05/10/2022, 20:41 - ',\n '05/10/2022, 20:42 - ',\n '05/10/2022, 20:42 - ',\n '05/10/2022, 20:42 - ',\n '05/10/2022, 20:42 - ',\n '05/10/2022, 20:42 - ',\n '05/10/2022, 20:42 - ',\n '05/10/2022, 20:43 - ',\n '05/10/2022, 20:43 - ',\n '05/10/2022, 20:43 - ',\n '06/10/2022, 09:23 - ',\n '06/10/2022, 09:37 - ',\n '06/10/2022, 09:37 - ',\n '08/10/2022, 00:16 - ',\n '08/10/2022, 00:17 - ',\n '08/10/2022, 00:18 - ',\n '08/10/2022, 00:18 - ',\n '08/10/2022, 00:18 - ',\n '08/10/2022, 00:18 - ',\n '08/10/2022, 00:18 - ',\n '08/10/2022, 00:18 - ',\n '08/10/2022, 00:19 - ',\n '08/10/2022, 00:19 - ',\n '08/10/2022, 00:19 - ',\n '08/10/2022, 00:19 - ',\n '08/10/2022, 00:20 - ',\n '08/10/2022, 00:20 - ',\n '08/10/2022, 00:20 - ',\n '08/10/2022, 00:20 - ',\n '09/10/2022, 15:35 - ',\n '09/10/2022, 15:35 - ',\n '09/10/2022, 15:35 - ',\n '09/10/2022, 15:35 - ',\n '09/10/2022, 15:35 - ',\n '11/10/2022, 14:59 - ',\n '11/10/2022, 15:00 - ',\n '11/10/2022, 15:01 - ',\n '11/10/2022, 15:01 - ',\n '11/10/2022, 15:01 - ',\n '11/10/2022, 15:01 - ',\n '11/10/2022, 15:01 - ',\n '11/10/2022, 15:01 - ',\n '11/10/2022, 15:02 - ',\n '11/10/2022, 15:02 - ',\n '11/10/2022, 15:02 - ',\n '11/10/2022, 15:03 - ',\n '11/10/2022, 15:03 - ',\n '11/10/2022, 15:03 - ',\n '13/10/2022, 21:50 - ',\n '13/10/2022, 21:50 - ',\n '13/10/2022, 21:50 - ',\n '13/10/2022, 21:51 - ',\n '13/10/2022, 21:51 - ',\n '13/10/2022, 21:53 - ',\n '13/10/2022, 21:53 - ',\n '14/10/2022, 14:49 - ',\n '14/10/2022, 16:21 - ',\n '15/10/2022, 01:11 - ',\n '15/10/2022, 08:13 - ',\n '15/10/2022, 08:40 - ',\n '15/10/2022, 15:44 - ',\n '15/10/2022, 15:48 - ',\n '24/10/2022, 08:24 - ',\n '24/10/2022, 09:45 - ',\n '07/11/2022, 09:45 - ',\n '07/11/2022, 09:45 - ',\n '07/11/2022, 09:45 - ',\n '07/11/2022, 09:46 - ',\n '07/11/2022, 09:58 - ',\n '07/11/2022, 09:58 - ',\n '07/11/2022, 09:58 - ',\n '07/11/2022, 12:52 - ',\n '07/11/2022, 12:55 - ',\n '07/11/2022, 12:55 - ',\n '08/11/2022, 00:59 - ',\n '08/11/2022, 00:59 - ',\n '09/11/2022, 11:51 - ',\n '10/11/2022, 22:34 - ',\n '10/11/2022, 22:45 - ',\n '10/11/2022, 22:45 - ',\n '10/11/2022, 22:46 - ',\n '14/11/2022, 00:02 - ',\n '14/11/2022, 00:02 - ',\n '14/11/2022, 00:02 - ',\n '14/11/2022, 00:02 - ',\n '14/11/2022, 00:03 - ',\n '14/11/2022, 00:19 - ',\n '14/11/2022, 00:22 - ',\n '14/11/2022, 00:23 - ',\n '14/11/2022, 00:23 - ',\n '14/11/2022, 00:23 - ',\n '14/11/2022, 00:23 - ',\n '14/11/2022, 00:24 - ',\n '14/11/2022, 00:24 - ',\n '14/11/2022, 00:25 - ',\n '14/11/2022, 00:25 - ',\n '14/11/2022, 00:25 - ',\n '14/11/2022, 00:25 - ',\n '14/11/2022, 12:58 - ',\n '19/11/2022, 00:26 - ',\n '19/11/2022, 00:29 - ',\n '19/11/2022, 21:08 - ',\n '19/11/2022, 21:08 - ',\n '19/11/2022, 21:09 - ',\n '19/11/2022, 21:22 - ',\n '19/11/2022, 21:22 - ',\n '19/11/2022, 21:34 - ',\n '19/11/2022, 21:34 - ',\n '19/11/2022, 21:34 - ',\n '19/11/2022, 21:35 - ',\n '19/11/2022, 21:35 - ',\n '19/11/2022, 21:35 - ',\n '19/11/2022, 21:35 - ',\n '19/11/2022, 21:35 - ',\n '19/11/2022, 21:35 - ',\n '19/11/2022, 21:35 - ',\n '19/11/2022, 21:36 - ',\n '19/11/2022, 21:36 - ',\n '19/11/2022, 21:36 - ',\n '19/11/2022, 21:40 - ',\n '19/11/2022, 21:40 - ',\n '19/11/2022, 23:05 - ',\n '20/11/2022, 10:43 - ',\n '20/11/2022, 10:43 - ',\n '20/11/2022, 21:54 - ',\n '21/11/2022, 10:46 - ',\n '21/11/2022, 10:46 - ',\n '21/11/2022, 10:46 - ',\n '21/11/2022, 10:46 - ',\n '21/11/2022, 10:46 - ',\n '21/11/2022, 10:46 - ',\n '21/11/2022, 10:47 - ',\n '21/11/2022, 10:47 - ',\n '21/11/2022, 10:47 - ',\n '21/11/2022, 10:47 - ',\n '21/11/2022, 10:48 - ',\n '21/11/2022, 10:48 - ',\n '22/11/2022, 22:01 - ',\n '26/11/2022, 21:40 - ',\n '26/11/2022, 21:40 - ',\n '04/12/2022, 21:23 - ',\n '04/12/2022, 21:24 - ',\n '10/12/2022, 19:13 - ',\n '10/12/2022, 19:13 - ',\n '10/12/2022, 19:13 - ',\n '10/12/2022, 19:14 - ',\n '10/12/2022, 19:16 - ',\n '10/12/2022, 19:16 - ',\n '10/12/2022, 19:16 - ',\n '10/12/2022, 19:16 - ',\n '12/12/2022, 06:57 - ',\n '12/12/2022, 06:58 - ',\n '12/12/2022, 07:00 - ',\n '12/12/2022, 07:00 - ',\n '12/12/2022, 07:00 - ',\n '12/12/2022, 07:00 - ',\n '12/12/2022, 07:00 - ',\n '12/12/2022, 07:00 - ',\n '12/12/2022, 07:00 - ',\n '12/12/2022, 07:01 - ',\n '12/12/2022, 07:01 - ',\n '19/12/2022, 22:41 - ',\n '19/12/2022, 22:44 - ',\n '19/12/2022, 22:44 - ',\n '19/12/2022, 22:44 - ',\n '19/12/2022, 22:44 - ',\n '19/12/2022, 22:45 - ',\n '19/12/2022, 22:45 - ',\n '19/12/2022, 22:45 - ',\n '19/12/2022, 22:45 - ',\n '19/12/2022, 22:45 - ',\n '19/12/2022, 22:45 - ',\n '19/12/2022, 22:45 - ',\n '19/12/2022, 22:46 - ',\n '19/12/2022, 22:46 - ',\n '19/12/2022, 22:46 - ',\n '19/12/2022, 22:46 - ',\n '19/12/2022, 22:46 - ',\n '19/12/2022, 22:46 - ',\n '19/12/2022, 22:46 - ',\n '20/12/2022, 20:15 - ',\n '20/12/2022, 20:58 - ',\n '21/12/2022, 19:45 - ',\n '21/12/2022, 19:45 - ',\n '31/12/2022, 00:13 - ',\n '31/12/2022, 00:13 - ',\n '31/12/2022, 00:13 - ',\n '31/12/2022, 00:14 - ',\n '31/12/2022, 00:14 - ',\n '31/12/2022, 00:20 - ',\n '31/12/2022, 00:21 - ',\n '31/12/2022, 00:21 - ',\n '31/12/2022, 00:21 - ',\n '31/12/2022, 00:21 - ',\n '31/12/2022, 00:21 - ',\n '31/12/2022, 00:21 - ',\n '31/12/2022, 00:22 - ',\n '31/12/2022, 00:22 - ',\n '31/12/2022, 00:22 - ',\n '31/12/2022, 00:22 - ',\n '31/12/2022, 00:22 - ',\n '31/12/2022, 00:22 - ',\n '31/12/2022, 00:23 - ',\n '31/12/2022, 00:23 - ',\n '31/12/2022, 00:23 - ',\n '31/12/2022, 00:23 - ',\n '31/12/2022, 00:24 - ',\n '31/12/2022, 00:24 - ',\n '31/12/2022, 00:24 - ',\n '31/12/2022, 00:24 - ',\n '17/01/2023, 11:15 - ',\n '17/01/2023, 11:16 - ',\n '17/01/2023, 11:16 - ',\n '30/01/2023, 17:28 - ',\n '30/01/2023, 18:02 - ',\n '30/01/2023, 19:23 - ',\n '11/02/2023, 14:49 - ',\n '11/02/2023, 14:49 - ',\n '11/02/2023, 14:49 - ',\n '11/02/2023, 14:50 - ',\n '11/02/2023, 14:50 - ',\n '11/02/2023, 14:50 - ',\n '11/02/2023, 14:50 - ',\n '11/02/2023, 14:50 - ',\n '11/02/2023, 14:51 - ',\n '11/02/2023, 14:51 - ',\n '12/02/2023, 16:12 - ',\n '13/02/2023, 11:27 - ',\n '13/02/2023, 11:27 - ',\n '13/02/2023, 11:27 - ',\n '16/02/2023, 10:14 - ',\n '23/02/2023, 14:56 - ',\n '23/02/2023, 14:56 - ',\n '23/02/2023, 14:56 - ',\n '25/02/2023, 00:12 - ',\n '25/02/2023, 00:12 - ',\n '25/02/2023, 00:12 - ',\n '25/02/2023, 00:13 - ',\n '25/02/2023, 00:13 - ',\n '25/02/2023, 00:14 - ',\n '25/02/2023, 00:14 - ',\n '25/02/2023, 00:14 - ',\n '25/02/2023, 00:14 - ',\n '25/02/2023, 00:14 - ',\n '25/02/2023, 00:36 - ',\n '25/02/2023, 00:36 - ',\n '25/02/2023, 00:37 - ',\n '11/03/2023, 01:39 - ',\n '11/03/2023, 01:40 - ',\n '11/03/2023, 01:40 - ',\n '11/03/2023, 08:36 - ',\n '11/03/2023, 08:36 - ',\n '11/03/2023, 08:36 - ',\n '17/03/2023, 17:28 - ',\n '17/03/2023, 17:28 - ',\n '17/03/2023, 17:29 - ',\n '17/03/2023, 17:29 - ',\n '17/03/2023, 17:29 - ',\n '17/03/2023, 17:29 - ',\n '28/03/2023, 00:08 - ',\n '28/03/2023, 11:28 - ',\n '28/03/2023, 11:28 - ',\n '28/03/2023, 11:29 - ',\n '28/03/2023, 11:29 - ',\n '28/03/2023, 11:29 - ',\n '28/03/2023, 11:29 - ',\n '28/03/2023, 12:00 - ',\n '28/03/2023, 12:00 - ',\n '28/03/2023, 12:01 - ',\n '28/03/2023, 12:01 - ',\n '30/03/2023, 09:58 - ',\n '30/03/2023, 09:58 - ',\n '30/03/2023, 09:58 - ',\n '30/03/2023, 21:21 - ',\n '30/03/2023, 21:21 - ',\n '30/03/2023, 21:21 - ',\n '30/03/2023, 21:22 - ',\n '30/03/2023, 21:22 - ',\n '30/03/2023, 21:22 - ',\n '30/03/2023, 21:22 - ',\n '30/03/2023, 21:22 - ',\n '30/03/2023, 21:22 - ',\n '30/03/2023, 21:23 - ',\n '30/03/2023, 21:23 - ',\n '30/03/2023, 21:23 - ',\n '30/03/2023, 21:23 - ',\n '30/03/2023, 21:23 - ',\n '30/03/2023, 21:23 - ',\n '30/03/2023, 21:23 - ',\n '30/03/2023, 21:23 - ',\n '30/03/2023, 21:23 - ',\n '30/03/2023, 21:24 - ',\n '30/03/2023, 21:24 - ',\n '30/03/2023, 21:24 - ',\n '30/03/2023, 21:24 - ',\n '30/03/2023, 21:24 - ',\n '30/03/2023, 21:25 - ',\n '31/03/2023, 23:54 - ']"
     },
     "execution_count": 36,
     "metadata": {},
     "output_type": "execute_result"
    }
   ],
   "source": [
    "dates = re.findall(pattern,data)\n",
    "dates"
   ]
  },
  {
   "cell_type": "code",
   "execution_count": 37,
   "metadata": {
    "ExecuteTime": {
     "end_time": "2023-07-26T07:59:16.178408400Z",
     "start_time": "2023-07-26T07:59:16.017737300Z"
    }
   },
   "outputs": [
    {
     "data": {
      "text/plain": "                                         user_messages        message_date\n0    Messages and calls are end-to-end encrypted. N... 2022-01-03 21:59:00\n1                      Kushang Garg: <Media omitted>\\n 2022-01-03 21:59:00\n2                      Kushang Garg: <Media omitted>\\n 2022-01-03 21:59:00\n3          Kushang Garg: Bhai iska 3 nd 4part btaiyo\\n 2022-01-03 21:59:00\n4                               Jaagrit Tiet: 10 min\\n 2022-01-03 22:00:00\n..                                                 ...                 ...\n550               Jaagrit Tiet: na ek km na ek zyada\\n 2023-03-30 21:24:00\n551          Kushang Garg: Itne bhai acc mei hai nhi\\n 2023-03-30 21:24:00\n552                                 Jaagrit Tiet: 😂😂\\n 2023-03-30 21:24:00\n553                    Kushang Garg: <Media omitted>\\n 2023-03-30 21:25:00\n554                    Jaagrit Tiet: <Media omitted>\\n 2023-03-31 23:54:00\n\n[555 rows x 2 columns]",
      "text/html": "<div>\n<style scoped>\n    .dataframe tbody tr th:only-of-type {\n        vertical-align: middle;\n    }\n\n    .dataframe tbody tr th {\n        vertical-align: top;\n    }\n\n    .dataframe thead th {\n        text-align: right;\n    }\n</style>\n<table border=\"1\" class=\"dataframe\">\n  <thead>\n    <tr style=\"text-align: right;\">\n      <th></th>\n      <th>user_messages</th>\n      <th>message_date</th>\n    </tr>\n  </thead>\n  <tbody>\n    <tr>\n      <th>0</th>\n      <td>Messages and calls are end-to-end encrypted. N...</td>\n      <td>2022-01-03 21:59:00</td>\n    </tr>\n    <tr>\n      <th>1</th>\n      <td>Kushang Garg: &lt;Media omitted&gt;\\n</td>\n      <td>2022-01-03 21:59:00</td>\n    </tr>\n    <tr>\n      <th>2</th>\n      <td>Kushang Garg: &lt;Media omitted&gt;\\n</td>\n      <td>2022-01-03 21:59:00</td>\n    </tr>\n    <tr>\n      <th>3</th>\n      <td>Kushang Garg: Bhai iska 3 nd 4part btaiyo\\n</td>\n      <td>2022-01-03 21:59:00</td>\n    </tr>\n    <tr>\n      <th>4</th>\n      <td>Jaagrit Tiet: 10 min\\n</td>\n      <td>2022-01-03 22:00:00</td>\n    </tr>\n    <tr>\n      <th>...</th>\n      <td>...</td>\n      <td>...</td>\n    </tr>\n    <tr>\n      <th>550</th>\n      <td>Jaagrit Tiet: na ek km na ek zyada\\n</td>\n      <td>2023-03-30 21:24:00</td>\n    </tr>\n    <tr>\n      <th>551</th>\n      <td>Kushang Garg: Itne bhai acc mei hai nhi\\n</td>\n      <td>2023-03-30 21:24:00</td>\n    </tr>\n    <tr>\n      <th>552</th>\n      <td>Jaagrit Tiet: 😂😂\\n</td>\n      <td>2023-03-30 21:24:00</td>\n    </tr>\n    <tr>\n      <th>553</th>\n      <td>Kushang Garg: &lt;Media omitted&gt;\\n</td>\n      <td>2023-03-30 21:25:00</td>\n    </tr>\n    <tr>\n      <th>554</th>\n      <td>Jaagrit Tiet: &lt;Media omitted&gt;\\n</td>\n      <td>2023-03-31 23:54:00</td>\n    </tr>\n  </tbody>\n</table>\n<p>555 rows × 2 columns</p>\n</div>"
     },
     "execution_count": 37,
     "metadata": {},
     "output_type": "execute_result"
    }
   ],
   "source": [
    "df = pd.DataFrame({'user_messages': messages, 'message_date': dates})\n",
    "df['message_date']= pd.to_datetime(df['message_date'], format='%d/%m/%Y, %H:%M - ')\n",
    "df"
   ]
  },
  {
   "cell_type": "code",
   "execution_count": 38,
   "metadata": {
    "ExecuteTime": {
     "end_time": "2023-07-26T07:59:16.212359200Z",
     "start_time": "2023-07-26T07:59:16.061305200Z"
    }
   },
   "outputs": [
    {
     "data": {
      "text/plain": "           message_date               users  \\\n0   2022-01-03 21:59:00  group_notification   \n1   2022-01-03 21:59:00        Kushang Garg   \n2   2022-01-03 21:59:00        Kushang Garg   \n3   2022-01-03 21:59:00        Kushang Garg   \n4   2022-01-03 22:00:00        Jaagrit Tiet   \n..                  ...                 ...   \n550 2023-03-30 21:24:00        Jaagrit Tiet   \n551 2023-03-30 21:24:00        Kushang Garg   \n552 2023-03-30 21:24:00        Jaagrit Tiet   \n553 2023-03-30 21:25:00        Kushang Garg   \n554 2023-03-31 23:54:00        Jaagrit Tiet   \n\n                                              messages  \n0    Messages and calls are end-to-end encrypted. N...  \n1                                    <Media omitted>\\n  \n2                                    <Media omitted>\\n  \n3                        Bhai iska 3 nd 4part btaiyo\\n  \n4                                             10 min\\n  \n..                                                 ...  \n550                             na ek km na ek zyada\\n  \n551                        Itne bhai acc mei hai nhi\\n  \n552                                               😂😂\\n  \n553                                  <Media omitted>\\n  \n554                                  <Media omitted>\\n  \n\n[555 rows x 3 columns]",
      "text/html": "<div>\n<style scoped>\n    .dataframe tbody tr th:only-of-type {\n        vertical-align: middle;\n    }\n\n    .dataframe tbody tr th {\n        vertical-align: top;\n    }\n\n    .dataframe thead th {\n        text-align: right;\n    }\n</style>\n<table border=\"1\" class=\"dataframe\">\n  <thead>\n    <tr style=\"text-align: right;\">\n      <th></th>\n      <th>message_date</th>\n      <th>users</th>\n      <th>messages</th>\n    </tr>\n  </thead>\n  <tbody>\n    <tr>\n      <th>0</th>\n      <td>2022-01-03 21:59:00</td>\n      <td>group_notification</td>\n      <td>Messages and calls are end-to-end encrypted. N...</td>\n    </tr>\n    <tr>\n      <th>1</th>\n      <td>2022-01-03 21:59:00</td>\n      <td>Kushang Garg</td>\n      <td>&lt;Media omitted&gt;\\n</td>\n    </tr>\n    <tr>\n      <th>2</th>\n      <td>2022-01-03 21:59:00</td>\n      <td>Kushang Garg</td>\n      <td>&lt;Media omitted&gt;\\n</td>\n    </tr>\n    <tr>\n      <th>3</th>\n      <td>2022-01-03 21:59:00</td>\n      <td>Kushang Garg</td>\n      <td>Bhai iska 3 nd 4part btaiyo\\n</td>\n    </tr>\n    <tr>\n      <th>4</th>\n      <td>2022-01-03 22:00:00</td>\n      <td>Jaagrit Tiet</td>\n      <td>10 min\\n</td>\n    </tr>\n    <tr>\n      <th>...</th>\n      <td>...</td>\n      <td>...</td>\n      <td>...</td>\n    </tr>\n    <tr>\n      <th>550</th>\n      <td>2023-03-30 21:24:00</td>\n      <td>Jaagrit Tiet</td>\n      <td>na ek km na ek zyada\\n</td>\n    </tr>\n    <tr>\n      <th>551</th>\n      <td>2023-03-30 21:24:00</td>\n      <td>Kushang Garg</td>\n      <td>Itne bhai acc mei hai nhi\\n</td>\n    </tr>\n    <tr>\n      <th>552</th>\n      <td>2023-03-30 21:24:00</td>\n      <td>Jaagrit Tiet</td>\n      <td>😂😂\\n</td>\n    </tr>\n    <tr>\n      <th>553</th>\n      <td>2023-03-30 21:25:00</td>\n      <td>Kushang Garg</td>\n      <td>&lt;Media omitted&gt;\\n</td>\n    </tr>\n    <tr>\n      <th>554</th>\n      <td>2023-03-31 23:54:00</td>\n      <td>Jaagrit Tiet</td>\n      <td>&lt;Media omitted&gt;\\n</td>\n    </tr>\n  </tbody>\n</table>\n<p>555 rows × 3 columns</p>\n</div>"
     },
     "execution_count": 38,
     "metadata": {},
     "output_type": "execute_result"
    }
   ],
   "source": [
    "users =[]\n",
    "messages = []\n",
    "for message in df['user_messages']:\n",
    "    entry = re.split('([\\w\\W]+?):\\s', message)\n",
    "    if entry[1:]:\n",
    "        users.append(entry[1])\n",
    "        messages.append(entry[2])\n",
    "    else:\n",
    "        users.append('group_notification')\n",
    "        messages.append(entry[0])\n",
    "\n",
    "\n",
    "df['users']=users\n",
    "df['messages'] = messages\n",
    "df.drop(columns = ['user_messages'], inplace = True)\n",
    "df"
   ]
  },
  {
   "cell_type": "code",
   "execution_count": 39,
   "metadata": {
    "ExecuteTime": {
     "end_time": "2023-07-26T07:59:16.212359200Z",
     "start_time": "2023-07-26T07:59:16.196953900Z"
    }
   },
   "outputs": [],
   "source": [
    "years = df['message_date'].dt.year"
   ]
  },
  {
   "cell_type": "code",
   "execution_count": 40,
   "metadata": {
    "ExecuteTime": {
     "end_time": "2023-07-26T07:59:16.478046700Z",
     "start_time": "2023-07-26T07:59:16.212359200Z"
    }
   },
   "outputs": [
    {
     "data": {
      "text/plain": "           message_date               users  \\\n0   2022-01-03 21:59:00  group_notification   \n1   2022-01-03 21:59:00        Kushang Garg   \n2   2022-01-03 21:59:00        Kushang Garg   \n3   2022-01-03 21:59:00        Kushang Garg   \n4   2022-01-03 22:00:00        Jaagrit Tiet   \n..                  ...                 ...   \n550 2023-03-30 21:24:00        Jaagrit Tiet   \n551 2023-03-30 21:24:00        Kushang Garg   \n552 2023-03-30 21:24:00        Jaagrit Tiet   \n553 2023-03-30 21:25:00        Kushang Garg   \n554 2023-03-31 23:54:00        Jaagrit Tiet   \n\n                                              messages  year  \n0    Messages and calls are end-to-end encrypted. N...  2022  \n1                                    <Media omitted>\\n  2022  \n2                                    <Media omitted>\\n  2022  \n3                        Bhai iska 3 nd 4part btaiyo\\n  2022  \n4                                             10 min\\n  2022  \n..                                                 ...   ...  \n550                             na ek km na ek zyada\\n  2023  \n551                        Itne bhai acc mei hai nhi\\n  2023  \n552                                               😂😂\\n  2023  \n553                                  <Media omitted>\\n  2023  \n554                                  <Media omitted>\\n  2023  \n\n[555 rows x 4 columns]",
      "text/html": "<div>\n<style scoped>\n    .dataframe tbody tr th:only-of-type {\n        vertical-align: middle;\n    }\n\n    .dataframe tbody tr th {\n        vertical-align: top;\n    }\n\n    .dataframe thead th {\n        text-align: right;\n    }\n</style>\n<table border=\"1\" class=\"dataframe\">\n  <thead>\n    <tr style=\"text-align: right;\">\n      <th></th>\n      <th>message_date</th>\n      <th>users</th>\n      <th>messages</th>\n      <th>year</th>\n    </tr>\n  </thead>\n  <tbody>\n    <tr>\n      <th>0</th>\n      <td>2022-01-03 21:59:00</td>\n      <td>group_notification</td>\n      <td>Messages and calls are end-to-end encrypted. N...</td>\n      <td>2022</td>\n    </tr>\n    <tr>\n      <th>1</th>\n      <td>2022-01-03 21:59:00</td>\n      <td>Kushang Garg</td>\n      <td>&lt;Media omitted&gt;\\n</td>\n      <td>2022</td>\n    </tr>\n    <tr>\n      <th>2</th>\n      <td>2022-01-03 21:59:00</td>\n      <td>Kushang Garg</td>\n      <td>&lt;Media omitted&gt;\\n</td>\n      <td>2022</td>\n    </tr>\n    <tr>\n      <th>3</th>\n      <td>2022-01-03 21:59:00</td>\n      <td>Kushang Garg</td>\n      <td>Bhai iska 3 nd 4part btaiyo\\n</td>\n      <td>2022</td>\n    </tr>\n    <tr>\n      <th>4</th>\n      <td>2022-01-03 22:00:00</td>\n      <td>Jaagrit Tiet</td>\n      <td>10 min\\n</td>\n      <td>2022</td>\n    </tr>\n    <tr>\n      <th>...</th>\n      <td>...</td>\n      <td>...</td>\n      <td>...</td>\n      <td>...</td>\n    </tr>\n    <tr>\n      <th>550</th>\n      <td>2023-03-30 21:24:00</td>\n      <td>Jaagrit Tiet</td>\n      <td>na ek km na ek zyada\\n</td>\n      <td>2023</td>\n    </tr>\n    <tr>\n      <th>551</th>\n      <td>2023-03-30 21:24:00</td>\n      <td>Kushang Garg</td>\n      <td>Itne bhai acc mei hai nhi\\n</td>\n      <td>2023</td>\n    </tr>\n    <tr>\n      <th>552</th>\n      <td>2023-03-30 21:24:00</td>\n      <td>Jaagrit Tiet</td>\n      <td>😂😂\\n</td>\n      <td>2023</td>\n    </tr>\n    <tr>\n      <th>553</th>\n      <td>2023-03-30 21:25:00</td>\n      <td>Kushang Garg</td>\n      <td>&lt;Media omitted&gt;\\n</td>\n      <td>2023</td>\n    </tr>\n    <tr>\n      <th>554</th>\n      <td>2023-03-31 23:54:00</td>\n      <td>Jaagrit Tiet</td>\n      <td>&lt;Media omitted&gt;\\n</td>\n      <td>2023</td>\n    </tr>\n  </tbody>\n</table>\n<p>555 rows × 4 columns</p>\n</div>"
     },
     "execution_count": 40,
     "metadata": {},
     "output_type": "execute_result"
    }
   ],
   "source": [
    "df['year'] = years\n",
    "df"
   ]
  },
  {
   "cell_type": "code",
   "execution_count": 41,
   "metadata": {
    "ExecuteTime": {
     "end_time": "2023-07-26T07:59:16.478046700Z",
     "start_time": "2023-07-26T07:59:16.229486400Z"
    }
   },
   "outputs": [
    {
     "data": {
      "text/plain": "           message_date               users  \\\n0   2022-01-03 21:59:00  group_notification   \n1   2022-01-03 21:59:00        Kushang Garg   \n2   2022-01-03 21:59:00        Kushang Garg   \n3   2022-01-03 21:59:00        Kushang Garg   \n4   2022-01-03 22:00:00        Jaagrit Tiet   \n..                  ...                 ...   \n550 2023-03-30 21:24:00        Jaagrit Tiet   \n551 2023-03-30 21:24:00        Kushang Garg   \n552 2023-03-30 21:24:00        Jaagrit Tiet   \n553 2023-03-30 21:25:00        Kushang Garg   \n554 2023-03-31 23:54:00        Jaagrit Tiet   \n\n                                              messages  year    month  \n0    Messages and calls are end-to-end encrypted. N...  2022  January  \n1                                    <Media omitted>\\n  2022  January  \n2                                    <Media omitted>\\n  2022  January  \n3                        Bhai iska 3 nd 4part btaiyo\\n  2022  January  \n4                                             10 min\\n  2022  January  \n..                                                 ...   ...      ...  \n550                             na ek km na ek zyada\\n  2023    March  \n551                        Itne bhai acc mei hai nhi\\n  2023    March  \n552                                               😂😂\\n  2023    March  \n553                                  <Media omitted>\\n  2023    March  \n554                                  <Media omitted>\\n  2023    March  \n\n[555 rows x 5 columns]",
      "text/html": "<div>\n<style scoped>\n    .dataframe tbody tr th:only-of-type {\n        vertical-align: middle;\n    }\n\n    .dataframe tbody tr th {\n        vertical-align: top;\n    }\n\n    .dataframe thead th {\n        text-align: right;\n    }\n</style>\n<table border=\"1\" class=\"dataframe\">\n  <thead>\n    <tr style=\"text-align: right;\">\n      <th></th>\n      <th>message_date</th>\n      <th>users</th>\n      <th>messages</th>\n      <th>year</th>\n      <th>month</th>\n    </tr>\n  </thead>\n  <tbody>\n    <tr>\n      <th>0</th>\n      <td>2022-01-03 21:59:00</td>\n      <td>group_notification</td>\n      <td>Messages and calls are end-to-end encrypted. N...</td>\n      <td>2022</td>\n      <td>January</td>\n    </tr>\n    <tr>\n      <th>1</th>\n      <td>2022-01-03 21:59:00</td>\n      <td>Kushang Garg</td>\n      <td>&lt;Media omitted&gt;\\n</td>\n      <td>2022</td>\n      <td>January</td>\n    </tr>\n    <tr>\n      <th>2</th>\n      <td>2022-01-03 21:59:00</td>\n      <td>Kushang Garg</td>\n      <td>&lt;Media omitted&gt;\\n</td>\n      <td>2022</td>\n      <td>January</td>\n    </tr>\n    <tr>\n      <th>3</th>\n      <td>2022-01-03 21:59:00</td>\n      <td>Kushang Garg</td>\n      <td>Bhai iska 3 nd 4part btaiyo\\n</td>\n      <td>2022</td>\n      <td>January</td>\n    </tr>\n    <tr>\n      <th>4</th>\n      <td>2022-01-03 22:00:00</td>\n      <td>Jaagrit Tiet</td>\n      <td>10 min\\n</td>\n      <td>2022</td>\n      <td>January</td>\n    </tr>\n    <tr>\n      <th>...</th>\n      <td>...</td>\n      <td>...</td>\n      <td>...</td>\n      <td>...</td>\n      <td>...</td>\n    </tr>\n    <tr>\n      <th>550</th>\n      <td>2023-03-30 21:24:00</td>\n      <td>Jaagrit Tiet</td>\n      <td>na ek km na ek zyada\\n</td>\n      <td>2023</td>\n      <td>March</td>\n    </tr>\n    <tr>\n      <th>551</th>\n      <td>2023-03-30 21:24:00</td>\n      <td>Kushang Garg</td>\n      <td>Itne bhai acc mei hai nhi\\n</td>\n      <td>2023</td>\n      <td>March</td>\n    </tr>\n    <tr>\n      <th>552</th>\n      <td>2023-03-30 21:24:00</td>\n      <td>Jaagrit Tiet</td>\n      <td>😂😂\\n</td>\n      <td>2023</td>\n      <td>March</td>\n    </tr>\n    <tr>\n      <th>553</th>\n      <td>2023-03-30 21:25:00</td>\n      <td>Kushang Garg</td>\n      <td>&lt;Media omitted&gt;\\n</td>\n      <td>2023</td>\n      <td>March</td>\n    </tr>\n    <tr>\n      <th>554</th>\n      <td>2023-03-31 23:54:00</td>\n      <td>Jaagrit Tiet</td>\n      <td>&lt;Media omitted&gt;\\n</td>\n      <td>2023</td>\n      <td>March</td>\n    </tr>\n  </tbody>\n</table>\n<p>555 rows × 5 columns</p>\n</div>"
     },
     "execution_count": 41,
     "metadata": {},
     "output_type": "execute_result"
    }
   ],
   "source": [
    "months = df['message_date'].dt.month_name()\n",
    "df['month'] = months\n",
    "df"
   ]
  },
  {
   "cell_type": "code",
   "execution_count": 42,
   "metadata": {
    "ExecuteTime": {
     "end_time": "2023-07-26T07:59:16.478046700Z",
     "start_time": "2023-07-26T07:59:16.249708200Z"
    }
   },
   "outputs": [
    {
     "data": {
      "text/plain": "           message_date               users  \\\n0   2022-01-03 21:59:00  group_notification   \n1   2022-01-03 21:59:00        Kushang Garg   \n2   2022-01-03 21:59:00        Kushang Garg   \n3   2022-01-03 21:59:00        Kushang Garg   \n4   2022-01-03 22:00:00        Jaagrit Tiet   \n..                  ...                 ...   \n550 2023-03-30 21:24:00        Jaagrit Tiet   \n551 2023-03-30 21:24:00        Kushang Garg   \n552 2023-03-30 21:24:00        Jaagrit Tiet   \n553 2023-03-30 21:25:00        Kushang Garg   \n554 2023-03-31 23:54:00        Jaagrit Tiet   \n\n                                              messages  year    month  date  \n0    Messages and calls are end-to-end encrypted. N...  2022  January     3  \n1                                    <Media omitted>\\n  2022  January     3  \n2                                    <Media omitted>\\n  2022  January     3  \n3                        Bhai iska 3 nd 4part btaiyo\\n  2022  January     3  \n4                                             10 min\\n  2022  January     3  \n..                                                 ...   ...      ...   ...  \n550                             na ek km na ek zyada\\n  2023    March    30  \n551                        Itne bhai acc mei hai nhi\\n  2023    March    30  \n552                                               😂😂\\n  2023    March    30  \n553                                  <Media omitted>\\n  2023    March    30  \n554                                  <Media omitted>\\n  2023    March    31  \n\n[555 rows x 6 columns]",
      "text/html": "<div>\n<style scoped>\n    .dataframe tbody tr th:only-of-type {\n        vertical-align: middle;\n    }\n\n    .dataframe tbody tr th {\n        vertical-align: top;\n    }\n\n    .dataframe thead th {\n        text-align: right;\n    }\n</style>\n<table border=\"1\" class=\"dataframe\">\n  <thead>\n    <tr style=\"text-align: right;\">\n      <th></th>\n      <th>message_date</th>\n      <th>users</th>\n      <th>messages</th>\n      <th>year</th>\n      <th>month</th>\n      <th>date</th>\n    </tr>\n  </thead>\n  <tbody>\n    <tr>\n      <th>0</th>\n      <td>2022-01-03 21:59:00</td>\n      <td>group_notification</td>\n      <td>Messages and calls are end-to-end encrypted. N...</td>\n      <td>2022</td>\n      <td>January</td>\n      <td>3</td>\n    </tr>\n    <tr>\n      <th>1</th>\n      <td>2022-01-03 21:59:00</td>\n      <td>Kushang Garg</td>\n      <td>&lt;Media omitted&gt;\\n</td>\n      <td>2022</td>\n      <td>January</td>\n      <td>3</td>\n    </tr>\n    <tr>\n      <th>2</th>\n      <td>2022-01-03 21:59:00</td>\n      <td>Kushang Garg</td>\n      <td>&lt;Media omitted&gt;\\n</td>\n      <td>2022</td>\n      <td>January</td>\n      <td>3</td>\n    </tr>\n    <tr>\n      <th>3</th>\n      <td>2022-01-03 21:59:00</td>\n      <td>Kushang Garg</td>\n      <td>Bhai iska 3 nd 4part btaiyo\\n</td>\n      <td>2022</td>\n      <td>January</td>\n      <td>3</td>\n    </tr>\n    <tr>\n      <th>4</th>\n      <td>2022-01-03 22:00:00</td>\n      <td>Jaagrit Tiet</td>\n      <td>10 min\\n</td>\n      <td>2022</td>\n      <td>January</td>\n      <td>3</td>\n    </tr>\n    <tr>\n      <th>...</th>\n      <td>...</td>\n      <td>...</td>\n      <td>...</td>\n      <td>...</td>\n      <td>...</td>\n      <td>...</td>\n    </tr>\n    <tr>\n      <th>550</th>\n      <td>2023-03-30 21:24:00</td>\n      <td>Jaagrit Tiet</td>\n      <td>na ek km na ek zyada\\n</td>\n      <td>2023</td>\n      <td>March</td>\n      <td>30</td>\n    </tr>\n    <tr>\n      <th>551</th>\n      <td>2023-03-30 21:24:00</td>\n      <td>Kushang Garg</td>\n      <td>Itne bhai acc mei hai nhi\\n</td>\n      <td>2023</td>\n      <td>March</td>\n      <td>30</td>\n    </tr>\n    <tr>\n      <th>552</th>\n      <td>2023-03-30 21:24:00</td>\n      <td>Jaagrit Tiet</td>\n      <td>😂😂\\n</td>\n      <td>2023</td>\n      <td>March</td>\n      <td>30</td>\n    </tr>\n    <tr>\n      <th>553</th>\n      <td>2023-03-30 21:25:00</td>\n      <td>Kushang Garg</td>\n      <td>&lt;Media omitted&gt;\\n</td>\n      <td>2023</td>\n      <td>March</td>\n      <td>30</td>\n    </tr>\n    <tr>\n      <th>554</th>\n      <td>2023-03-31 23:54:00</td>\n      <td>Jaagrit Tiet</td>\n      <td>&lt;Media omitted&gt;\\n</td>\n      <td>2023</td>\n      <td>March</td>\n      <td>31</td>\n    </tr>\n  </tbody>\n</table>\n<p>555 rows × 6 columns</p>\n</div>"
     },
     "execution_count": 42,
     "metadata": {},
     "output_type": "execute_result"
    }
   ],
   "source": [
    "date  = df['message_date'].dt.day\n",
    "df['date'] = date\n",
    "df"
   ]
  },
  {
   "cell_type": "code",
   "execution_count": 43,
   "metadata": {
    "ExecuteTime": {
     "end_time": "2023-07-26T07:59:16.494169500Z",
     "start_time": "2023-07-26T07:59:16.278059800Z"
    }
   },
   "outputs": [
    {
     "data": {
      "text/plain": "           message_date               users  \\\n0   2022-01-03 21:59:00  group_notification   \n1   2022-01-03 21:59:00        Kushang Garg   \n2   2022-01-03 21:59:00        Kushang Garg   \n3   2022-01-03 21:59:00        Kushang Garg   \n4   2022-01-03 22:00:00        Jaagrit Tiet   \n..                  ...                 ...   \n550 2023-03-30 21:24:00        Jaagrit Tiet   \n551 2023-03-30 21:24:00        Kushang Garg   \n552 2023-03-30 21:24:00        Jaagrit Tiet   \n553 2023-03-30 21:25:00        Kushang Garg   \n554 2023-03-31 23:54:00        Jaagrit Tiet   \n\n                                              messages  year    month  date  \\\n0    Messages and calls are end-to-end encrypted. N...  2022  January     3   \n1                                    <Media omitted>\\n  2022  January     3   \n2                                    <Media omitted>\\n  2022  January     3   \n3                        Bhai iska 3 nd 4part btaiyo\\n  2022  January     3   \n4                                             10 min\\n  2022  January     3   \n..                                                 ...   ...      ...   ...   \n550                             na ek km na ek zyada\\n  2023    March    30   \n551                        Itne bhai acc mei hai nhi\\n  2023    March    30   \n552                                               😂😂\\n  2023    March    30   \n553                                  <Media omitted>\\n  2023    March    30   \n554                                  <Media omitted>\\n  2023    March    31   \n\n     hour  minute  \n0      21      59  \n1      21      59  \n2      21      59  \n3      21      59  \n4      22       0  \n..    ...     ...  \n550    21      24  \n551    21      24  \n552    21      24  \n553    21      25  \n554    23      54  \n\n[555 rows x 8 columns]",
      "text/html": "<div>\n<style scoped>\n    .dataframe tbody tr th:only-of-type {\n        vertical-align: middle;\n    }\n\n    .dataframe tbody tr th {\n        vertical-align: top;\n    }\n\n    .dataframe thead th {\n        text-align: right;\n    }\n</style>\n<table border=\"1\" class=\"dataframe\">\n  <thead>\n    <tr style=\"text-align: right;\">\n      <th></th>\n      <th>message_date</th>\n      <th>users</th>\n      <th>messages</th>\n      <th>year</th>\n      <th>month</th>\n      <th>date</th>\n      <th>hour</th>\n      <th>minute</th>\n    </tr>\n  </thead>\n  <tbody>\n    <tr>\n      <th>0</th>\n      <td>2022-01-03 21:59:00</td>\n      <td>group_notification</td>\n      <td>Messages and calls are end-to-end encrypted. N...</td>\n      <td>2022</td>\n      <td>January</td>\n      <td>3</td>\n      <td>21</td>\n      <td>59</td>\n    </tr>\n    <tr>\n      <th>1</th>\n      <td>2022-01-03 21:59:00</td>\n      <td>Kushang Garg</td>\n      <td>&lt;Media omitted&gt;\\n</td>\n      <td>2022</td>\n      <td>January</td>\n      <td>3</td>\n      <td>21</td>\n      <td>59</td>\n    </tr>\n    <tr>\n      <th>2</th>\n      <td>2022-01-03 21:59:00</td>\n      <td>Kushang Garg</td>\n      <td>&lt;Media omitted&gt;\\n</td>\n      <td>2022</td>\n      <td>January</td>\n      <td>3</td>\n      <td>21</td>\n      <td>59</td>\n    </tr>\n    <tr>\n      <th>3</th>\n      <td>2022-01-03 21:59:00</td>\n      <td>Kushang Garg</td>\n      <td>Bhai iska 3 nd 4part btaiyo\\n</td>\n      <td>2022</td>\n      <td>January</td>\n      <td>3</td>\n      <td>21</td>\n      <td>59</td>\n    </tr>\n    <tr>\n      <th>4</th>\n      <td>2022-01-03 22:00:00</td>\n      <td>Jaagrit Tiet</td>\n      <td>10 min\\n</td>\n      <td>2022</td>\n      <td>January</td>\n      <td>3</td>\n      <td>22</td>\n      <td>0</td>\n    </tr>\n    <tr>\n      <th>...</th>\n      <td>...</td>\n      <td>...</td>\n      <td>...</td>\n      <td>...</td>\n      <td>...</td>\n      <td>...</td>\n      <td>...</td>\n      <td>...</td>\n    </tr>\n    <tr>\n      <th>550</th>\n      <td>2023-03-30 21:24:00</td>\n      <td>Jaagrit Tiet</td>\n      <td>na ek km na ek zyada\\n</td>\n      <td>2023</td>\n      <td>March</td>\n      <td>30</td>\n      <td>21</td>\n      <td>24</td>\n    </tr>\n    <tr>\n      <th>551</th>\n      <td>2023-03-30 21:24:00</td>\n      <td>Kushang Garg</td>\n      <td>Itne bhai acc mei hai nhi\\n</td>\n      <td>2023</td>\n      <td>March</td>\n      <td>30</td>\n      <td>21</td>\n      <td>24</td>\n    </tr>\n    <tr>\n      <th>552</th>\n      <td>2023-03-30 21:24:00</td>\n      <td>Jaagrit Tiet</td>\n      <td>😂😂\\n</td>\n      <td>2023</td>\n      <td>March</td>\n      <td>30</td>\n      <td>21</td>\n      <td>24</td>\n    </tr>\n    <tr>\n      <th>553</th>\n      <td>2023-03-30 21:25:00</td>\n      <td>Kushang Garg</td>\n      <td>&lt;Media omitted&gt;\\n</td>\n      <td>2023</td>\n      <td>March</td>\n      <td>30</td>\n      <td>21</td>\n      <td>25</td>\n    </tr>\n    <tr>\n      <th>554</th>\n      <td>2023-03-31 23:54:00</td>\n      <td>Jaagrit Tiet</td>\n      <td>&lt;Media omitted&gt;\\n</td>\n      <td>2023</td>\n      <td>March</td>\n      <td>31</td>\n      <td>23</td>\n      <td>54</td>\n    </tr>\n  </tbody>\n</table>\n<p>555 rows × 8 columns</p>\n</div>"
     },
     "execution_count": 43,
     "metadata": {},
     "output_type": "execute_result"
    }
   ],
   "source": [
    "hours = df['message_date'].dt.hour\n",
    "minute = df['message_date'].dt.minute\n",
    "df['hour']=hours\n",
    "df['minute']=minute\n",
    "df"
   ]
  },
  {
   "cell_type": "code",
   "execution_count": 44,
   "metadata": {
    "ExecuteTime": {
     "end_time": "2023-07-26T07:59:16.494169500Z",
     "start_time": "2023-07-26T07:59:16.315935600Z"
    }
   },
   "outputs": [
    {
     "data": {
      "text/plain": "3"
     },
     "execution_count": 44,
     "metadata": {},
     "output_type": "execute_result"
    }
   ],
   "source": [
    "Users5 =df['users'].unique().tolist()\n",
    "k = len(Users5)\n",
    "k\n"
   ]
  },
  {
   "cell_type": "code",
   "execution_count": 45,
   "metadata": {
    "ExecuteTime": {
     "end_time": "2023-07-26T07:59:16.501178200Z",
     "start_time": "2023-07-26T07:59:16.330083100Z"
    }
   },
   "outputs": [],
   "source": [
    "words =[]\n",
    "for message in df['messages']:\n",
    "    words.append(message.split())"
   ]
  },
  {
   "cell_type": "code",
   "execution_count": 46,
   "metadata": {
    "ExecuteTime": {
     "end_time": "2023-07-26T07:59:16.574442400Z",
     "start_time": "2023-07-26T07:59:16.342377600Z"
    }
   },
   "outputs": [
    {
     "data": {
      "text/plain": "555"
     },
     "execution_count": 46,
     "metadata": {},
     "output_type": "execute_result"
    }
   ],
   "source": [
    "len(words)"
   ]
  },
  {
   "cell_type": "code",
   "execution_count": 47,
   "metadata": {
    "ExecuteTime": {
     "end_time": "2023-07-26T07:59:16.635563500Z",
     "start_time": "2023-07-26T07:59:16.356991700Z"
    }
   },
   "outputs": [],
   "source": [
    "from urlextract import URLExtract\n",
    "extractor =URLExtract()"
   ]
  },
  {
   "cell_type": "code",
   "execution_count": 48,
   "metadata": {
    "ExecuteTime": {
     "end_time": "2023-07-26T07:59:16.893937900Z",
     "start_time": "2023-07-26T07:59:16.403726100Z"
    }
   },
   "outputs": [],
   "source": [
    "links =[]\n",
    "for message in df['messages']:\n",
    "    links.extend(extractor.find_urls(message))\n"
   ]
  },
  {
   "cell_type": "code",
   "execution_count": 49,
   "metadata": {
    "ExecuteTime": {
     "end_time": "2023-07-26T07:59:16.926130Z",
     "start_time": "2023-07-26T07:59:16.592442400Z"
    }
   },
   "outputs": [
    {
     "data": {
      "text/plain": "7"
     },
     "execution_count": 49,
     "metadata": {},
     "output_type": "execute_result"
    }
   ],
   "source": [
    "len(links)"
   ]
  },
  {
   "cell_type": "code",
   "execution_count": 50,
   "metadata": {
    "ExecuteTime": {
     "end_time": "2023-07-26T07:59:16.951435600Z",
     "start_time": "2023-07-26T07:59:16.612958800Z"
    }
   },
   "outputs": [
    {
     "data": {
      "text/plain": "users\nJaagrit Tiet    310\nKushang Garg    244\nName: count, dtype: int64"
     },
     "execution_count": 50,
     "metadata": {},
     "output_type": "execute_result"
    }
   ],
   "source": [
    "temp = df[df['users']!='group_notification']\n",
    "x = temp['users'].value_counts()\n",
    "x\n",
    "\n"
   ]
  },
  {
   "cell_type": "code",
   "execution_count": 51,
   "metadata": {
    "ExecuteTime": {
     "end_time": "2023-07-26T07:59:17.146023600Z",
     "start_time": "2023-07-26T07:59:16.622812300Z"
    }
   },
   "outputs": [
    {
     "data": {
      "text/plain": "<Figure size 640x480 with 1 Axes>",
      "image/png": "[encoded data removed]"
     },
     "metadata": {},
     "output_type": "display_data"
    }
   ],
   "source": [
    "import matplotlib.pyplot as plt\n",
    "name = x.index\n",
    "count = x.values\n",
    "plt.bar(name, count)\n",
    "plt.xticks(rotation='vertical')\n",
    "plt.show()"
   ]
  },
  {
   "cell_type": "code",
   "execution_count": 52,
   "metadata": {
    "ExecuteTime": {
     "end_time": "2023-07-26T07:59:17.146023600Z",
     "start_time": "2023-07-26T07:59:16.844021300Z"
    }
   },
   "outputs": [
    {
     "data": {
      "text/plain": "        percent  count\n0  Jaagrit Tiet  55.86\n1  Kushang Garg  43.96",
      "text/html": "<div>\n<style scoped>\n    .dataframe tbody tr th:only-of-type {\n        vertical-align: middle;\n    }\n\n    .dataframe tbody tr th {\n        vertical-align: top;\n    }\n\n    .dataframe thead th {\n        text-align: right;\n    }\n</style>\n<table border=\"1\" class=\"dataframe\">\n  <thead>\n    <tr style=\"text-align: right;\">\n      <th></th>\n      <th>percent</th>\n      <th>count</th>\n    </tr>\n  </thead>\n  <tbody>\n    <tr>\n      <th>0</th>\n      <td>Jaagrit Tiet</td>\n      <td>55.86</td>\n    </tr>\n    <tr>\n      <th>1</th>\n      <td>Kushang Garg</td>\n      <td>43.96</td>\n    </tr>\n  </tbody>\n</table>\n</div>"
     },
     "execution_count": 52,
     "metadata": {},
     "output_type": "execute_result"
    }
   ],
   "source": [
    "round((temp['users'].value_counts()/df.shape[0])*100,2).reset_index().rename(columns={'index': 'name', 'users': 'percent'})"
   ]
  },
  {
   "cell_type": "code",
   "execution_count": 53,
   "metadata": {
    "ExecuteTime": {
     "end_time": "2023-07-26T07:59:17.146023600Z",
     "start_time": "2023-07-26T07:59:16.864169200Z"
    }
   },
   "outputs": [],
   "source": [
    "import emoji\n",
    "from collections import Counter"
   ]
  },
  {
   "cell_type": "code",
   "execution_count": 54,
   "metadata": {
    "ExecuteTime": {
     "end_time": "2023-07-26T07:59:17.146023600Z",
     "start_time": "2023-07-26T07:59:16.871750Z"
    }
   },
   "outputs": [],
   "source": [
    "emojis =[]\n",
    "for message in df['messages']:\n",
    "    emojis.extend([c for c in message if c in emoji.EMOJI_DATA])"
   ]
  },
  {
   "cell_type": "code",
   "execution_count": 55,
   "metadata": {
    "ExecuteTime": {
     "end_time": "2023-07-26T07:59:17.146023600Z",
     "start_time": "2023-07-26T07:59:16.886269900Z"
    }
   },
   "outputs": [],
   "source": [
    "emoji_df=pd.DataFrame(Counter(emojis).most_common(len(Counter(emojis))))"
   ]
  },
  {
   "cell_type": "code",
   "execution_count": 56,
   "metadata": {
    "ExecuteTime": {
     "end_time": "2023-07-26T07:59:17.217780700Z",
     "start_time": "2023-07-26T07:59:16.893937900Z"
    }
   },
   "outputs": [
    {
     "data": {
      "text/plain": "    0   1\n0   😂  34\n1   🥳  31\n2   🥂  14\n3   👍   4\n4   😇   4\n5   😏   3\n6   🐥   3\n7   👟   3\n8   😅   3\n9   🎊   3\n10  🤣   2\n11  👦   2\n12  😒   2\n13  ✨   2\n14  💥   2\n15  ☺   2\n16  🐔   1\n17  👀   1\n18  😵   1\n19  💫   1\n20  👨   1\n21  ☠   1\n22  🥷   1\n23  🐸   1\n24  🐭   1\n25  😎   1\n26  🐼   1\n27  🐻   1\n28  ❄   1\n29  🦁   1\n30  🥚   1\n31  🐣   1\n32  🐤   1\n33  🦆   1\n34  🦅   1\n35  🦉   1\n36  🐺   1\n37  🐘   1\n38  🤨   1\n39  💯   1\n40  🍫   1\n41  🤩   1\n42  😛   1\n43  😝   1\n44  🍺   1",
      "text/html": "<div>\n<style scoped>\n    .dataframe tbody tr th:only-of-type {\n        vertical-align: middle;\n    }\n\n    .dataframe tbody tr th {\n        vertical-align: top;\n    }\n\n    .dataframe thead th {\n        text-align: right;\n    }\n</style>\n<table border=\"1\" class=\"dataframe\">\n  <thead>\n    <tr style=\"text-align: right;\">\n      <th></th>\n      <th>0</th>\n      <th>1</th>\n    </tr>\n  </thead>\n  <tbody>\n    <tr>\n      <th>0</th>\n      <td>😂</td>\n      <td>34</td>\n    </tr>\n    <tr>\n      <th>1</th>\n      <td>🥳</td>\n      <td>31</td>\n    </tr>\n    <tr>\n      <th>2</th>\n      <td>🥂</td>\n      <td>14</td>\n    </tr>\n    <tr>\n      <th>3</th>\n      <td>👍</td>\n      <td>4</td>\n    </tr>\n    <tr>\n      <th>4</th>\n      <td>😇</td>\n      <td>4</td>\n    </tr>\n    <tr>\n      <th>5</th>\n      <td>😏</td>\n      <td>3</td>\n    </tr>\n    <tr>\n      <th>6</th>\n      <td>🐥</td>\n      <td>3</td>\n    </tr>\n    <tr>\n      <th>7</th>\n      <td>👟</td>\n      <td>3</td>\n    </tr>\n    <tr>\n      <th>8</th>\n      <td>😅</td>\n      <td>3</td>\n    </tr>\n    <tr>\n      <th>9</th>\n      <td>🎊</td>\n      <td>3</td>\n    </tr>\n    <tr>\n      <th>10</th>\n      <td>🤣</td>\n      <td>2</td>\n    </tr>\n    <tr>\n      <th>11</th>\n      <td>👦</td>\n      <td>2</td>\n    </tr>\n    <tr>\n      <th>12</th>\n      <td>😒</td>\n      <td>2</td>\n    </tr>\n    <tr>\n      <th>13</th>\n      <td>✨</td>\n      <td>2</td>\n    </tr>\n    <tr>\n      <th>14</th>\n      <td>💥</td>\n      <td>2</td>\n    </tr>\n    <tr>\n      <th>15</th>\n      <td>☺</td>\n      <td>2</td>\n    </tr>\n    <tr>\n      <th>16</th>\n      <td>🐔</td>\n      <td>1</td>\n    </tr>\n    <tr>\n      <th>17</th>\n      <td>👀</td>\n      <td>1</td>\n    </tr>\n    <tr>\n      <th>18</th>\n      <td>😵</td>\n      <td>1</td>\n    </tr>\n    <tr>\n      <th>19</th>\n      <td>💫</td>\n      <td>1</td>\n    </tr>\n    <tr>\n      <th>20</th>\n      <td>👨</td>\n      <td>1</td>\n    </tr>\n    <tr>\n      <th>21</th>\n      <td>☠</td>\n      <td>1</td>\n    </tr>\n    <tr>\n      <th>22</th>\n      <td>🥷</td>\n      <td>1</td>\n    </tr>\n    <tr>\n      <th>23</th>\n      <td>🐸</td>\n      <td>1</td>\n    </tr>\n    <tr>\n      <th>24</th>\n      <td>🐭</td>\n      <td>1</td>\n    </tr>\n    <tr>\n      <th>25</th>\n      <td>😎</td>\n      <td>1</td>\n    </tr>\n    <tr>\n      <th>26</th>\n      <td>🐼</td>\n      <td>1</td>\n    </tr>\n    <tr>\n      <th>27</th>\n      <td>🐻</td>\n      <td>1</td>\n    </tr>\n    <tr>\n      <th>28</th>\n      <td>❄</td>\n      <td>1</td>\n    </tr>\n    <tr>\n      <th>29</th>\n      <td>🦁</td>\n      <td>1</td>\n    </tr>\n    <tr>\n      <th>30</th>\n      <td>🥚</td>\n      <td>1</td>\n    </tr>\n    <tr>\n      <th>31</th>\n      <td>🐣</td>\n      <td>1</td>\n    </tr>\n    <tr>\n      <th>32</th>\n      <td>🐤</td>\n      <td>1</td>\n    </tr>\n    <tr>\n      <th>33</th>\n      <td>🦆</td>\n      <td>1</td>\n    </tr>\n    <tr>\n      <th>34</th>\n      <td>🦅</td>\n      <td>1</td>\n    </tr>\n    <tr>\n      <th>35</th>\n      <td>🦉</td>\n      <td>1</td>\n    </tr>\n    <tr>\n      <th>36</th>\n      <td>🐺</td>\n      <td>1</td>\n    </tr>\n    <tr>\n      <th>37</th>\n      <td>🐘</td>\n      <td>1</td>\n    </tr>\n    <tr>\n      <th>38</th>\n      <td>🤨</td>\n      <td>1</td>\n    </tr>\n    <tr>\n      <th>39</th>\n      <td>💯</td>\n      <td>1</td>\n    </tr>\n    <tr>\n      <th>40</th>\n      <td>🍫</td>\n      <td>1</td>\n    </tr>\n    <tr>\n      <th>41</th>\n      <td>🤩</td>\n      <td>1</td>\n    </tr>\n    <tr>\n      <th>42</th>\n      <td>😛</td>\n      <td>1</td>\n    </tr>\n    <tr>\n      <th>43</th>\n      <td>😝</td>\n      <td>1</td>\n    </tr>\n    <tr>\n      <th>44</th>\n      <td>🍺</td>\n      <td>1</td>\n    </tr>\n  </tbody>\n</table>\n</div>"
     },
     "execution_count": 56,
     "metadata": {},
     "output_type": "execute_result"
    }
   ],
   "source": [
    "emoji_df"
   ]
  },
  {
   "cell_type": "code",
   "execution_count": 57,
   "metadata": {
    "ExecuteTime": {
     "end_time": "2023-07-26T07:59:17.421865200Z",
     "start_time": "2023-07-26T07:59:16.921833Z"
    }
   },
   "outputs": [
    {
     "data": {
      "text/plain": "           message_date               users  \\\n0   2022-01-03 21:59:00  group_notification   \n1   2022-01-03 21:59:00        Kushang Garg   \n2   2022-01-03 21:59:00        Kushang Garg   \n3   2022-01-03 21:59:00        Kushang Garg   \n4   2022-01-03 22:00:00        Jaagrit Tiet   \n..                  ...                 ...   \n550 2023-03-30 21:24:00        Jaagrit Tiet   \n551 2023-03-30 21:24:00        Kushang Garg   \n552 2023-03-30 21:24:00        Jaagrit Tiet   \n553 2023-03-30 21:25:00        Kushang Garg   \n554 2023-03-31 23:54:00        Jaagrit Tiet   \n\n                                              messages  year    month  date  \\\n0    Messages and calls are end-to-end encrypted. N...  2022  January     3   \n1                                    <Media omitted>\\n  2022  January     3   \n2                                    <Media omitted>\\n  2022  January     3   \n3                        Bhai iska 3 nd 4part btaiyo\\n  2022  January     3   \n4                                             10 min\\n  2022  January     3   \n..                                                 ...   ...      ...   ...   \n550                             na ek km na ek zyada\\n  2023    March    30   \n551                        Itne bhai acc mei hai nhi\\n  2023    March    30   \n552                                               😂😂\\n  2023    March    30   \n553                                  <Media omitted>\\n  2023    March    30   \n554                                  <Media omitted>\\n  2023    March    31   \n\n     hour  minute  \n0      21      59  \n1      21      59  \n2      21      59  \n3      21      59  \n4      22       0  \n..    ...     ...  \n550    21      24  \n551    21      24  \n552    21      24  \n553    21      25  \n554    23      54  \n\n[555 rows x 8 columns]",
      "text/html": "<div>\n<style scoped>\n    .dataframe tbody tr th:only-of-type {\n        vertical-align: middle;\n    }\n\n    .dataframe tbody tr th {\n        vertical-align: top;\n    }\n\n    .dataframe thead th {\n        text-align: right;\n    }\n</style>\n<table border=\"1\" class=\"dataframe\">\n  <thead>\n    <tr style=\"text-align: right;\">\n      <th></th>\n      <th>message_date</th>\n      <th>users</th>\n      <th>messages</th>\n      <th>year</th>\n      <th>month</th>\n      <th>date</th>\n      <th>hour</th>\n      <th>minute</th>\n    </tr>\n  </thead>\n  <tbody>\n    <tr>\n      <th>0</th>\n      <td>2022-01-03 21:59:00</td>\n      <td>group_notification</td>\n      <td>Messages and calls are end-to-end encrypted. N...</td>\n      <td>2022</td>\n      <td>January</td>\n      <td>3</td>\n      <td>21</td>\n      <td>59</td>\n    </tr>\n    <tr>\n      <th>1</th>\n      <td>2022-01-03 21:59:00</td>\n      <td>Kushang Garg</td>\n      <td>&lt;Media omitted&gt;\\n</td>\n      <td>2022</td>\n      <td>January</td>\n      <td>3</td>\n      <td>21</td>\n      <td>59</td>\n    </tr>\n    <tr>\n      <th>2</th>\n      <td>2022-01-03 21:59:00</td>\n      <td>Kushang Garg</td>\n      <td>&lt;Media omitted&gt;\\n</td>\n      <td>2022</td>\n      <td>January</td>\n      <td>3</td>\n      <td>21</td>\n      <td>59</td>\n    </tr>\n    <tr>\n      <th>3</th>\n      <td>2022-01-03 21:59:00</td>\n      <td>Kushang Garg</td>\n      <td>Bhai iska 3 nd 4part btaiyo\\n</td>\n      <td>2022</td>\n      <td>January</td>\n      <td>3</td>\n      <td>21</td>\n      <td>59</td>\n    </tr>\n    <tr>\n      <th>4</th>\n      <td>2022-01-03 22:00:00</td>\n      <td>Jaagrit Tiet</td>\n      <td>10 min\\n</td>\n      <td>2022</td>\n      <td>January</td>\n      <td>3</td>\n      <td>22</td>\n      <td>0</td>\n    </tr>\n    <tr>\n      <th>...</th>\n      <td>...</td>\n      <td>...</td>\n      <td>...</td>\n      <td>...</td>\n      <td>...</td>\n      <td>...</td>\n      <td>...</td>\n      <td>...</td>\n    </tr>\n    <tr>\n      <th>550</th>\n      <td>2023-03-30 21:24:00</td>\n      <td>Jaagrit Tiet</td>\n      <td>na ek km na ek zyada\\n</td>\n      <td>2023</td>\n      <td>March</td>\n      <td>30</td>\n      <td>21</td>\n      <td>24</td>\n    </tr>\n    <tr>\n      <th>551</th>\n      <td>2023-03-30 21:24:00</td>\n      <td>Kushang Garg</td>\n      <td>Itne bhai acc mei hai nhi\\n</td>\n      <td>2023</td>\n      <td>March</td>\n      <td>30</td>\n      <td>21</td>\n      <td>24</td>\n    </tr>\n    <tr>\n      <th>552</th>\n      <td>2023-03-30 21:24:00</td>\n      <td>Jaagrit Tiet</td>\n      <td>😂😂\\n</td>\n      <td>2023</td>\n      <td>March</td>\n      <td>30</td>\n      <td>21</td>\n      <td>24</td>\n    </tr>\n    <tr>\n      <th>553</th>\n      <td>2023-03-30 21:25:00</td>\n      <td>Kushang Garg</td>\n      <td>&lt;Media omitted&gt;\\n</td>\n      <td>2023</td>\n      <td>March</td>\n      <td>30</td>\n      <td>21</td>\n      <td>25</td>\n    </tr>\n    <tr>\n      <th>554</th>\n      <td>2023-03-31 23:54:00</td>\n      <td>Jaagrit Tiet</td>\n      <td>&lt;Media omitted&gt;\\n</td>\n      <td>2023</td>\n      <td>March</td>\n      <td>31</td>\n      <td>23</td>\n      <td>54</td>\n    </tr>\n  </tbody>\n</table>\n<p>555 rows × 8 columns</p>\n</div>"
     },
     "execution_count": 57,
     "metadata": {},
     "output_type": "execute_result"
    }
   ],
   "source": [
    "df"
   ]
  },
  {
   "cell_type": "code",
   "execution_count": 58,
   "metadata": {
    "ExecuteTime": {
     "end_time": "2023-07-26T07:59:17.421865200Z",
     "start_time": "2023-07-26T07:59:16.944389300Z"
    }
   },
   "outputs": [],
   "source": [
    "df['month_num'] = df['message_date'].dt.month\n",
    "timeline=df.groupby(['year', 'month_num', 'month']).count()['messages'].reset_index()\n"
   ]
  },
  {
   "cell_type": "code",
   "execution_count": 59,
   "metadata": {
    "ExecuteTime": {
     "end_time": "2023-07-26T07:59:17.421865200Z",
     "start_time": "2023-07-26T07:59:16.961024700Z"
    }
   },
   "outputs": [],
   "source": [
    "time =[]\n",
    "for i in range(timeline.shape[0]):\n",
    "    time.append(timeline['month'][i] + \"-\" + str(timeline['year'][i]))"
   ]
  },
  {
   "cell_type": "code",
   "execution_count": 60,
   "metadata": {
    "ExecuteTime": {
     "end_time": "2023-07-26T07:59:17.421865200Z",
     "start_time": "2023-07-26T07:59:16.968135700Z"
    }
   },
   "outputs": [
    {
     "data": {
      "text/plain": "['January-2022',\n 'February-2022',\n 'March-2022',\n 'April-2022',\n 'May-2022',\n 'June-2022',\n 'August-2022',\n 'September-2022',\n 'October-2022',\n 'November-2022',\n 'December-2022',\n 'January-2023',\n 'February-2023',\n 'March-2023']"
     },
     "execution_count": 60,
     "metadata": {},
     "output_type": "execute_result"
    }
   ],
   "source": [
    "time"
   ]
  },
  {
   "cell_type": "code",
   "execution_count": 61,
   "metadata": {
    "ExecuteTime": {
     "end_time": "2023-07-26T07:59:17.421865200Z",
     "start_time": "2023-07-26T07:59:16.973462Z"
    }
   },
   "outputs": [
    {
     "data": {
      "text/plain": "    year  month_num      month  messages            time\n0   2022          1    January        19    January-2022\n1   2022          2   February         9   February-2022\n2   2022          3      March        12      March-2022\n3   2022          4      April         6      April-2022\n4   2022          5        May        37        May-2022\n5   2022          6       June         1       June-2022\n6   2022          8     August        89     August-2022\n7   2022          9  September        64  September-2022\n8   2022         10    October        84    October-2022\n9   2022         11   November        76   November-2022\n10  2022         12   December        70   December-2022\n11  2023          1    January         6    January-2023\n12  2023          2   February        31   February-2023\n13  2023          3      March        51      March-2023",
      "text/html": "<div>\n<style scoped>\n    .dataframe tbody tr th:only-of-type {\n        vertical-align: middle;\n    }\n\n    .dataframe tbody tr th {\n        vertical-align: top;\n    }\n\n    .dataframe thead th {\n        text-align: right;\n    }\n</style>\n<table border=\"1\" class=\"dataframe\">\n  <thead>\n    <tr style=\"text-align: right;\">\n      <th></th>\n      <th>year</th>\n      <th>month_num</th>\n      <th>month</th>\n      <th>messages</th>\n      <th>time</th>\n    </tr>\n  </thead>\n  <tbody>\n    <tr>\n      <th>0</th>\n      <td>2022</td>\n      <td>1</td>\n      <td>January</td>\n      <td>19</td>\n      <td>January-2022</td>\n    </tr>\n    <tr>\n      <th>1</th>\n      <td>2022</td>\n      <td>2</td>\n      <td>February</td>\n      <td>9</td>\n      <td>February-2022</td>\n    </tr>\n    <tr>\n      <th>2</th>\n      <td>2022</td>\n      <td>3</td>\n      <td>March</td>\n      <td>12</td>\n      <td>March-2022</td>\n    </tr>\n    <tr>\n      <th>3</th>\n      <td>2022</td>\n      <td>4</td>\n      <td>April</td>\n      <td>6</td>\n      <td>April-2022</td>\n    </tr>\n    <tr>\n      <th>4</th>\n      <td>2022</td>\n      <td>5</td>\n      <td>May</td>\n      <td>37</td>\n      <td>May-2022</td>\n    </tr>\n    <tr>\n      <th>5</th>\n      <td>2022</td>\n      <td>6</td>\n      <td>June</td>\n      <td>1</td>\n      <td>June-2022</td>\n    </tr>\n    <tr>\n      <th>6</th>\n      <td>2022</td>\n      <td>8</td>\n      <td>August</td>\n      <td>89</td>\n      <td>August-2022</td>\n    </tr>\n    <tr>\n      <th>7</th>\n      <td>2022</td>\n      <td>9</td>\n      <td>September</td>\n      <td>64</td>\n      <td>September-2022</td>\n    </tr>\n    <tr>\n      <th>8</th>\n      <td>2022</td>\n      <td>10</td>\n      <td>October</td>\n      <td>84</td>\n      <td>October-2022</td>\n    </tr>\n    <tr>\n      <th>9</th>\n      <td>2022</td>\n      <td>11</td>\n      <td>November</td>\n      <td>76</td>\n      <td>November-2022</td>\n    </tr>\n    <tr>\n      <th>10</th>\n      <td>2022</td>\n      <td>12</td>\n      <td>December</td>\n      <td>70</td>\n      <td>December-2022</td>\n    </tr>\n    <tr>\n      <th>11</th>\n      <td>2023</td>\n      <td>1</td>\n      <td>January</td>\n      <td>6</td>\n      <td>January-2023</td>\n    </tr>\n    <tr>\n      <th>12</th>\n      <td>2023</td>\n      <td>2</td>\n      <td>February</td>\n      <td>31</td>\n      <td>February-2023</td>\n    </tr>\n    <tr>\n      <th>13</th>\n      <td>2023</td>\n      <td>3</td>\n      <td>March</td>\n      <td>51</td>\n      <td>March-2023</td>\n    </tr>\n  </tbody>\n</table>\n</div>"
     },
     "execution_count": 61,
     "metadata": {},
     "output_type": "execute_result"
    }
   ],
   "source": [
    "timeline['time'] = time\n",
    "timeline"
   ]
  },
  {
   "cell_type": "code",
   "execution_count": 62,
   "metadata": {
    "ExecuteTime": {
     "end_time": "2023-07-26T07:59:17.563590400Z",
     "start_time": "2023-07-26T07:59:16.990426200Z"
    }
   },
   "outputs": [
    {
     "data": {
      "text/plain": "<Figure size 640x480 with 1 Axes>",
      "image/png": "[encoded data removed]"
     },
     "metadata": {},
     "output_type": "display_data"
    }
   ],
   "source": [
    "plt.plot(timeline['time'], timeline['messages'])\n",
    "plt.xticks(rotation='vertical')\n",
    "plt.show()"
   ]
  },
  {
   "cell_type": "code",
   "execution_count": 63,
   "metadata": {
    "ExecuteTime": {
     "end_time": "2023-07-26T07:59:17.563590400Z",
     "start_time": "2023-07-26T07:59:17.201733900Z"
    }
   },
   "outputs": [],
   "source": [
    "df['day'] =df['message_date'].dt.day_name()"
   ]
  },
  {
   "cell_type": "code",
   "execution_count": 64,
   "metadata": {
    "ExecuteTime": {
     "end_time": "2023-07-26T07:59:17.563590400Z",
     "start_time": "2023-07-26T07:59:17.205844600Z"
    }
   },
   "outputs": [
    {
     "data": {
      "text/plain": "day\nMonday       218\nSaturday     129\nTuesday       65\nThursday      57\nSunday        39\nWednesday     37\nFriday        10\nName: count, dtype: int64"
     },
     "execution_count": 64,
     "metadata": {},
     "output_type": "execute_result"
    }
   ],
   "source": [
    "df['day'].value_counts()"
   ]
  }
 ],
 "metadata": {
  "kernelspec": {
   "display_name": "Python 3",
   "language": "python",
   "name": "python3"
  },
  "language_info": {
   "codemirror_mode": {
    "name": "ipython",
    "version": 3
   },
   "file_extension": ".py",
   "mimetype": "text/x-python",
   "name": "python",
   "nbconvert_exporter": "python",
   "pygments_lexer": "ipython3",
   "version": "3.11.4"
  },
  "orig_nbformat": 4,
  "vscode": {
   "interpreter": {
    "hash": "db2177262650f383796a515bc8ebb16bbac2ccb9ef7b2fde4faa7ce19916136d"
   }
  }
 },
 "nbformat": 4,
 "nbformat_minor": 2
}
