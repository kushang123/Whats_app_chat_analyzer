{
 "cells": [
  {
   "cell_type": "code",
   "execution_count": 30,
   "metadata": {
    "ExecuteTime": {
     "end_time": "2023-07-26T07:59:16.036236200Z",
     "start_time": "2023-07-26T07:59:15.921030200Z"
    }
   },
   "outputs": [],
   "source": [
    "import re\n",
    "import pandas as pd\n",
    "import numpy as np"
   ]
  },
  {
   "cell_type": "code",
   "execution_count": 31,
   "metadata": {
    "ExecuteTime": {
     "end_time": "2023-07-26T07:59:16.178408400Z",
     "start_time": "2023-07-26T07:59:15.929909900Z"
    }
   },
   "outputs": [],
   "source": [
    "f = open('WhatsApp Chat with Jaagrit Tiet.txt','r', encoding='utf-8')"
   ]
  },
  {
   "cell_type": "code",
   "execution_count": 32,
   "metadata": {
    "ExecuteTime": {
     "end_time": "2023-07-26T07:59:16.178408400Z",
     "start_time": "2023-07-26T07:59:15.932112700Z"
    }
   },
   "outputs": [],
   "source": [
    "data = f.read()"
   ]
  },
  {
   "cell_type": "code",
   "execution_count": 34,
   "metadata": {
    "ExecuteTime": {
     "end_time": "2023-07-26T07:59:16.178408400Z",
     "start_time": "2023-07-26T07:59:15.963410600Z"
    }
   },
   "outputs": [],
   "source": [
    "pattern = '\\d{1,2}/\\d{1,2}/\\d{2,4},\\s\\d{1,2}:\\d{2}\\s-\\s'"
   ]
  },
  {
   "cell_type": "code",
   "execution_count": 67,
   "metadata": {
    "ExecuteTime": {
     "end_time": "2023-07-26T08:27:51.051657500Z",
     "start_time": "2023-07-26T08:27:51.024284100Z"
    }
   },
   "outputs": [],
   "source": [
    "messages = re.split(pattern, data)[1:]"
   ]
  },
  {
   "cell_type": "code",
   "execution_count": 65,
   "metadata": {
    "ExecuteTime": {
     "end_time": "2023-07-26T08:23:08.203600200Z",
     "start_time": "2023-07-26T08:23:08.178814700Z"
    }
   },
   "outputs": [],
   "source": [
    "dates = re.findall(pattern,data)"
   ]
  },
  {
   "cell_type": "code",
   "execution_count": 37,
   "metadata": {
    "ExecuteTime": {
     "end_time": "2023-07-26T07:59:16.178408400Z",
     "start_time": "2023-07-26T07:59:16.017737300Z"
    }
   },
   "outputs": [
    {
     "data": {
      "text/plain": "                                         user_messages        message_date\n0    Messages and calls are end-to-end encrypted. N... 2022-01-03 21:59:00\n1                      Kushang Garg: <Media omitted>\\n 2022-01-03 21:59:00\n2                      Kushang Garg: <Media omitted>\\n 2022-01-03 21:59:00\n3          Kushang Garg: Bhai iska 3 nd 4part btaiyo\\n 2022-01-03 21:59:00\n4                               Jaagrit Tiet: 10 min\\n 2022-01-03 22:00:00\n..                                                 ...                 ...\n550               Jaagrit Tiet: na ek km na ek zyada\\n 2023-03-30 21:24:00\n551          Kushang Garg: Itne bhai acc mei hai nhi\\n 2023-03-30 21:24:00\n552                                 Jaagrit Tiet: 😂😂\\n 2023-03-30 21:24:00\n553                    Kushang Garg: <Media omitted>\\n 2023-03-30 21:25:00\n554                    Jaagrit Tiet: <Media omitted>\\n 2023-03-31 23:54:00\n\n[555 rows x 2 columns]",
      "text/html": "<div>\n<style scoped>\n    .dataframe tbody tr th:only-of-type {\n        vertical-align: middle;\n    }\n\n    .dataframe tbody tr th {\n        vertical-align: top;\n    }\n\n    .dataframe thead th {\n        text-align: right;\n    }\n</style>\n<table border=\"1\" class=\"dataframe\">\n  <thead>\n    <tr style=\"text-align: right;\">\n      <th></th>\n      <th>user_messages</th>\n      <th>message_date</th>\n    </tr>\n  </thead>\n  <tbody>\n    <tr>\n      <th>0</th>\n      <td>Messages and calls are end-to-end encrypted. N...</td>\n      <td>2022-01-03 21:59:00</td>\n    </tr>\n    <tr>\n      <th>1</th>\n      <td>Kushang Garg: &lt;Media omitted&gt;\\n</td>\n      <td>2022-01-03 21:59:00</td>\n    </tr>\n    <tr>\n      <th>2</th>\n      <td>Kushang Garg: &lt;Media omitted&gt;\\n</td>\n      <td>2022-01-03 21:59:00</td>\n    </tr>\n    <tr>\n      <th>3</th>\n      <td>Kushang Garg: Bhai iska 3 nd 4part btaiyo\\n</td>\n      <td>2022-01-03 21:59:00</td>\n    </tr>\n    <tr>\n      <th>4</th>\n      <td>Jaagrit Tiet: 10 min\\n</td>\n      <td>2022-01-03 22:00:00</td>\n    </tr>\n    <tr>\n      <th>...</th>\n      <td>...</td>\n      <td>...</td>\n    </tr>\n    <tr>\n      <th>550</th>\n      <td>Jaagrit Tiet: na ek km na ek zyada\\n</td>\n      <td>2023-03-30 21:24:00</td>\n    </tr>\n    <tr>\n      <th>551</th>\n      <td>Kushang Garg: Itne bhai acc mei hai nhi\\n</td>\n      <td>2023-03-30 21:24:00</td>\n    </tr>\n    <tr>\n      <th>552</th>\n      <td>Jaagrit Tiet: 😂😂\\n</td>\n      <td>2023-03-30 21:24:00</td>\n    </tr>\n    <tr>\n      <th>553</th>\n      <td>Kushang Garg: &lt;Media omitted&gt;\\n</td>\n      <td>2023-03-30 21:25:00</td>\n    </tr>\n    <tr>\n      <th>554</th>\n      <td>Jaagrit Tiet: &lt;Media omitted&gt;\\n</td>\n      <td>2023-03-31 23:54:00</td>\n    </tr>\n  </tbody>\n</table>\n<p>555 rows × 2 columns</p>\n</div>"
     },
     "execution_count": 37,
     "metadata": {},
     "output_type": "execute_result"
    }
   ],
   "source": [
    "df = pd.DataFrame({'user_messages': messages, 'message_date': dates})\n",
    "df['message_date']= pd.to_datetime(df['message_date'], format='%d/%m/%Y, %H:%M - ')\n",
    "df"
   ]
  },
  {
   "cell_type": "code",
   "execution_count": 38,
   "metadata": {
    "ExecuteTime": {
     "end_time": "2023-07-26T07:59:16.212359200Z",
     "start_time": "2023-07-26T07:59:16.061305200Z"
    }
   },
   "outputs": [
    {
     "data": {
      "text/plain": "           message_date               users  \\\n0   2022-01-03 21:59:00  group_notification   \n1   2022-01-03 21:59:00        Kushang Garg   \n2   2022-01-03 21:59:00        Kushang Garg   \n3   2022-01-03 21:59:00        Kushang Garg   \n4   2022-01-03 22:00:00        Jaagrit Tiet   \n..                  ...                 ...   \n550 2023-03-30 21:24:00        Jaagrit Tiet   \n551 2023-03-30 21:24:00        Kushang Garg   \n552 2023-03-30 21:24:00        Jaagrit Tiet   \n553 2023-03-30 21:25:00        Kushang Garg   \n554 2023-03-31 23:54:00        Jaagrit Tiet   \n\n                                              messages  \n0    Messages and calls are end-to-end encrypted. N...  \n1                                    <Media omitted>\\n  \n2                                    <Media omitted>\\n  \n3                        Bhai iska 3 nd 4part btaiyo\\n  \n4                                             10 min\\n  \n..                                                 ...  \n550                             na ek km na ek zyada\\n  \n551                        Itne bhai acc mei hai nhi\\n  \n552                                               😂😂\\n  \n553                                  <Media omitted>\\n  \n554                                  <Media omitted>\\n  \n\n[555 rows x 3 columns]",
      "text/html": "<div>\n<style scoped>\n    .dataframe tbody tr th:only-of-type {\n        vertical-align: middle;\n    }\n\n    .dataframe tbody tr th {\n        vertical-align: top;\n    }\n\n    .dataframe thead th {\n        text-align: right;\n    }\n</style>\n<table border=\"1\" class=\"dataframe\">\n  <thead>\n    <tr style=\"text-align: right;\">\n      <th></th>\n      <th>message_date</th>\n      <th>users</th>\n      <th>messages</th>\n    </tr>\n  </thead>\n  <tbody>\n    <tr>\n      <th>0</th>\n      <td>2022-01-03 21:59:00</td>\n      <td>group_notification</td>\n      <td>Messages and calls are end-to-end encrypted. N...</td>\n    </tr>\n    <tr>\n      <th>1</th>\n      <td>2022-01-03 21:59:00</td>\n      <td>Kushang Garg</td>\n      <td>&lt;Media omitted&gt;\\n</td>\n    </tr>\n    <tr>\n      <th>2</th>\n      <td>2022-01-03 21:59:00</td>\n      <td>Kushang Garg</td>\n      <td>&lt;Media omitted&gt;\\n</td>\n    </tr>\n    <tr>\n      <th>3</th>\n      <td>2022-01-03 21:59:00</td>\n      <td>Kushang Garg</td>\n      <td>Bhai iska 3 nd 4part btaiyo\\n</td>\n    </tr>\n    <tr>\n      <th>4</th>\n      <td>2022-01-03 22:00:00</td>\n      <td>Jaagrit Tiet</td>\n      <td>10 min\\n</td>\n    </tr>\n    <tr>\n      <th>...</th>\n      <td>...</td>\n      <td>...</td>\n      <td>...</td>\n    </tr>\n    <tr>\n      <th>550</th>\n      <td>2023-03-30 21:24:00</td>\n      <td>Jaagrit Tiet</td>\n      <td>na ek km na ek zyada\\n</td>\n    </tr>\n    <tr>\n      <th>551</th>\n      <td>2023-03-30 21:24:00</td>\n      <td>Kushang Garg</td>\n      <td>Itne bhai acc mei hai nhi\\n</td>\n    </tr>\n    <tr>\n      <th>552</th>\n      <td>2023-03-30 21:24:00</td>\n      <td>Jaagrit Tiet</td>\n      <td>😂😂\\n</td>\n    </tr>\n    <tr>\n      <th>553</th>\n      <td>2023-03-30 21:25:00</td>\n      <td>Kushang Garg</td>\n      <td>&lt;Media omitted&gt;\\n</td>\n    </tr>\n    <tr>\n      <th>554</th>\n      <td>2023-03-31 23:54:00</td>\n      <td>Jaagrit Tiet</td>\n      <td>&lt;Media omitted&gt;\\n</td>\n    </tr>\n  </tbody>\n</table>\n<p>555 rows × 3 columns</p>\n</div>"
     },
     "execution_count": 38,
     "metadata": {},
     "output_type": "execute_result"
    }
   ],
   "source": [
    "users =[]\n",
    "messages = []\n",
    "for message in df['user_messages']:\n",
    "    entry = re.split('([\\w\\W]+?):\\s', message)\n",
    "    if entry[1:]:\n",
    "        users.append(entry[1])\n",
    "        messages.append(entry[2])\n",
    "    else:\n",
    "        users.append('group_notification')\n",
    "        messages.append(entry[0])\n",
    "\n",
    "\n",
    "df['users']=users\n",
    "df['messages'] = messages\n",
    "df.drop(columns = ['user_messages'], inplace = True)\n",
    "df"
   ]
  },
  {
   "cell_type": "code",
   "execution_count": 39,
   "metadata": {
    "ExecuteTime": {
     "end_time": "2023-07-26T07:59:16.212359200Z",
     "start_time": "2023-07-26T07:59:16.196953900Z"
    }
   },
   "outputs": [],
   "source": [
    "years = df['message_date'].dt.year"
   ]
  },
  {
   "cell_type": "code",
   "execution_count": 40,
   "metadata": {
    "ExecuteTime": {
     "end_time": "2023-07-26T07:59:16.478046700Z",
     "start_time": "2023-07-26T07:59:16.212359200Z"
    }
   },
   "outputs": [
    {
     "data": {
      "text/plain": "           message_date               users  \\\n0   2022-01-03 21:59:00  group_notification   \n1   2022-01-03 21:59:00        Kushang Garg   \n2   2022-01-03 21:59:00        Kushang Garg   \n3   2022-01-03 21:59:00        Kushang Garg   \n4   2022-01-03 22:00:00        Jaagrit Tiet   \n..                  ...                 ...   \n550 2023-03-30 21:24:00        Jaagrit Tiet   \n551 2023-03-30 21:24:00        Kushang Garg   \n552 2023-03-30 21:24:00        Jaagrit Tiet   \n553 2023-03-30 21:25:00        Kushang Garg   \n554 2023-03-31 23:54:00        Jaagrit Tiet   \n\n                                              messages  year  \n0    Messages and calls are end-to-end encrypted. N...  2022  \n1                                    <Media omitted>\\n  2022  \n2                                    <Media omitted>\\n  2022  \n3                        Bhai iska 3 nd 4part btaiyo\\n  2022  \n4                                             10 min\\n  2022  \n..                                                 ...   ...  \n550                             na ek km na ek zyada\\n  2023  \n551                        Itne bhai acc mei hai nhi\\n  2023  \n552                                               😂😂\\n  2023  \n553                                  <Media omitted>\\n  2023  \n554                                  <Media omitted>\\n  2023  \n\n[555 rows x 4 columns]",
      "text/html": "<div>\n<style scoped>\n    .dataframe tbody tr th:only-of-type {\n        vertical-align: middle;\n    }\n\n    .dataframe tbody tr th {\n        vertical-align: top;\n    }\n\n    .dataframe thead th {\n        text-align: right;\n    }\n</style>\n<table border=\"1\" class=\"dataframe\">\n  <thead>\n    <tr style=\"text-align: right;\">\n      <th></th>\n      <th>message_date</th>\n      <th>users</th>\n      <th>messages</th>\n      <th>year</th>\n    </tr>\n  </thead>\n  <tbody>\n    <tr>\n      <th>0</th>\n      <td>2022-01-03 21:59:00</td>\n      <td>group_notification</td>\n      <td>Messages and calls are end-to-end encrypted. N...</td>\n      <td>2022</td>\n    </tr>\n    <tr>\n      <th>1</th>\n      <td>2022-01-03 21:59:00</td>\n      <td>Kushang Garg</td>\n      <td>&lt;Media omitted&gt;\\n</td>\n      <td>2022</td>\n    </tr>\n    <tr>\n      <th>2</th>\n      <td>2022-01-03 21:59:00</td>\n      <td>Kushang Garg</td>\n      <td>&lt;Media omitted&gt;\\n</td>\n      <td>2022</td>\n    </tr>\n    <tr>\n      <th>3</th>\n      <td>2022-01-03 21:59:00</td>\n      <td>Kushang Garg</td>\n      <td>Bhai iska 3 nd 4part btaiyo\\n</td>\n      <td>2022</td>\n    </tr>\n    <tr>\n      <th>4</th>\n      <td>2022-01-03 22:00:00</td>\n      <td>Jaagrit Tiet</td>\n      <td>10 min\\n</td>\n      <td>2022</td>\n    </tr>\n    <tr>\n      <th>...</th>\n      <td>...</td>\n      <td>...</td>\n      <td>...</td>\n      <td>...</td>\n    </tr>\n    <tr>\n      <th>550</th>\n      <td>2023-03-30 21:24:00</td>\n      <td>Jaagrit Tiet</td>\n      <td>na ek km na ek zyada\\n</td>\n      <td>2023</td>\n    </tr>\n    <tr>\n      <th>551</th>\n      <td>2023-03-30 21:24:00</td>\n      <td>Kushang Garg</td>\n      <td>Itne bhai acc mei hai nhi\\n</td>\n      <td>2023</td>\n    </tr>\n    <tr>\n      <th>552</th>\n      <td>2023-03-30 21:24:00</td>\n      <td>Jaagrit Tiet</td>\n      <td>😂😂\\n</td>\n      <td>2023</td>\n    </tr>\n    <tr>\n      <th>553</th>\n      <td>2023-03-30 21:25:00</td>\n      <td>Kushang Garg</td>\n      <td>&lt;Media omitted&gt;\\n</td>\n      <td>2023</td>\n    </tr>\n    <tr>\n      <th>554</th>\n      <td>2023-03-31 23:54:00</td>\n      <td>Jaagrit Tiet</td>\n      <td>&lt;Media omitted&gt;\\n</td>\n      <td>2023</td>\n    </tr>\n  </tbody>\n</table>\n<p>555 rows × 4 columns</p>\n</div>"
     },
     "execution_count": 40,
     "metadata": {},
     "output_type": "execute_result"
    }
   ],
   "source": [
    "df['year'] = years\n",
    "df"
   ]
  },
  {
   "cell_type": "code",
   "execution_count": 41,
   "metadata": {
    "ExecuteTime": {
     "end_time": "2023-07-26T07:59:16.478046700Z",
     "start_time": "2023-07-26T07:59:16.229486400Z"
    }
   },
   "outputs": [
    {
     "data": {
      "text/plain": "           message_date               users  \\\n0   2022-01-03 21:59:00  group_notification   \n1   2022-01-03 21:59:00        Kushang Garg   \n2   2022-01-03 21:59:00        Kushang Garg   \n3   2022-01-03 21:59:00        Kushang Garg   \n4   2022-01-03 22:00:00        Jaagrit Tiet   \n..                  ...                 ...   \n550 2023-03-30 21:24:00        Jaagrit Tiet   \n551 2023-03-30 21:24:00        Kushang Garg   \n552 2023-03-30 21:24:00        Jaagrit Tiet   \n553 2023-03-30 21:25:00        Kushang Garg   \n554 2023-03-31 23:54:00        Jaagrit Tiet   \n\n                                              messages  year    month  \n0    Messages and calls are end-to-end encrypted. N...  2022  January  \n1                                    <Media omitted>\\n  2022  January  \n2                                    <Media omitted>\\n  2022  January  \n3                        Bhai iska 3 nd 4part btaiyo\\n  2022  January  \n4                                             10 min\\n  2022  January  \n..                                                 ...   ...      ...  \n550                             na ek km na ek zyada\\n  2023    March  \n551                        Itne bhai acc mei hai nhi\\n  2023    March  \n552                                               😂😂\\n  2023    March  \n553                                  <Media omitted>\\n  2023    March  \n554                                  <Media omitted>\\n  2023    March  \n\n[555 rows x 5 columns]",
      "text/html": "<div>\n<style scoped>\n    .dataframe tbody tr th:only-of-type {\n        vertical-align: middle;\n    }\n\n    .dataframe tbody tr th {\n        vertical-align: top;\n    }\n\n    .dataframe thead th {\n        text-align: right;\n    }\n</style>\n<table border=\"1\" class=\"dataframe\">\n  <thead>\n    <tr style=\"text-align: right;\">\n      <th></th>\n      <th>message_date</th>\n      <th>users</th>\n      <th>messages</th>\n      <th>year</th>\n      <th>month</th>\n    </tr>\n  </thead>\n  <tbody>\n    <tr>\n      <th>0</th>\n      <td>2022-01-03 21:59:00</td>\n      <td>group_notification</td>\n      <td>Messages and calls are end-to-end encrypted. N...</td>\n      <td>2022</td>\n      <td>January</td>\n    </tr>\n    <tr>\n      <th>1</th>\n      <td>2022-01-03 21:59:00</td>\n      <td>Kushang Garg</td>\n      <td>&lt;Media omitted&gt;\\n</td>\n      <td>2022</td>\n      <td>January</td>\n    </tr>\n    <tr>\n      <th>2</th>\n      <td>2022-01-03 21:59:00</td>\n      <td>Kushang Garg</td>\n      <td>&lt;Media omitted&gt;\\n</td>\n      <td>2022</td>\n      <td>January</td>\n    </tr>\n    <tr>\n      <th>3</th>\n      <td>2022-01-03 21:59:00</td>\n      <td>Kushang Garg</td>\n      <td>Bhai iska 3 nd 4part btaiyo\\n</td>\n      <td>2022</td>\n      <td>January</td>\n    </tr>\n    <tr>\n      <th>4</th>\n      <td>2022-01-03 22:00:00</td>\n      <td>Jaagrit Tiet</td>\n      <td>10 min\\n</td>\n      <td>2022</td>\n      <td>January</td>\n    </tr>\n    <tr>\n      <th>...</th>\n      <td>...</td>\n      <td>...</td>\n      <td>...</td>\n      <td>...</td>\n      <td>...</td>\n    </tr>\n    <tr>\n      <th>550</th>\n      <td>2023-03-30 21:24:00</td>\n      <td>Jaagrit Tiet</td>\n      <td>na ek km na ek zyada\\n</td>\n      <td>2023</td>\n      <td>March</td>\n    </tr>\n    <tr>\n      <th>551</th>\n      <td>2023-03-30 21:24:00</td>\n      <td>Kushang Garg</td>\n      <td>Itne bhai acc mei hai nhi\\n</td>\n      <td>2023</td>\n      <td>March</td>\n    </tr>\n    <tr>\n      <th>552</th>\n      <td>2023-03-30 21:24:00</td>\n      <td>Jaagrit Tiet</td>\n      <td>😂😂\\n</td>\n      <td>2023</td>\n      <td>March</td>\n    </tr>\n    <tr>\n      <th>553</th>\n      <td>2023-03-30 21:25:00</td>\n      <td>Kushang Garg</td>\n      <td>&lt;Media omitted&gt;\\n</td>\n      <td>2023</td>\n      <td>March</td>\n    </tr>\n    <tr>\n      <th>554</th>\n      <td>2023-03-31 23:54:00</td>\n      <td>Jaagrit Tiet</td>\n      <td>&lt;Media omitted&gt;\\n</td>\n      <td>2023</td>\n      <td>March</td>\n    </tr>\n  </tbody>\n</table>\n<p>555 rows × 5 columns</p>\n</div>"
     },
     "execution_count": 41,
     "metadata": {},
     "output_type": "execute_result"
    }
   ],
   "source": [
    "months = df['message_date'].dt.month_name()\n",
    "df['month'] = months"
   ]
  },
  {
   "cell_type": "code",
   "execution_count": 42,
   "metadata": {
    "ExecuteTime": {
     "end_time": "2023-07-26T07:59:16.478046700Z",
     "start_time": "2023-07-26T07:59:16.249708200Z"
    }
   },
   "outputs": [
    {
     "data": {
      "text/plain": "           message_date               users  \\\n0   2022-01-03 21:59:00  group_notification   \n1   2022-01-03 21:59:00        Kushang Garg   \n2   2022-01-03 21:59:00        Kushang Garg   \n3   2022-01-03 21:59:00        Kushang Garg   \n4   2022-01-03 22:00:00        Jaagrit Tiet   \n..                  ...                 ...   \n550 2023-03-30 21:24:00        Jaagrit Tiet   \n551 2023-03-30 21:24:00        Kushang Garg   \n552 2023-03-30 21:24:00        Jaagrit Tiet   \n553 2023-03-30 21:25:00        Kushang Garg   \n554 2023-03-31 23:54:00        Jaagrit Tiet   \n\n                                              messages  year    month  date  \n0    Messages and calls are end-to-end encrypted. N...  2022  January     3  \n1                                    <Media omitted>\\n  2022  January     3  \n2                                    <Media omitted>\\n  2022  January     3  \n3                        Bhai iska 3 nd 4part btaiyo\\n  2022  January     3  \n4                                             10 min\\n  2022  January     3  \n..                                                 ...   ...      ...   ...  \n550                             na ek km na ek zyada\\n  2023    March    30  \n551                        Itne bhai acc mei hai nhi\\n  2023    March    30  \n552                                               😂😂\\n  2023    March    30  \n553                                  <Media omitted>\\n  2023    March    30  \n554                                  <Media omitted>\\n  2023    March    31  \n\n[555 rows x 6 columns]",
      "text/html": "<div>\n<style scoped>\n    .dataframe tbody tr th:only-of-type {\n        vertical-align: middle;\n    }\n\n    .dataframe tbody tr th {\n        vertical-align: top;\n    }\n\n    .dataframe thead th {\n        text-align: right;\n    }\n</style>\n<table border=\"1\" class=\"dataframe\">\n  <thead>\n    <tr style=\"text-align: right;\">\n      <th></th>\n      <th>message_date</th>\n      <th>users</th>\n      <th>messages</th>\n      <th>year</th>\n      <th>month</th>\n      <th>date</th>\n    </tr>\n  </thead>\n  <tbody>\n    <tr>\n      <th>0</th>\n      <td>2022-01-03 21:59:00</td>\n      <td>group_notification</td>\n      <td>Messages and calls are end-to-end encrypted. N...</td>\n      <td>2022</td>\n      <td>January</td>\n      <td>3</td>\n    </tr>\n    <tr>\n      <th>1</th>\n      <td>2022-01-03 21:59:00</td>\n      <td>Kushang Garg</td>\n      <td>&lt;Media omitted&gt;\\n</td>\n      <td>2022</td>\n      <td>January</td>\n      <td>3</td>\n    </tr>\n    <tr>\n      <th>2</th>\n      <td>2022-01-03 21:59:00</td>\n      <td>Kushang Garg</td>\n      <td>&lt;Media omitted&gt;\\n</td>\n      <td>2022</td>\n      <td>January</td>\n      <td>3</td>\n    </tr>\n    <tr>\n      <th>3</th>\n      <td>2022-01-03 21:59:00</td>\n      <td>Kushang Garg</td>\n      <td>Bhai iska 3 nd 4part btaiyo\\n</td>\n      <td>2022</td>\n      <td>January</td>\n      <td>3</td>\n    </tr>\n    <tr>\n      <th>4</th>\n      <td>2022-01-03 22:00:00</td>\n      <td>Jaagrit Tiet</td>\n      <td>10 min\\n</td>\n      <td>2022</td>\n      <td>January</td>\n      <td>3</td>\n    </tr>\n    <tr>\n      <th>...</th>\n      <td>...</td>\n      <td>...</td>\n      <td>...</td>\n      <td>...</td>\n      <td>...</td>\n      <td>...</td>\n    </tr>\n    <tr>\n      <th>550</th>\n      <td>2023-03-30 21:24:00</td>\n      <td>Jaagrit Tiet</td>\n      <td>na ek km na ek zyada\\n</td>\n      <td>2023</td>\n      <td>March</td>\n      <td>30</td>\n    </tr>\n    <tr>\n      <th>551</th>\n      <td>2023-03-30 21:24:00</td>\n      <td>Kushang Garg</td>\n      <td>Itne bhai acc mei hai nhi\\n</td>\n      <td>2023</td>\n      <td>March</td>\n      <td>30</td>\n    </tr>\n    <tr>\n      <th>552</th>\n      <td>2023-03-30 21:24:00</td>\n      <td>Jaagrit Tiet</td>\n      <td>😂😂\\n</td>\n      <td>2023</td>\n      <td>March</td>\n      <td>30</td>\n    </tr>\n    <tr>\n      <th>553</th>\n      <td>2023-03-30 21:25:00</td>\n      <td>Kushang Garg</td>\n      <td>&lt;Media omitted&gt;\\n</td>\n      <td>2023</td>\n      <td>March</td>\n      <td>30</td>\n    </tr>\n    <tr>\n      <th>554</th>\n      <td>2023-03-31 23:54:00</td>\n      <td>Jaagrit Tiet</td>\n      <td>&lt;Media omitted&gt;\\n</td>\n      <td>2023</td>\n      <td>March</td>\n      <td>31</td>\n    </tr>\n  </tbody>\n</table>\n<p>555 rows × 6 columns</p>\n</div>"
     },
     "execution_count": 42,
     "metadata": {},
     "output_type": "execute_result"
    }
   ],
   "source": [
    "date  = df['message_date'].dt.day\n",
    "df['date'] = date\n",
    "df"
   ]
  },
  {
   "cell_type": "code",
   "execution_count": 43,
   "metadata": {
    "ExecuteTime": {
     "end_time": "2023-07-26T07:59:16.494169500Z",
     "start_time": "2023-07-26T07:59:16.278059800Z"
    }
   },
   "outputs": [
    {
     "data": {
      "text/plain": "           message_date               users  \\\n0   2022-01-03 21:59:00  group_notification   \n1   2022-01-03 21:59:00        Kushang Garg   \n2   2022-01-03 21:59:00        Kushang Garg   \n3   2022-01-03 21:59:00        Kushang Garg   \n4   2022-01-03 22:00:00        Jaagrit Tiet   \n..                  ...                 ...   \n550 2023-03-30 21:24:00        Jaagrit Tiet   \n551 2023-03-30 21:24:00        Kushang Garg   \n552 2023-03-30 21:24:00        Jaagrit Tiet   \n553 2023-03-30 21:25:00        Kushang Garg   \n554 2023-03-31 23:54:00        Jaagrit Tiet   \n\n                                              messages  year    month  date  \\\n0    Messages and calls are end-to-end encrypted. N...  2022  January     3   \n1                                    <Media omitted>\\n  2022  January     3   \n2                                    <Media omitted>\\n  2022  January     3   \n3                        Bhai iska 3 nd 4part btaiyo\\n  2022  January     3   \n4                                             10 min\\n  2022  January     3   \n..                                                 ...   ...      ...   ...   \n550                             na ek km na ek zyada\\n  2023    March    30   \n551                        Itne bhai acc mei hai nhi\\n  2023    March    30   \n552                                               😂😂\\n  2023    March    30   \n553                                  <Media omitted>\\n  2023    March    30   \n554                                  <Media omitted>\\n  2023    March    31   \n\n     hour  minute  \n0      21      59  \n1      21      59  \n2      21      59  \n3      21      59  \n4      22       0  \n..    ...     ...  \n550    21      24  \n551    21      24  \n552    21      24  \n553    21      25  \n554    23      54  \n\n[555 rows x 8 columns]",
      "text/html": "<div>\n<style scoped>\n    .dataframe tbody tr th:only-of-type {\n        vertical-align: middle;\n    }\n\n    .dataframe tbody tr th {\n        vertical-align: top;\n    }\n\n    .dataframe thead th {\n        text-align: right;\n    }\n</style>\n<table border=\"1\" class=\"dataframe\">\n  <thead>\n    <tr style=\"text-align: right;\">\n      <th></th>\n      <th>message_date</th>\n      <th>users</th>\n      <th>messages</th>\n      <th>year</th>\n      <th>month</th>\n      <th>date</th>\n      <th>hour</th>\n      <th>minute</th>\n    </tr>\n  </thead>\n  <tbody>\n    <tr>\n      <th>0</th>\n      <td>2022-01-03 21:59:00</td>\n      <td>group_notification</td>\n      <td>Messages and calls are end-to-end encrypted. N...</td>\n      <td>2022</td>\n      <td>January</td>\n      <td>3</td>\n      <td>21</td>\n      <td>59</td>\n    </tr>\n    <tr>\n      <th>1</th>\n      <td>2022-01-03 21:59:00</td>\n      <td>Kushang Garg</td>\n      <td>&lt;Media omitted&gt;\\n</td>\n      <td>2022</td>\n      <td>January</td>\n      <td>3</td>\n      <td>21</td>\n      <td>59</td>\n    </tr>\n    <tr>\n      <th>2</th>\n      <td>2022-01-03 21:59:00</td>\n      <td>Kushang Garg</td>\n      <td>&lt;Media omitted&gt;\\n</td>\n      <td>2022</td>\n      <td>January</td>\n      <td>3</td>\n      <td>21</td>\n      <td>59</td>\n    </tr>\n    <tr>\n      <th>3</th>\n      <td>2022-01-03 21:59:00</td>\n      <td>Kushang Garg</td>\n      <td>Bhai iska 3 nd 4part btaiyo\\n</td>\n      <td>2022</td>\n      <td>January</td>\n      <td>3</td>\n      <td>21</td>\n      <td>59</td>\n    </tr>\n    <tr>\n      <th>4</th>\n      <td>2022-01-03 22:00:00</td>\n      <td>Jaagrit Tiet</td>\n      <td>10 min\\n</td>\n      <td>2022</td>\n      <td>January</td>\n      <td>3</td>\n      <td>22</td>\n      <td>0</td>\n    </tr>\n    <tr>\n      <th>...</th>\n      <td>...</td>\n      <td>...</td>\n      <td>...</td>\n      <td>...</td>\n      <td>...</td>\n      <td>...</td>\n      <td>...</td>\n      <td>...</td>\n    </tr>\n    <tr>\n      <th>550</th>\n      <td>2023-03-30 21:24:00</td>\n      <td>Jaagrit Tiet</td>\n      <td>na ek km na ek zyada\\n</td>\n      <td>2023</td>\n      <td>March</td>\n      <td>30</td>\n      <td>21</td>\n      <td>24</td>\n    </tr>\n    <tr>\n      <th>551</th>\n      <td>2023-03-30 21:24:00</td>\n      <td>Kushang Garg</td>\n      <td>Itne bhai acc mei hai nhi\\n</td>\n      <td>2023</td>\n      <td>March</td>\n      <td>30</td>\n      <td>21</td>\n      <td>24</td>\n    </tr>\n    <tr>\n      <th>552</th>\n      <td>2023-03-30 21:24:00</td>\n      <td>Jaagrit Tiet</td>\n      <td>😂😂\\n</td>\n      <td>2023</td>\n      <td>March</td>\n      <td>30</td>\n      <td>21</td>\n      <td>24</td>\n    </tr>\n    <tr>\n      <th>553</th>\n      <td>2023-03-30 21:25:00</td>\n      <td>Kushang Garg</td>\n      <td>&lt;Media omitted&gt;\\n</td>\n      <td>2023</td>\n      <td>March</td>\n      <td>30</td>\n      <td>21</td>\n      <td>25</td>\n    </tr>\n    <tr>\n      <th>554</th>\n      <td>2023-03-31 23:54:00</td>\n      <td>Jaagrit Tiet</td>\n      <td>&lt;Media omitted&gt;\\n</td>\n      <td>2023</td>\n      <td>March</td>\n      <td>31</td>\n      <td>23</td>\n      <td>54</td>\n    </tr>\n  </tbody>\n</table>\n<p>555 rows × 8 columns</p>\n</div>"
     },
     "execution_count": 43,
     "metadata": {},
     "output_type": "execute_result"
    }
   ],
   "source": [
    "hours = df['message_date'].dt.hour\n",
    "minute = df['message_date'].dt.minute\n",
    "df['hour']=hours\n",
    "df['minute']=minute\n",
    "df"
   ]
  },
  {
   "cell_type": "code",
   "execution_count": 44,
   "metadata": {
    "ExecuteTime": {
     "end_time": "2023-07-26T07:59:16.494169500Z",
     "start_time": "2023-07-26T07:59:16.315935600Z"
    }
   },
   "outputs": [
    {
     "data": {
      "text/plain": "3"
     },
     "execution_count": 44,
     "metadata": {},
     "output_type": "execute_result"
    }
   ],
   "source": [
    "Users5 =df['users'].unique().tolist()\n",
    "k = len(Users5)\n"
   ]
  },
  {
   "cell_type": "code",
   "execution_count": 45,
   "metadata": {
    "ExecuteTime": {
     "end_time": "2023-07-26T07:59:16.501178200Z",
     "start_time": "2023-07-26T07:59:16.330083100Z"
    }
   },
   "outputs": [],
   "source": [
    "words =[]\n",
    "for message in df['messages']:\n",
    "    words.append(message.split())"
   ]
  },
  {
   "cell_type": "code",
   "execution_count": 46,
   "metadata": {
    "ExecuteTime": {
     "end_time": "2023-07-26T07:59:16.574442400Z",
     "start_time": "2023-07-26T07:59:16.342377600Z"
    }
   },
   "outputs": [
    {
     "data": {
      "text/plain": "555"
     },
     "execution_count": 46,
     "metadata": {},
     "output_type": "execute_result"
    }
   ],
   "source": [
    "len(words)"
   ]
  },
  {
   "cell_type": "code",
   "execution_count": 47,
   "metadata": {
    "ExecuteTime": {
     "end_time": "2023-07-26T07:59:16.635563500Z",
     "start_time": "2023-07-26T07:59:16.356991700Z"
    }
   },
   "outputs": [],
   "source": [
    "from urlextract import URLExtract\n",
    "extractor =URLExtract()"
   ]
  },
  {
   "cell_type": "code",
   "execution_count": 48,
   "metadata": {
    "ExecuteTime": {
     "end_time": "2023-07-26T07:59:16.893937900Z",
     "start_time": "2023-07-26T07:59:16.403726100Z"
    }
   },
   "outputs": [],
   "source": [
    "links =[]\n",
    "for message in df['messages']:\n",
    "    links.extend(extractor.find_urls(message))\n"
   ]
  },
  {
   "cell_type": "code",
   "execution_count": 49,
   "metadata": {
    "ExecuteTime": {
     "end_time": "2023-07-26T07:59:16.926130Z",
     "start_time": "2023-07-26T07:59:16.592442400Z"
    }
   },
   "outputs": [
    {
     "data": {
      "text/plain": "7"
     },
     "execution_count": 49,
     "metadata": {},
     "output_type": "execute_result"
    }
   ],
   "source": [
    "len(links)"
   ]
  },
  {
   "cell_type": "code",
   "execution_count": 66,
   "metadata": {
    "ExecuteTime": {
     "end_time": "2023-07-26T08:25:20.130055Z",
     "start_time": "2023-07-26T08:25:20.089552400Z"
    }
   },
   "outputs": [
    {
     "data": {
      "text/plain": "users\nJaagrit Tiet    310\nKushang Garg    244\nName: count, dtype: int64"
     },
     "execution_count": 66,
     "metadata": {},
     "output_type": "execute_result"
    }
   ],
   "source": [
    "temp = df[df['users']!='group_notification']\n",
    "x = temp['users'].value_counts()\n",
    "x\n",
    "\n"
   ]
  },
  {
   "cell_type": "code",
   "execution_count": 51,
   "metadata": {
    "ExecuteTime": {
     "end_time": "2023-07-26T07:59:17.146023600Z",
     "start_time": "2023-07-26T07:59:16.622812300Z"
    }
   },
   "outputs": [
    {
     "data": {
      "text/plain": "<Figure size 640x480 with 1 Axes>",
      "image/png": "[encoded data removed]"
     },
     "metadata": {},
     "output_type": "display_data"
    }
   ],
   "source": [
    "import matplotlib.pyplot as plt\n",
    "name = x.index\n",
    "count = x.values\n",
    "plt.bar(name, count)\n",
    "plt.xticks(rotation='vertical')\n",
    "plt.show()"
   ]
  },
  {
   "cell_type": "code",
   "execution_count": 52,
   "metadata": {
    "ExecuteTime": {
     "end_time": "2023-07-26T07:59:17.146023600Z",
     "start_time": "2023-07-26T07:59:16.844021300Z"
    }
   },
   "outputs": [
    {
     "data": {
      "text/plain": "        percent  count\n0  Jaagrit Tiet  55.86\n1  Kushang Garg  43.96",
      "text/html": "<div>\n<style scoped>\n    .dataframe tbody tr th:only-of-type {\n        vertical-align: middle;\n    }\n\n    .dataframe tbody tr th {\n        vertical-align: top;\n    }\n\n    .dataframe thead th {\n        text-align: right;\n    }\n</style>\n<table border=\"1\" class=\"dataframe\">\n  <thead>\n    <tr style=\"text-align: right;\">\n      <th></th>\n      <th>percent</th>\n      <th>count</th>\n    </tr>\n  </thead>\n  <tbody>\n    <tr>\n      <th>0</th>\n      <td>Jaagrit Tiet</td>\n      <td>55.86</td>\n    </tr>\n    <tr>\n      <th>1</th>\n      <td>Kushang Garg</td>\n      <td>43.96</td>\n    </tr>\n  </tbody>\n</table>\n</div>"
     },
     "execution_count": 52,
     "metadata": {},
     "output_type": "execute_result"
    }
   ],
   "source": [
    "round((temp['users'].value_counts()/df.shape[0])*100,2).reset_index().rename(columns={'index': 'name', 'users': 'percent'})"
   ]
  },
  {
   "cell_type": "code",
   "execution_count": 53,
   "metadata": {
    "ExecuteTime": {
     "end_time": "2023-07-26T07:59:17.146023600Z",
     "start_time": "2023-07-26T07:59:16.864169200Z"
    }
   },
   "outputs": [],
   "source": [
    "import emoji\n",
    "from collections import Counter"
   ]
  },
  {
   "cell_type": "code",
   "execution_count": 54,
   "metadata": {
    "ExecuteTime": {
     "end_time": "2023-07-26T07:59:17.146023600Z",
     "start_time": "2023-07-26T07:59:16.871750Z"
    }
   },
   "outputs": [],
   "source": [
    "emojis =[]\n",
    "for message in df['messages']:\n",
    "    emojis.extend([c for c in message if c in emoji.EMOJI_DATA])"
   ]
  },
  {
   "cell_type": "code",
   "execution_count": 55,
   "metadata": {
    "ExecuteTime": {
     "end_time": "2023-07-26T07:59:17.146023600Z",
     "start_time": "2023-07-26T07:59:16.886269900Z"
    }
   },
   "outputs": [],
   "source": [
    "emoji_df=pd.DataFrame(Counter(emojis).most_common(len(Counter(emojis))))"
   ]
  },
  {
   "cell_type": "code",
   "execution_count": 56,
   "metadata": {
    "ExecuteTime": {
     "end_time": "2023-07-26T07:59:17.217780700Z",
     "start_time": "2023-07-26T07:59:16.893937900Z"
    }
   },
   "outputs": [
    {
     "data": {
      "text/plain": "    0   1\n0   😂  34\n1   🥳  31\n2   🥂  14\n3   👍   4\n4   😇   4\n5   😏   3\n6   🐥   3\n7   👟   3\n8   😅   3\n9   🎊   3\n10  🤣   2\n11  👦   2\n12  😒   2\n13  ✨   2\n14  💥   2\n15  ☺   2\n16  🐔   1\n17  👀   1\n18  😵   1\n19  💫   1\n20  👨   1\n21  ☠   1\n22  🥷   1\n23  🐸   1\n24  🐭   1\n25  😎   1\n26  🐼   1\n27  🐻   1\n28  ❄   1\n29  🦁   1\n30  🥚   1\n31  🐣   1\n32  🐤   1\n33  🦆   1\n34  🦅   1\n35  🦉   1\n36  🐺   1\n37  🐘   1\n38  🤨   1\n39  💯   1\n40  🍫   1\n41  🤩   1\n42  😛   1\n43  😝   1\n44  🍺   1",
      "text/html": "<div>\n<style scoped>\n    .dataframe tbody tr th:only-of-type {\n        vertical-align: middle;\n    }\n\n    .dataframe tbody tr th {\n        vertical-align: top;\n    }\n\n    .dataframe thead th {\n        text-align: right;\n    }\n</style>\n<table border=\"1\" class=\"dataframe\">\n  <thead>\n    <tr style=\"text-align: right;\">\n      <th></th>\n      <th>0</th>\n      <th>1</th>\n    </tr>\n  </thead>\n  <tbody>\n    <tr>\n      <th>0</th>\n      <td>😂</td>\n      <td>34</td>\n    </tr>\n    <tr>\n      <th>1</th>\n      <td>🥳</td>\n      <td>31</td>\n    </tr>\n    <tr>\n      <th>2</th>\n      <td>🥂</td>\n      <td>14</td>\n    </tr>\n    <tr>\n      <th>3</th>\n      <td>👍</td>\n      <td>4</td>\n    </tr>\n    <tr>\n      <th>4</th>\n      <td>😇</td>\n      <td>4</td>\n    </tr>\n    <tr>\n      <th>5</th>\n      <td>😏</td>\n      <td>3</td>\n    </tr>\n    <tr>\n      <th>6</th>\n      <td>🐥</td>\n      <td>3</td>\n    </tr>\n    <tr>\n      <th>7</th>\n      <td>👟</td>\n      <td>3</td>\n    </tr>\n    <tr>\n      <th>8</th>\n      <td>😅</td>\n      <td>3</td>\n    </tr>\n    <tr>\n      <th>9</th>\n      <td>🎊</td>\n      <td>3</td>\n    </tr>\n    <tr>\n      <th>10</th>\n      <td>🤣</td>\n      <td>2</td>\n    </tr>\n    <tr>\n      <th>11</th>\n      <td>👦</td>\n      <td>2</td>\n    </tr>\n    <tr>\n      <th>12</th>\n      <td>😒</td>\n      <td>2</td>\n    </tr>\n    <tr>\n      <th>13</th>\n      <td>✨</td>\n      <td>2</td>\n    </tr>\n    <tr>\n      <th>14</th>\n      <td>💥</td>\n      <td>2</td>\n    </tr>\n    <tr>\n      <th>15</th>\n      <td>☺</td>\n      <td>2</td>\n    </tr>\n    <tr>\n      <th>16</th>\n      <td>🐔</td>\n      <td>1</td>\n    </tr>\n    <tr>\n      <th>17</th>\n      <td>👀</td>\n      <td>1</td>\n    </tr>\n    <tr>\n      <th>18</th>\n      <td>😵</td>\n      <td>1</td>\n    </tr>\n    <tr>\n      <th>19</th>\n      <td>💫</td>\n      <td>1</td>\n    </tr>\n    <tr>\n      <th>20</th>\n      <td>👨</td>\n      <td>1</td>\n    </tr>\n    <tr>\n      <th>21</th>\n      <td>☠</td>\n      <td>1</td>\n    </tr>\n    <tr>\n      <th>22</th>\n      <td>🥷</td>\n      <td>1</td>\n    </tr>\n    <tr>\n      <th>23</th>\n      <td>🐸</td>\n      <td>1</td>\n    </tr>\n    <tr>\n      <th>24</th>\n      <td>🐭</td>\n      <td>1</td>\n    </tr>\n    <tr>\n      <th>25</th>\n      <td>😎</td>\n      <td>1</td>\n    </tr>\n    <tr>\n      <th>26</th>\n      <td>🐼</td>\n      <td>1</td>\n    </tr>\n    <tr>\n      <th>27</th>\n      <td>🐻</td>\n      <td>1</td>\n    </tr>\n    <tr>\n      <th>28</th>\n      <td>❄</td>\n      <td>1</td>\n    </tr>\n    <tr>\n      <th>29</th>\n      <td>🦁</td>\n      <td>1</td>\n    </tr>\n    <tr>\n      <th>30</th>\n      <td>🥚</td>\n      <td>1</td>\n    </tr>\n    <tr>\n      <th>31</th>\n      <td>🐣</td>\n      <td>1</td>\n    </tr>\n    <tr>\n      <th>32</th>\n      <td>🐤</td>\n      <td>1</td>\n    </tr>\n    <tr>\n      <th>33</th>\n      <td>🦆</td>\n      <td>1</td>\n    </tr>\n    <tr>\n      <th>34</th>\n      <td>🦅</td>\n      <td>1</td>\n    </tr>\n    <tr>\n      <th>35</th>\n      <td>🦉</td>\n      <td>1</td>\n    </tr>\n    <tr>\n      <th>36</th>\n      <td>🐺</td>\n      <td>1</td>\n    </tr>\n    <tr>\n      <th>37</th>\n      <td>🐘</td>\n      <td>1</td>\n    </tr>\n    <tr>\n      <th>38</th>\n      <td>🤨</td>\n      <td>1</td>\n    </tr>\n    <tr>\n      <th>39</th>\n      <td>💯</td>\n      <td>1</td>\n    </tr>\n    <tr>\n      <th>40</th>\n      <td>🍫</td>\n      <td>1</td>\n    </tr>\n    <tr>\n      <th>41</th>\n      <td>🤩</td>\n      <td>1</td>\n    </tr>\n    <tr>\n      <th>42</th>\n      <td>😛</td>\n      <td>1</td>\n    </tr>\n    <tr>\n      <th>43</th>\n      <td>😝</td>\n      <td>1</td>\n    </tr>\n    <tr>\n      <th>44</th>\n      <td>🍺</td>\n      <td>1</td>\n    </tr>\n  </tbody>\n</table>\n</div>"
     },
     "execution_count": 56,
     "metadata": {},
     "output_type": "execute_result"
    }
   ],
   "source": [
    "emoji_df"
   ]
  },
  {
   "cell_type": "code",
   "execution_count": 57,
   "metadata": {
    "ExecuteTime": {
     "end_time": "2023-07-26T07:59:17.421865200Z",
     "start_time": "2023-07-26T07:59:16.921833Z"
    }
   },
   "outputs": [
    {
     "data": {
      "text/plain": "           message_date               users  \\\n0   2022-01-03 21:59:00  group_notification   \n1   2022-01-03 21:59:00        Kushang Garg   \n2   2022-01-03 21:59:00        Kushang Garg   \n3   2022-01-03 21:59:00        Kushang Garg   \n4   2022-01-03 22:00:00        Jaagrit Tiet   \n..                  ...                 ...   \n550 2023-03-30 21:24:00        Jaagrit Tiet   \n551 2023-03-30 21:24:00        Kushang Garg   \n552 2023-03-30 21:24:00        Jaagrit Tiet   \n553 2023-03-30 21:25:00        Kushang Garg   \n554 2023-03-31 23:54:00        Jaagrit Tiet   \n\n                                              messages  year    month  date  \\\n0    Messages and calls are end-to-end encrypted. N...  2022  January     3   \n1                                    <Media omitted>\\n  2022  January     3   \n2                                    <Media omitted>\\n  2022  January     3   \n3                        Bhai iska 3 nd 4part btaiyo\\n  2022  January     3   \n4                                             10 min\\n  2022  January     3   \n..                                                 ...   ...      ...   ...   \n550                             na ek km na ek zyada\\n  2023    March    30   \n551                        Itne bhai acc mei hai nhi\\n  2023    March    30   \n552                                               😂😂\\n  2023    March    30   \n553                                  <Media omitted>\\n  2023    March    30   \n554                                  <Media omitted>\\n  2023    March    31   \n\n     hour  minute  \n0      21      59  \n1      21      59  \n2      21      59  \n3      21      59  \n4      22       0  \n..    ...     ...  \n550    21      24  \n551    21      24  \n552    21      24  \n553    21      25  \n554    23      54  \n\n[555 rows x 8 columns]",
      "text/html": "<div>\n<style scoped>\n    .dataframe tbody tr th:only-of-type {\n        vertical-align: middle;\n    }\n\n    .dataframe tbody tr th {\n        vertical-align: top;\n    }\n\n    .dataframe thead th {\n        text-align: right;\n    }\n</style>\n<table border=\"1\" class=\"dataframe\">\n  <thead>\n    <tr style=\"text-align: right;\">\n      <th></th>\n      <th>message_date</th>\n      <th>users</th>\n      <th>messages</th>\n      <th>year</th>\n      <th>month</th>\n      <th>date</th>\n      <th>hour</th>\n      <th>minute</th>\n    </tr>\n  </thead>\n  <tbody>\n    <tr>\n      <th>0</th>\n      <td>2022-01-03 21:59:00</td>\n      <td>group_notification</td>\n      <td>Messages and calls are end-to-end encrypted. N...</td>\n      <td>2022</td>\n      <td>January</td>\n      <td>3</td>\n      <td>21</td>\n      <td>59</td>\n    </tr>\n    <tr>\n      <th>1</th>\n      <td>2022-01-03 21:59:00</td>\n      <td>Kushang Garg</td>\n      <td>&lt;Media omitted&gt;\\n</td>\n      <td>2022</td>\n      <td>January</td>\n      <td>3</td>\n      <td>21</td>\n      <td>59</td>\n    </tr>\n    <tr>\n      <th>2</th>\n      <td>2022-01-03 21:59:00</td>\n      <td>Kushang Garg</td>\n      <td>&lt;Media omitted&gt;\\n</td>\n      <td>2022</td>\n      <td>January</td>\n      <td>3</td>\n      <td>21</td>\n      <td>59</td>\n    </tr>\n    <tr>\n      <th>3</th>\n      <td>2022-01-03 21:59:00</td>\n      <td>Kushang Garg</td>\n      <td>Bhai iska 3 nd 4part btaiyo\\n</td>\n      <td>2022</td>\n      <td>January</td>\n      <td>3</td>\n      <td>21</td>\n      <td>59</td>\n    </tr>\n    <tr>\n      <th>4</th>\n      <td>2022-01-03 22:00:00</td>\n      <td>Jaagrit Tiet</td>\n      <td>10 min\\n</td>\n      <td>2022</td>\n      <td>January</td>\n      <td>3</td>\n      <td>22</td>\n      <td>0</td>\n    </tr>\n    <tr>\n      <th>...</th>\n      <td>...</td>\n      <td>...</td>\n      <td>...</td>\n      <td>...</td>\n      <td>...</td>\n      <td>...</td>\n      <td>...</td>\n      <td>...</td>\n    </tr>\n    <tr>\n      <th>550</th>\n      <td>2023-03-30 21:24:00</td>\n      <td>Jaagrit Tiet</td>\n      <td>na ek km na ek zyada\\n</td>\n      <td>2023</td>\n      <td>March</td>\n      <td>30</td>\n      <td>21</td>\n      <td>24</td>\n    </tr>\n    <tr>\n      <th>551</th>\n      <td>2023-03-30 21:24:00</td>\n      <td>Kushang Garg</td>\n      <td>Itne bhai acc mei hai nhi\\n</td>\n      <td>2023</td>\n      <td>March</td>\n      <td>30</td>\n      <td>21</td>\n      <td>24</td>\n    </tr>\n    <tr>\n      <th>552</th>\n      <td>2023-03-30 21:24:00</td>\n      <td>Jaagrit Tiet</td>\n      <td>😂😂\\n</td>\n      <td>2023</td>\n      <td>March</td>\n      <td>30</td>\n      <td>21</td>\n      <td>24</td>\n    </tr>\n    <tr>\n      <th>553</th>\n      <td>2023-03-30 21:25:00</td>\n      <td>Kushang Garg</td>\n      <td>&lt;Media omitted&gt;\\n</td>\n      <td>2023</td>\n      <td>March</td>\n      <td>30</td>\n      <td>21</td>\n      <td>25</td>\n    </tr>\n    <tr>\n      <th>554</th>\n      <td>2023-03-31 23:54:00</td>\n      <td>Jaagrit Tiet</td>\n      <td>&lt;Media omitted&gt;\\n</td>\n      <td>2023</td>\n      <td>March</td>\n      <td>31</td>\n      <td>23</td>\n      <td>54</td>\n    </tr>\n  </tbody>\n</table>\n<p>555 rows × 8 columns</p>\n</div>"
     },
     "execution_count": 57,
     "metadata": {},
     "output_type": "execute_result"
    }
   ],
   "source": [
    "df"
   ]
  },
  {
   "cell_type": "code",
   "execution_count": 58,
   "metadata": {
    "ExecuteTime": {
     "end_time": "2023-07-26T07:59:17.421865200Z",
     "start_time": "2023-07-26T07:59:16.944389300Z"
    }
   },
   "outputs": [],
   "source": [
    "df['month_num'] = df['message_date'].dt.month\n",
    "timeline=df.groupby(['year', 'month_num', 'month']).count()['messages'].reset_index()\n"
   ]
  },
  {
   "cell_type": "code",
   "execution_count": 59,
   "metadata": {
    "ExecuteTime": {
     "end_time": "2023-07-26T07:59:17.421865200Z",
     "start_time": "2023-07-26T07:59:16.961024700Z"
    }
   },
   "outputs": [],
   "source": [
    "time =[]\n",
    "for i in range(timeline.shape[0]):\n",
    "    time.append(timeline['month'][i] + \"-\" + str(timeline['year'][i]))"
   ]
  },
  {
   "cell_type": "code",
   "execution_count": 60,
   "metadata": {
    "ExecuteTime": {
     "end_time": "2023-07-26T07:59:17.421865200Z",
     "start_time": "2023-07-26T07:59:16.968135700Z"
    }
   },
   "outputs": [
    {
     "data": {
      "text/plain": "['January-2022',\n 'February-2022',\n 'March-2022',\n 'April-2022',\n 'May-2022',\n 'June-2022',\n 'August-2022',\n 'September-2022',\n 'October-2022',\n 'November-2022',\n 'December-2022',\n 'January-2023',\n 'February-2023',\n 'March-2023']"
     },
     "execution_count": 60,
     "metadata": {},
     "output_type": "execute_result"
    }
   ],
   "source": [
    "time"
   ]
  },
  {
   "cell_type": "code",
   "execution_count": 61,
   "metadata": {
    "ExecuteTime": {
     "end_time": "2023-07-26T07:59:17.421865200Z",
     "start_time": "2023-07-26T07:59:16.973462Z"
    }
   },
   "outputs": [
    {
     "data": {
      "text/plain": "    year  month_num      month  messages            time\n0   2022          1    January        19    January-2022\n1   2022          2   February         9   February-2022\n2   2022          3      March        12      March-2022\n3   2022          4      April         6      April-2022\n4   2022          5        May        37        May-2022\n5   2022          6       June         1       June-2022\n6   2022          8     August        89     August-2022\n7   2022          9  September        64  September-2022\n8   2022         10    October        84    October-2022\n9   2022         11   November        76   November-2022\n10  2022         12   December        70   December-2022\n11  2023          1    January         6    January-2023\n12  2023          2   February        31   February-2023\n13  2023          3      March        51      March-2023",
      "text/html": "<div>\n<style scoped>\n    .dataframe tbody tr th:only-of-type {\n        vertical-align: middle;\n    }\n\n    .dataframe tbody tr th {\n        vertical-align: top;\n    }\n\n    .dataframe thead th {\n        text-align: right;\n    }\n</style>\n<table border=\"1\" class=\"dataframe\">\n  <thead>\n    <tr style=\"text-align: right;\">\n      <th></th>\n      <th>year</th>\n      <th>month_num</th>\n      <th>month</th>\n      <th>messages</th>\n      <th>time</th>\n    </tr>\n  </thead>\n  <tbody>\n    <tr>\n      <th>0</th>\n      <td>2022</td>\n      <td>1</td>\n      <td>January</td>\n      <td>19</td>\n      <td>January-2022</td>\n    </tr>\n    <tr>\n      <th>1</th>\n      <td>2022</td>\n      <td>2</td>\n      <td>February</td>\n      <td>9</td>\n      <td>February-2022</td>\n    </tr>\n    <tr>\n      <th>2</th>\n      <td>2022</td>\n      <td>3</td>\n      <td>March</td>\n      <td>12</td>\n      <td>March-2022</td>\n    </tr>\n    <tr>\n      <th>3</th>\n      <td>2022</td>\n      <td>4</td>\n      <td>April</td>\n      <td>6</td>\n      <td>April-2022</td>\n    </tr>\n    <tr>\n      <th>4</th>\n      <td>2022</td>\n      <td>5</td>\n      <td>May</td>\n      <td>37</td>\n      <td>May-2022</td>\n    </tr>\n    <tr>\n      <th>5</th>\n      <td>2022</td>\n      <td>6</td>\n      <td>June</td>\n      <td>1</td>\n      <td>June-2022</td>\n    </tr>\n    <tr>\n      <th>6</th>\n      <td>2022</td>\n      <td>8</td>\n      <td>August</td>\n      <td>89</td>\n      <td>August-2022</td>\n    </tr>\n    <tr>\n      <th>7</th>\n      <td>2022</td>\n      <td>9</td>\n      <td>September</td>\n      <td>64</td>\n      <td>September-2022</td>\n    </tr>\n    <tr>\n      <th>8</th>\n      <td>2022</td>\n      <td>10</td>\n      <td>October</td>\n      <td>84</td>\n      <td>October-2022</td>\n    </tr>\n    <tr>\n      <th>9</th>\n      <td>2022</td>\n      <td>11</td>\n      <td>November</td>\n      <td>76</td>\n      <td>November-2022</td>\n    </tr>\n    <tr>\n      <th>10</th>\n      <td>2022</td>\n      <td>12</td>\n      <td>December</td>\n      <td>70</td>\n      <td>December-2022</td>\n    </tr>\n    <tr>\n      <th>11</th>\n      <td>2023</td>\n      <td>1</td>\n      <td>January</td>\n      <td>6</td>\n      <td>January-2023</td>\n    </tr>\n    <tr>\n      <th>12</th>\n      <td>2023</td>\n      <td>2</td>\n      <td>February</td>\n      <td>31</td>\n      <td>February-2023</td>\n    </tr>\n    <tr>\n      <th>13</th>\n      <td>2023</td>\n      <td>3</td>\n      <td>March</td>\n      <td>51</td>\n      <td>March-2023</td>\n    </tr>\n  </tbody>\n</table>\n</div>"
     },
     "execution_count": 61,
     "metadata": {},
     "output_type": "execute_result"
    }
   ],
   "source": [
    "timeline['time'] = time\n",
    "timeline"
   ]
  },
  {
   "cell_type": "code",
   "execution_count": 62,
   "metadata": {
    "ExecuteTime": {
     "end_time": "2023-07-26T07:59:17.563590400Z",
     "start_time": "2023-07-26T07:59:16.990426200Z"
    }
   },
   "outputs": [
    {
     "data": {
      "text/plain": "<Figure size 640x480 with 1 Axes>",
      "image/png": "[encoded data removed]"
     },
     "metadata": {},
     "output_type": "display_data"
    }
   ],
   "source": [
    "plt.plot(timeline['time'], timeline['messages'])\n",
    "plt.xticks(rotation='vertical')\n",
    "plt.show()"
   ]
  },
  {
   "cell_type": "code",
   "execution_count": 63,
   "metadata": {
    "ExecuteTime": {
     "end_time": "2023-07-26T07:59:17.563590400Z",
     "start_time": "2023-07-26T07:59:17.201733900Z"
    }
   },
   "outputs": [],
   "source": [
    "df['day'] =df['message_date'].dt.day_name()"
   ]
  },
  {
   "cell_type": "code",
   "execution_count": 64,
   "metadata": {
    "ExecuteTime": {
     "end_time": "2023-07-26T07:59:17.563590400Z",
     "start_time": "2023-07-26T07:59:17.205844600Z"
    }
   },
   "outputs": [
    {
     "data": {
      "text/plain": "day\nMonday       218\nSaturday     129\nTuesday       65\nThursday      57\nSunday        39\nWednesday     37\nFriday        10\nName: count, dtype: int64"
     },
     "execution_count": 64,
     "metadata": {},
     "output_type": "execute_result"
    }
   ],
   "source": [
    "df['day'].value_counts()"
   ]
  }
 ],
 "metadata": {
  "kernelspec": {
   "display_name": "Python 3",
   "language": "python",
   "name": "python3"
  },
  "language_info": {
   "codemirror_mode": {
    "name": "ipython",
    "version": 3
   },
   "file_extension": ".py",
   "mimetype": "text/x-python",
   "name": "python",
   "nbconvert_exporter": "python",
   "pygments_lexer": "ipython3",
   "version": "3.11.4"
  },
  "orig_nbformat": 4,
  "vscode": {
   "interpreter": {
    "hash": "db2177262650f383796a515bc8ebb16bbac2ccb9ef7b2fde4faa7ce19916136d"
   }
  }
 },
 "nbformat": 4,
 "nbformat_minor": 2
}
